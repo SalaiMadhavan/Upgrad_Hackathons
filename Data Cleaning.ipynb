{
 "cells": [
  {
   "cell_type": "code",
   "execution_count": 1,
   "metadata": {},
   "outputs": [],
   "source": [
    "import pandas as pd\n",
    "import numpy as np\n",
    "\n",
    "import warnings \n",
    "warnings.filterwarnings('ignore')"
   ]
  },
  {
   "cell_type": "code",
   "execution_count": 2,
   "metadata": {},
   "outputs": [],
   "source": [
    "team = pd.read_excel('team_data.xlsx')\n",
    "match = pd.read_excel('match_data.xlsx')"
   ]
  },
  {
   "cell_type": "markdown",
   "metadata": {},
   "source": [
    "#### Match Data"
   ]
  },
  {
   "cell_type": "code",
   "execution_count": 3,
   "metadata": {},
   "outputs": [
    {
     "data": {
      "text/plain": [
       "(711, 12)"
      ]
     },
     "execution_count": 3,
     "metadata": {},
     "output_type": "execute_result"
    }
   ],
   "source": [
    "match.shape"
   ]
  },
  {
   "cell_type": "code",
   "execution_count": 4,
   "metadata": {},
   "outputs": [
    {
     "data": {
      "text/plain": [
       "Index(['match_id', 'match_name', 'date', 'start_time', 'gmtoffset',\n",
       "       'winning_team', 'outcome', 'value', 'winning_method', 'toss_winner',\n",
       "       'toss_selection', 'venue'],\n",
       "      dtype='object')"
      ]
     },
     "execution_count": 4,
     "metadata": {},
     "output_type": "execute_result"
    }
   ],
   "source": [
    "match.columns"
   ]
  },
  {
   "cell_type": "code",
   "execution_count": 5,
   "metadata": {},
   "outputs": [
    {
     "data": {
      "text/plain": [
       "match_id            0\n",
       "match_name          0\n",
       "date                0\n",
       "start_time          0\n",
       "gmtoffset           0\n",
       "winning_team       68\n",
       "outcome           711\n",
       "value               5\n",
       "winning_method    711\n",
       "toss_winner         0\n",
       "toss_selection      0\n",
       "venue               0\n",
       "dtype: int64"
      ]
     },
     "execution_count": 5,
     "metadata": {},
     "output_type": "execute_result"
    }
   ],
   "source": [
    "match.isnull().sum()"
   ]
  },
  {
   "cell_type": "code",
   "execution_count": 6,
   "metadata": {},
   "outputs": [],
   "source": [
    "match.drop(['outcome','winning_method'],axis=1,inplace=True)"
   ]
  },
  {
   "cell_type": "code",
   "execution_count": 7,
   "metadata": {},
   "outputs": [],
   "source": [
    "match['winning_team'].fillna('DRAW',inplace=True)"
   ]
  },
  {
   "cell_type": "code",
   "execution_count": 8,
   "metadata": {},
   "outputs": [],
   "source": [
    "match['value'].fillna('DRAW',inplace=True)"
   ]
  },
  {
   "cell_type": "code",
   "execution_count": 9,
   "metadata": {},
   "outputs": [
    {
     "data": {
      "text/plain": [
       "match_id          0\n",
       "match_name        0\n",
       "date              0\n",
       "start_time        0\n",
       "gmtoffset         0\n",
       "winning_team      0\n",
       "value             0\n",
       "toss_winner       0\n",
       "toss_selection    0\n",
       "venue             0\n",
       "dtype: int64"
      ]
     },
     "execution_count": 9,
     "metadata": {},
     "output_type": "execute_result"
    }
   ],
   "source": [
    "match.isnull().sum()"
   ]
  },
  {
   "cell_type": "code",
   "execution_count": 10,
   "metadata": {},
   "outputs": [],
   "source": [
    "team_dict={1:'Bengaluru Bulls',2:'Dabang Delhi K.C.',3:'Jaipur Pink Panthers',4:'Bengal Warriors',\n",
    "5:'U Mumba',6:'Patna Pirates',7:'Puneri Paltan',8:'Telugu Titans',9:'Fire birds',10:'Storm Queens',\n",
    "11:'Ice Divas',12:'India',13:'Republic of Korea',14:'Bangladesh',15:'Australia',16:'England',\n",
    "17:'Argentina',18:'Iran',19:'Thailand',20:'Japan',21:'USA',22:'Kenya',23:'Poland',24:'Indian Railways',\n",
    "25:'Haryana',26:'Services SSCB',27:'Maharashtra',28:'Haryana Steelers',29:'Tamil Thalaivas',\n",
    "30:'U.P. Yoddha',31:'Gujarat Fortunegiants',167:'Pakistan',172:'Sri Lanka',173:'India Women',\n",
    " 181:'Chinese Taipei Women',236:'Pune Pride',238:'Diler Delhi',239:'Chennai Challengers',\n",
    "240:'Bangalore Rhinos',241:'Telugu Bulls',242:'Mumbai Che Raje',243:'Haryana Heros'}"
   ]
  },
  {
   "cell_type": "code",
   "execution_count": 11,
   "metadata": {},
   "outputs": [],
   "source": [
    "match['toss_winner'] = match['toss_winner'].map(team_dict)"
   ]
  },
  {
   "cell_type": "code",
   "execution_count": 12,
   "metadata": {},
   "outputs": [],
   "source": [
    "match['toss_choice'] = match['toss_selection'].apply(lambda x : x.split(':')[0])"
   ]
  },
  {
   "cell_type": "code",
   "execution_count": 13,
   "metadata": {},
   "outputs": [],
   "source": [
    "match['toss_direction'] = match['toss_selection'].apply(lambda x : x.split(':')[1])"
   ]
  },
  {
   "cell_type": "code",
   "execution_count": 14,
   "metadata": {},
   "outputs": [],
   "source": [
    "match.drop('toss_selection',axis=1,inplace=True)"
   ]
  },
  {
   "cell_type": "code",
   "execution_count": 15,
   "metadata": {},
   "outputs": [],
   "source": [
    "match['value'] = match['value'].apply(lambda x : x[x.find('(')+1:x.find(')')])"
   ]
  },
  {
   "cell_type": "code",
   "execution_count": 16,
   "metadata": {},
   "outputs": [],
   "source": [
    "match['winning_score'] = match['value'].apply(lambda x : x.split('-')[0])"
   ]
  },
  {
   "cell_type": "code",
   "execution_count": 17,
   "metadata": {},
   "outputs": [],
   "source": [
    "match['loosing_score'] = match['value'].apply(lambda x : x.split('-')[-1])"
   ]
  },
  {
   "cell_type": "code",
   "execution_count": 18,
   "metadata": {},
   "outputs": [],
   "source": [
    "match.drop('value',axis=1,inplace=True)"
   ]
  },
  {
   "cell_type": "code",
   "execution_count": 19,
   "metadata": {},
   "outputs": [],
   "source": [
    "match['Year'] = match['date'].apply(lambda x : x[-4:])\n",
    "match['Year'] = match['Year'].astype('int')"
   ]
  },
  {
   "cell_type": "code",
   "execution_count": 20,
   "metadata": {},
   "outputs": [],
   "source": [
    "match['Month'] = match['date'].apply(lambda x : x[:x.find('/')])\n",
    "match['Month'] = match['Month'].apply(lambda x : x[:x.find('-')] if len(x) > 1 else x)\n",
    "match['Month'] = match['Month'].astype('int')"
   ]
  },
  {
   "cell_type": "code",
   "execution_count": 21,
   "metadata": {},
   "outputs": [],
   "source": [
    "match['Season'] = match['Year'].map({2014:'Season 1',2015:'Season 2',2016:'Season 34',2017:'Season 5',2018:'Season 6',2019:'Season 7'})"
   ]
  },
  {
   "cell_type": "code",
   "execution_count": 22,
   "metadata": {},
   "outputs": [],
   "source": [
    "for i in range(0,len(match)):\n",
    "    if (match.loc[i,'Season'] == 'Season 34') and (match.loc[i,'Month'] < 6):\n",
    "        match.loc[i,'Season'] = 'Season 3'\n",
    "    elif match.loc[i,'Season'] == 'Season 34':\n",
    "        match.loc[i,'Season'] = 'Season 4'"
   ]
  },
  {
   "cell_type": "code",
   "execution_count": 23,
   "metadata": {},
   "outputs": [],
   "source": [
    "match = match[match['toss_winner'].isin(['U Mumba', 'Dabang Delhi K.C.', 'Bengaluru Bulls',\n",
    "       'Bengal Warriors', 'Puneri Paltan', 'Telugu Titans',\n",
    "       'Jaipur Pink Panthers', 'Patna Pirates','Haryana Steelers', 'Gujarat Fortunegiants', 'U.P. Yoddha',\n",
    "       'Tamil Thalaivas'])]"
   ]
  },
  {
   "cell_type": "code",
   "execution_count": 24,
   "metadata": {},
   "outputs": [
    {
     "data": {
      "text/plain": [
       "(636, 15)"
      ]
     },
     "execution_count": 24,
     "metadata": {},
     "output_type": "execute_result"
    }
   ],
   "source": [
    "match.shape"
   ]
  },
  {
   "cell_type": "code",
   "execution_count": 25,
   "metadata": {},
   "outputs": [],
   "source": [
    "match.drop(['match_name','gmtoffset'],axis=1,inplace=True)"
   ]
  },
  {
   "cell_type": "code",
   "execution_count": 26,
   "metadata": {},
   "outputs": [],
   "source": [
    "team_detail = team.merge(match,on='match_id',how='left')"
   ]
  },
  {
   "cell_type": "code",
   "execution_count": 27,
   "metadata": {},
   "outputs": [
    {
     "data": {
      "text/plain": [
       "(1422, 35)"
      ]
     },
     "execution_count": 27,
     "metadata": {},
     "output_type": "execute_result"
    }
   ],
   "source": [
    "team_detail.shape"
   ]
  },
  {
   "cell_type": "code",
   "execution_count": 28,
   "metadata": {},
   "outputs": [
    {
     "data": {
      "text/plain": [
       "match_id                              0\n",
       "home_team_id                        898\n",
       "home_team_name                      898\n",
       "Team_id                               0\n",
       "Team_name                             0\n",
       "Team_short_name                       0\n",
       "Team_Points_total                     0\n",
       "Team_Points_all_out                   0\n",
       "Team_Points_extras                    0\n",
       "Team_Points_declare                   0\n",
       "Team_Raid_Points_total                0\n",
       "Team_Raid_Points_touch                0\n",
       "Team_Raid_Points_raid_bonus           0\n",
       "Team_Tackle_Points_total              0\n",
       "Team_Tackle_Points_capture            0\n",
       "Team_Tackle_Points_capture_bonus      0\n",
       "Team_Raids_total                      0\n",
       "Team_Raids_successful                 0\n",
       "Team_Raids_unsuccessful               0\n",
       "Team_Raids_Empty                      0\n",
       "Team_Tackles_total                    0\n",
       "Team_Tackles_successful               0\n",
       "Team_Tackles_unsuccessful             0\n",
       "date                                150\n",
       "start_time                          150\n",
       "winning_team                        150\n",
       "toss_winner                         150\n",
       "venue                               150\n",
       "toss_choice                         150\n",
       "toss_direction                      150\n",
       "winning_score                       150\n",
       "loosing_score                       150\n",
       "Year                                150\n",
       "Month                               150\n",
       "Season                              150\n",
       "dtype: int64"
      ]
     },
     "execution_count": 28,
     "metadata": {},
     "output_type": "execute_result"
    }
   ],
   "source": [
    "team_detail.isnull().sum()"
   ]
  },
  {
   "cell_type": "code",
   "execution_count": 29,
   "metadata": {},
   "outputs": [],
   "source": [
    "team_detail.drop(team_detail[team_detail['date'].isnull()].index,inplace=True)"
   ]
  },
  {
   "cell_type": "code",
   "execution_count": 30,
   "metadata": {},
   "outputs": [],
   "source": [
    "team_detail.drop('home_team_id',axis=1,inplace=True)"
   ]
  },
  {
   "cell_type": "code",
   "execution_count": 31,
   "metadata": {},
   "outputs": [],
   "source": [
    "team_detail.fillna('None',inplace=True)"
   ]
  },
  {
   "cell_type": "code",
   "execution_count": 32,
   "metadata": {},
   "outputs": [
    {
     "data": {
      "text/plain": [
       "match_id                            0\n",
       "home_team_name                      0\n",
       "Team_id                             0\n",
       "Team_name                           0\n",
       "Team_short_name                     0\n",
       "Team_Points_total                   0\n",
       "Team_Points_all_out                 0\n",
       "Team_Points_extras                  0\n",
       "Team_Points_declare                 0\n",
       "Team_Raid_Points_total              0\n",
       "Team_Raid_Points_touch              0\n",
       "Team_Raid_Points_raid_bonus         0\n",
       "Team_Tackle_Points_total            0\n",
       "Team_Tackle_Points_capture          0\n",
       "Team_Tackle_Points_capture_bonus    0\n",
       "Team_Raids_total                    0\n",
       "Team_Raids_successful               0\n",
       "Team_Raids_unsuccessful             0\n",
       "Team_Raids_Empty                    0\n",
       "Team_Tackles_total                  0\n",
       "Team_Tackles_successful             0\n",
       "Team_Tackles_unsuccessful           0\n",
       "date                                0\n",
       "start_time                          0\n",
       "winning_team                        0\n",
       "toss_winner                         0\n",
       "venue                               0\n",
       "toss_choice                         0\n",
       "toss_direction                      0\n",
       "winning_score                       0\n",
       "loosing_score                       0\n",
       "Year                                0\n",
       "Month                               0\n",
       "Season                              0\n",
       "dtype: int64"
      ]
     },
     "execution_count": 32,
     "metadata": {},
     "output_type": "execute_result"
    }
   ],
   "source": [
    "team_detail.isnull().sum()"
   ]
  },
  {
   "cell_type": "code",
   "execution_count": 33,
   "metadata": {},
   "outputs": [],
   "source": [
    "team_detail.index = range(0,len(team_detail))"
   ]
  },
  {
   "cell_type": "code",
   "execution_count": 34,
   "metadata": {},
   "outputs": [
    {
     "data": {
      "text/plain": [
       "array(['45 ', '47 ', '40 ', '36 ', '35 ', '46 ', '42 ', '38 ', '39 ',\n",
       "       '33 ', '44 ', '37 ', '49 ', '30 ', '29 ', '50 ', '28 ', '41 ',\n",
       "       '52 ', '60 ', '31 ', '34 ', '32 ', '27 ', '29', '33', '36', '45',\n",
       "       '25', '28', '31', '32', '38', '27', '35', '34', '39', 'Match Tie',\n",
       "       '44', '54', '20', '30', '51', '40', '43', '46', '26', '47', '67',\n",
       "       '41', '37', '42', 'DRA', '24', '64', '58', '53', '23', '69', '55',\n",
       "       '48', '50', '22', '60'], dtype=object)"
      ]
     },
     "execution_count": 34,
     "metadata": {},
     "output_type": "execute_result"
    }
   ],
   "source": [
    "team_detail['winning_score'].unique()"
   ]
  },
  {
   "cell_type": "code",
   "execution_count": 35,
   "metadata": {},
   "outputs": [
    {
     "data": {
      "text/plain": [
       "array([' 31', ' 28', ' 37', ' 25', ' 35', ' 33', ' 30', ' 32', ' 40',\n",
       "       ' 18', ' 29', ' 34', ' 36', ' 27', ' 23', ' 43', ' 24', ' 26',\n",
       "       ' 22', '28', '25', '27', '23', '24', '20', '21', '26', '30', '37',\n",
       "       '18', '22', '29', 'Match Tie', '32', '17', '38', '34', '31', '36',\n",
       "       '41', '19', 'DRA', '33', '15', '35', '42', '39', '16', '44', '40'],\n",
       "      dtype=object)"
      ]
     },
     "execution_count": 35,
     "metadata": {},
     "output_type": "execute_result"
    }
   ],
   "source": [
    "team_detail['loosing_score'].unique()"
   ]
  },
  {
   "cell_type": "code",
   "execution_count": 36,
   "metadata": {},
   "outputs": [],
   "source": [
    "for i in range(0,len(team_detail)):\n",
    "    if team_detail.loc[i,'winning_score'] in ['Match Tie','DRA']:\n",
    "        team_detail.loc[i,'winning_score'] = team_detail.loc[i,'Team_Points_total']\n",
    "        team_detail.loc[i,'loosing_score'] = team_detail.loc[i,'Team_Points_total']"
   ]
  },
  {
   "cell_type": "code",
   "execution_count": 37,
   "metadata": {},
   "outputs": [
    {
     "data": {
      "text/plain": [
       "array(['45 ', '47 ', '40 ', '36 ', '35 ', '46 ', '42 ', '38 ', '39 ',\n",
       "       '33 ', '44 ', '37 ', '49 ', '30 ', '29 ', '50 ', '28 ', '41 ',\n",
       "       '52 ', '60 ', '31 ', '34 ', '32 ', '27 ', '29', '33', '36', '45',\n",
       "       '25', '28', '31', '32', '38', '27', '35', '34', '39', 20, 39, '44',\n",
       "       '54', 29, '20', '30', '51', 45, '40', '43', '46', '26', 30, '47',\n",
       "       32, 28, '67', '41', 21, '37', '42', 12, 25, '24', 27, 34, 26, 33,\n",
       "       36, '64', 31, 41, 37, '58', '53', '23', '69', '55', '48', 40, '50',\n",
       "       35, 8, 11, 16, 5, 2, '22', 42, '60'], dtype=object)"
      ]
     },
     "execution_count": 37,
     "metadata": {},
     "output_type": "execute_result"
    }
   ],
   "source": [
    "team_detail['winning_score'].unique()"
   ]
  },
  {
   "cell_type": "code",
   "execution_count": 38,
   "metadata": {},
   "outputs": [
    {
     "data": {
      "text/plain": [
       "array([' 31', ' 28', ' 37', ' 25', ' 35', ' 33', ' 30', ' 32', ' 40',\n",
       "       ' 18', ' 29', ' 34', ' 36', ' 27', ' 23', ' 43', ' 24', ' 26',\n",
       "       ' 22', '28', '25', '27', '23', '24', '20', '21', '26', '30', '37',\n",
       "       '18', '22', '29', 20, 39, '32', 29, '17', 45, '38', '34', '31', 30,\n",
       "       32, 28, '36', 21, '41', '19', 12, 25, 27, '33', '15', 34, '35', 26,\n",
       "       '42', 33, 36, 31, 41, 37, '39', '16', '44', 40, 35, 8, 11, 16, 5,\n",
       "       2, '40', 42], dtype=object)"
      ]
     },
     "execution_count": 38,
     "metadata": {},
     "output_type": "execute_result"
    }
   ],
   "source": [
    "team_detail['loosing_score'].unique()"
   ]
  },
  {
   "cell_type": "code",
   "execution_count": 39,
   "metadata": {},
   "outputs": [],
   "source": [
    "team_detail['winning_score'] = team_detail['winning_score'].astype('int')\n",
    "team_detail['loosing_score'] = team_detail['loosing_score'].astype('int')"
   ]
  },
  {
   "cell_type": "code",
   "execution_count": 40,
   "metadata": {},
   "outputs": [],
   "source": [
    "team_detail['Year'] = team_detail['Year'].astype('int')\n",
    "team_detail['Month'] = team_detail['Month'].astype('int')"
   ]
  },
  {
   "cell_type": "code",
   "execution_count": 41,
   "metadata": {},
   "outputs": [
    {
     "data": {
      "text/html": [
       "<div>\n",
       "<style scoped>\n",
       "    .dataframe tbody tr th:only-of-type {\n",
       "        vertical-align: middle;\n",
       "    }\n",
       "\n",
       "    .dataframe tbody tr th {\n",
       "        vertical-align: top;\n",
       "    }\n",
       "\n",
       "    .dataframe thead th {\n",
       "        text-align: right;\n",
       "    }\n",
       "</style>\n",
       "<table border=\"1\" class=\"dataframe\">\n",
       "  <thead>\n",
       "    <tr style=\"text-align: right;\">\n",
       "      <th></th>\n",
       "      <th>match_id</th>\n",
       "      <th>home_team_name</th>\n",
       "      <th>Team_id</th>\n",
       "      <th>Team_name</th>\n",
       "      <th>Team_short_name</th>\n",
       "      <th>Team_Points_total</th>\n",
       "      <th>Team_Points_all_out</th>\n",
       "      <th>Team_Points_extras</th>\n",
       "      <th>Team_Points_declare</th>\n",
       "      <th>Team_Raid_Points_total</th>\n",
       "      <th>...</th>\n",
       "      <th>winning_team</th>\n",
       "      <th>toss_winner</th>\n",
       "      <th>venue</th>\n",
       "      <th>toss_choice</th>\n",
       "      <th>toss_direction</th>\n",
       "      <th>winning_score</th>\n",
       "      <th>loosing_score</th>\n",
       "      <th>Year</th>\n",
       "      <th>Month</th>\n",
       "      <th>Season</th>\n",
       "    </tr>\n",
       "  </thead>\n",
       "  <tbody>\n",
       "    <tr>\n",
       "      <th>0</th>\n",
       "      <td>1</td>\n",
       "      <td>U Mumba</td>\n",
       "      <td>3</td>\n",
       "      <td>Jaipur Pink Panthers</td>\n",
       "      <td>JAI</td>\n",
       "      <td>28</td>\n",
       "      <td>2</td>\n",
       "      <td>0</td>\n",
       "      <td>0</td>\n",
       "      <td>25</td>\n",
       "      <td>...</td>\n",
       "      <td>U Mumba</td>\n",
       "      <td>U Mumba</td>\n",
       "      <td>DOME@NSCI SVP Stadium, Mumbai</td>\n",
       "      <td>Choice of court</td>\n",
       "      <td>Right</td>\n",
       "      <td>45</td>\n",
       "      <td>31</td>\n",
       "      <td>2014</td>\n",
       "      <td>7</td>\n",
       "      <td>Season 1</td>\n",
       "    </tr>\n",
       "    <tr>\n",
       "      <th>1</th>\n",
       "      <td>1</td>\n",
       "      <td>U Mumba</td>\n",
       "      <td>5</td>\n",
       "      <td>U Mumba</td>\n",
       "      <td>MUM</td>\n",
       "      <td>44</td>\n",
       "      <td>4</td>\n",
       "      <td>0</td>\n",
       "      <td>0</td>\n",
       "      <td>28</td>\n",
       "      <td>...</td>\n",
       "      <td>U Mumba</td>\n",
       "      <td>U Mumba</td>\n",
       "      <td>DOME@NSCI SVP Stadium, Mumbai</td>\n",
       "      <td>Choice of court</td>\n",
       "      <td>Right</td>\n",
       "      <td>45</td>\n",
       "      <td>31</td>\n",
       "      <td>2014</td>\n",
       "      <td>7</td>\n",
       "      <td>Season 1</td>\n",
       "    </tr>\n",
       "    <tr>\n",
       "      <th>2</th>\n",
       "      <td>2</td>\n",
       "      <td>TBC</td>\n",
       "      <td>1</td>\n",
       "      <td>Bengaluru Bulls</td>\n",
       "      <td>BEN</td>\n",
       "      <td>42</td>\n",
       "      <td>6</td>\n",
       "      <td>0</td>\n",
       "      <td>0</td>\n",
       "      <td>23</td>\n",
       "      <td>...</td>\n",
       "      <td>Bengaluru Bulls</td>\n",
       "      <td>Dabang Delhi K.C.</td>\n",
       "      <td>DOME@NSCI SVP Stadium, Mumbai</td>\n",
       "      <td>Choice of court</td>\n",
       "      <td>Left</td>\n",
       "      <td>47</td>\n",
       "      <td>28</td>\n",
       "      <td>2014</td>\n",
       "      <td>7</td>\n",
       "      <td>Season 1</td>\n",
       "    </tr>\n",
       "    <tr>\n",
       "      <th>3</th>\n",
       "      <td>2</td>\n",
       "      <td>TBC</td>\n",
       "      <td>2</td>\n",
       "      <td>Dabang Delhi K.C.</td>\n",
       "      <td>DEL</td>\n",
       "      <td>28</td>\n",
       "      <td>0</td>\n",
       "      <td>0</td>\n",
       "      <td>0</td>\n",
       "      <td>15</td>\n",
       "      <td>...</td>\n",
       "      <td>Bengaluru Bulls</td>\n",
       "      <td>Dabang Delhi K.C.</td>\n",
       "      <td>DOME@NSCI SVP Stadium, Mumbai</td>\n",
       "      <td>Choice of court</td>\n",
       "      <td>Left</td>\n",
       "      <td>47</td>\n",
       "      <td>28</td>\n",
       "      <td>2014</td>\n",
       "      <td>7</td>\n",
       "      <td>Season 1</td>\n",
       "    </tr>\n",
       "    <tr>\n",
       "      <th>4</th>\n",
       "      <td>3</td>\n",
       "      <td>TBC</td>\n",
       "      <td>1</td>\n",
       "      <td>Bengaluru Bulls</td>\n",
       "      <td>BEN</td>\n",
       "      <td>39</td>\n",
       "      <td>4</td>\n",
       "      <td>1</td>\n",
       "      <td>0</td>\n",
       "      <td>20</td>\n",
       "      <td>...</td>\n",
       "      <td>Bengaluru Bulls</td>\n",
       "      <td>Bengaluru Bulls</td>\n",
       "      <td>DOME@NSCI SVP Stadium, Mumbai</td>\n",
       "      <td>Choice of court</td>\n",
       "      <td>Right</td>\n",
       "      <td>40</td>\n",
       "      <td>37</td>\n",
       "      <td>2014</td>\n",
       "      <td>7</td>\n",
       "      <td>Season 1</td>\n",
       "    </tr>\n",
       "  </tbody>\n",
       "</table>\n",
       "<p>5 rows × 34 columns</p>\n",
       "</div>"
      ],
      "text/plain": [
       "   match_id home_team_name  Team_id             Team_name Team_short_name  \\\n",
       "0         1        U Mumba        3  Jaipur Pink Panthers             JAI   \n",
       "1         1        U Mumba        5               U Mumba             MUM   \n",
       "2         2            TBC        1       Bengaluru Bulls             BEN   \n",
       "3         2            TBC        2     Dabang Delhi K.C.             DEL   \n",
       "4         3            TBC        1       Bengaluru Bulls             BEN   \n",
       "\n",
       "   Team_Points_total  Team_Points_all_out  Team_Points_extras  \\\n",
       "0                 28                    2                   0   \n",
       "1                 44                    4                   0   \n",
       "2                 42                    6                   0   \n",
       "3                 28                    0                   0   \n",
       "4                 39                    4                   1   \n",
       "\n",
       "   Team_Points_declare  Team_Raid_Points_total  ...     winning_team  \\\n",
       "0                    0                      25  ...          U Mumba   \n",
       "1                    0                      28  ...          U Mumba   \n",
       "2                    0                      23  ...  Bengaluru Bulls   \n",
       "3                    0                      15  ...  Bengaluru Bulls   \n",
       "4                    0                      20  ...  Bengaluru Bulls   \n",
       "\n",
       "         toss_winner                          venue       toss_choice  \\\n",
       "0            U Mumba  DOME@NSCI SVP Stadium, Mumbai  Choice of court    \n",
       "1            U Mumba  DOME@NSCI SVP Stadium, Mumbai  Choice of court    \n",
       "2  Dabang Delhi K.C.  DOME@NSCI SVP Stadium, Mumbai  Choice of court    \n",
       "3  Dabang Delhi K.C.  DOME@NSCI SVP Stadium, Mumbai  Choice of court    \n",
       "4    Bengaluru Bulls  DOME@NSCI SVP Stadium, Mumbai  Choice of court    \n",
       "\n",
       "   toss_direction  winning_score  loosing_score  Year  Month    Season  \n",
       "0           Right             45             31  2014      7  Season 1  \n",
       "1           Right             45             31  2014      7  Season 1  \n",
       "2            Left             47             28  2014      7  Season 1  \n",
       "3            Left             47             28  2014      7  Season 1  \n",
       "4           Right             40             37  2014      7  Season 1  \n",
       "\n",
       "[5 rows x 34 columns]"
      ]
     },
     "execution_count": 41,
     "metadata": {},
     "output_type": "execute_result"
    }
   ],
   "source": [
    "team_detail.head()"
   ]
  },
  {
   "cell_type": "code",
   "execution_count": 42,
   "metadata": {},
   "outputs": [
    {
     "data": {
      "text/plain": [
       "(1272, 34)"
      ]
     },
     "execution_count": 42,
     "metadata": {},
     "output_type": "execute_result"
    }
   ],
   "source": [
    "team_detail.shape"
   ]
  },
  {
   "cell_type": "code",
   "execution_count": 43,
   "metadata": {},
   "outputs": [],
   "source": [
    "team_detail.to_excel('team_detail.xlsx',index=False)"
   ]
  }
 ],
 "metadata": {
  "kernelspec": {
   "display_name": "Python 3",
   "language": "python",
   "name": "python3"
  },
  "language_info": {
   "codemirror_mode": {
    "name": "ipython",
    "version": 3
   },
   "file_extension": ".py",
   "mimetype": "text/x-python",
   "name": "python",
   "nbconvert_exporter": "python",
   "pygments_lexer": "ipython3",
   "version": "3.7.3"
  }
 },
 "nbformat": 4,
 "nbformat_minor": 2
}
