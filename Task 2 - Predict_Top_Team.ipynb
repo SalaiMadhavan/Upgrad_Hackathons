{
 "cells": [
  {
   "cell_type": "code",
   "execution_count": 1,
   "metadata": {},
   "outputs": [],
   "source": [
    "import pandas as pd\n",
    "import numpy as np\n",
    "\n",
    "import matplotlib.pyplot as plt\n",
    "import seaborn as sns\n",
    "\n",
    "import warnings\n",
    "warnings.filterwarnings('ignore')\n",
    "\n",
    "from sklearn.linear_model import Lasso\n",
    "from sklearn.ensemble import RandomForestRegressor\n",
    "from sklearn.model_selection import GridSearchCV\n",
    "\n",
    "from sklearn.metrics import r2_score\n",
    "from sklearn.metrics import mean_squared_error\n",
    "\n",
    "from sklearn.model_selection import KFold\n",
    "\n",
    "from sklearn.preprocessing import StandardScaler"
   ]
  },
  {
   "cell_type": "code",
   "execution_count": 2,
   "metadata": {},
   "outputs": [],
   "source": [
    "team = pd.read_excel('team_data_model.xlsx')"
   ]
  },
  {
   "cell_type": "code",
   "execution_count": 3,
   "metadata": {},
   "outputs": [
    {
     "data": {
      "text/plain": [
       "(1272, 15)"
      ]
     },
     "execution_count": 3,
     "metadata": {},
     "output_type": "execute_result"
    }
   ],
   "source": [
    "# Storing Team Name in different dataframe to map it to the prediction later. \n",
    "team_name=team['Team_name']\n",
    "\n",
    "# dropping some columns which doesn't look required for analysis\n",
    "cols_to_drop=['venue','Team_name','Team_short_name','Year','Month','start_time','Team_id','winning_score',\n",
    "             'loosing_score', 'Team_Points_all_out', 'Team_Points_extras',\n",
    "       'Team_Points_declare', 'Team_Raid_Points_total',\n",
    "       'Team_Raid_Points_touch', 'Team_Raid_Points_raid_bonus',\n",
    "       'Team_Tackle_Points_total', 'Team_Tackle_Points_capture',\n",
    "       'Team_Tackle_Points_capture_bonus']\n",
    "\n",
    "team=team.drop(cols_to_drop, axis=1)\n",
    "\n",
    "# Converting season column to category \n",
    "team['Season']=team['Season'].astype('category')\n",
    "\n",
    "team.shape"
   ]
  },
  {
   "cell_type": "markdown",
   "metadata": {},
   "source": [
    "### Model"
   ]
  },
  {
   "cell_type": "code",
   "execution_count": 4,
   "metadata": {},
   "outputs": [
    {
     "name": "stdout",
     "output_type": "stream",
     "text": [
      "Train Data Shape is:  (1040, 13)\n",
      "Test Data Shape is:  (232, 13)\n"
     ]
    }
   ],
   "source": [
    "# Creating train and test. We will test the model on Season 7 data\n",
    "\n",
    "train=team[team['Season']!='Season 7']\n",
    "\n",
    "test=team[team['Season']=='Season 7']\n",
    "\n",
    "# Dropping Season column as it is no more required. The test and train data has been split basis the season\n",
    "y_train=train['Team_Points_total']\n",
    "train=train.drop(['Season','Team_Points_total'], axis=1)\n",
    "\n",
    "\n",
    "y_test=test['Team_Points_total']\n",
    "test=test.drop(['Season','Team_Points_total'], axis=1)\n",
    "\n",
    "print(\"Train Data Shape is: \", train.shape)\n",
    "print(\"Test Data Shape is: \", test.shape)"
   ]
  },
  {
   "cell_type": "code",
   "execution_count": 5,
   "metadata": {},
   "outputs": [
    {
     "name": "stdout",
     "output_type": "stream",
     "text": [
      "Train Shape is (1040, 13)\n",
      "y_train Shape is (1040,)\n"
     ]
    }
   ],
   "source": [
    "print('Train Shape is', train.shape)\n",
    "print('y_train Shape is', y_train.shape)"
   ]
  },
  {
   "cell_type": "code",
   "execution_count": 6,
   "metadata": {},
   "outputs": [
    {
     "name": "stdout",
     "output_type": "stream",
     "text": [
      "Test Shape is (232, 13)\n",
      "y_test Shape is (232,)\n"
     ]
    }
   ],
   "source": [
    "print('Test Shape is', test.shape)\n",
    "print('y_test Shape is', y_test.shape)"
   ]
  },
  {
   "cell_type": "code",
   "execution_count": 7,
   "metadata": {},
   "outputs": [
    {
     "data": {
      "text/html": [
       "<div>\n",
       "<style scoped>\n",
       "    .dataframe tbody tr th:only-of-type {\n",
       "        vertical-align: middle;\n",
       "    }\n",
       "\n",
       "    .dataframe tbody tr th {\n",
       "        vertical-align: top;\n",
       "    }\n",
       "\n",
       "    .dataframe thead th {\n",
       "        text-align: right;\n",
       "    }\n",
       "</style>\n",
       "<table border=\"1\" class=\"dataframe\">\n",
       "  <thead>\n",
       "    <tr style=\"text-align: right;\">\n",
       "      <th></th>\n",
       "      <th>home_team_name</th>\n",
       "      <th>Team_Raids_total</th>\n",
       "      <th>Team_Raids_successful</th>\n",
       "      <th>Team_Raids_unsuccessful</th>\n",
       "      <th>Team_Raids_Empty</th>\n",
       "      <th>Team_Tackles_total</th>\n",
       "      <th>Team_Tackles_successful</th>\n",
       "      <th>Team_Tackles_unsuccessful</th>\n",
       "      <th>winning_team</th>\n",
       "      <th>toss_winner</th>\n",
       "      <th>toss_choice</th>\n",
       "      <th>toss_direction</th>\n",
       "      <th>winning_margin</th>\n",
       "    </tr>\n",
       "  </thead>\n",
       "  <tbody>\n",
       "    <tr>\n",
       "      <th>0</th>\n",
       "      <td>-0.503003</td>\n",
       "      <td>-0.587692</td>\n",
       "      <td>1.247651</td>\n",
       "      <td>0.167896</td>\n",
       "      <td>-1.793128</td>\n",
       "      <td>0.251199</td>\n",
       "      <td>-2.456764</td>\n",
       "      <td>1.791561</td>\n",
       "      <td>-0.899275</td>\n",
       "      <td>-1.0</td>\n",
       "      <td>0.0</td>\n",
       "      <td>0.0</td>\n",
       "      <td>-1.336730</td>\n",
       "    </tr>\n",
       "    <tr>\n",
       "      <th>1</th>\n",
       "      <td>1.988060</td>\n",
       "      <td>-0.587692</td>\n",
       "      <td>1.473785</td>\n",
       "      <td>-1.716403</td>\n",
       "      <td>-0.760312</td>\n",
       "      <td>1.954522</td>\n",
       "      <td>0.424854</td>\n",
       "      <td>1.589191</td>\n",
       "      <td>1.112007</td>\n",
       "      <td>1.0</td>\n",
       "      <td>0.0</td>\n",
       "      <td>0.0</td>\n",
       "      <td>1.336730</td>\n",
       "    </tr>\n",
       "    <tr>\n",
       "      <th>2</th>\n",
       "      <td>-0.503003</td>\n",
       "      <td>-0.587692</td>\n",
       "      <td>0.795383</td>\n",
       "      <td>0.481946</td>\n",
       "      <td>-1.793128</td>\n",
       "      <td>-0.387547</td>\n",
       "      <td>1.385393</td>\n",
       "      <td>-1.243994</td>\n",
       "      <td>1.112007</td>\n",
       "      <td>-1.0</td>\n",
       "      <td>0.0</td>\n",
       "      <td>0.0</td>\n",
       "      <td>1.814134</td>\n",
       "    </tr>\n",
       "    <tr>\n",
       "      <th>3</th>\n",
       "      <td>-0.503003</td>\n",
       "      <td>-0.365760</td>\n",
       "      <td>-0.109153</td>\n",
       "      <td>2.366244</td>\n",
       "      <td>-1.793128</td>\n",
       "      <td>2.167437</td>\n",
       "      <td>0.745034</td>\n",
       "      <td>1.589191</td>\n",
       "      <td>-0.899275</td>\n",
       "      <td>1.0</td>\n",
       "      <td>0.0</td>\n",
       "      <td>0.0</td>\n",
       "      <td>-1.814134</td>\n",
       "    </tr>\n",
       "    <tr>\n",
       "      <th>4</th>\n",
       "      <td>-0.503003</td>\n",
       "      <td>-0.365760</td>\n",
       "      <td>-0.109153</td>\n",
       "      <td>0.795995</td>\n",
       "      <td>-0.760312</td>\n",
       "      <td>0.677030</td>\n",
       "      <td>1.385393</td>\n",
       "      <td>-0.232142</td>\n",
       "      <td>1.112007</td>\n",
       "      <td>1.0</td>\n",
       "      <td>0.0</td>\n",
       "      <td>0.0</td>\n",
       "      <td>0.286442</td>\n",
       "    </tr>\n",
       "  </tbody>\n",
       "</table>\n",
       "</div>"
      ],
      "text/plain": [
       "   home_team_name  Team_Raids_total  Team_Raids_successful  \\\n",
       "0       -0.503003         -0.587692               1.247651   \n",
       "1        1.988060         -0.587692               1.473785   \n",
       "2       -0.503003         -0.587692               0.795383   \n",
       "3       -0.503003         -0.365760              -0.109153   \n",
       "4       -0.503003         -0.365760              -0.109153   \n",
       "\n",
       "   Team_Raids_unsuccessful  Team_Raids_Empty  Team_Tackles_total  \\\n",
       "0                 0.167896         -1.793128            0.251199   \n",
       "1                -1.716403         -0.760312            1.954522   \n",
       "2                 0.481946         -1.793128           -0.387547   \n",
       "3                 2.366244         -1.793128            2.167437   \n",
       "4                 0.795995         -0.760312            0.677030   \n",
       "\n",
       "   Team_Tackles_successful  Team_Tackles_unsuccessful  winning_team  \\\n",
       "0                -2.456764                   1.791561     -0.899275   \n",
       "1                 0.424854                   1.589191      1.112007   \n",
       "2                 1.385393                  -1.243994      1.112007   \n",
       "3                 0.745034                   1.589191     -0.899275   \n",
       "4                 1.385393                  -0.232142      1.112007   \n",
       "\n",
       "   toss_winner  toss_choice  toss_direction  winning_margin  \n",
       "0         -1.0          0.0             0.0       -1.336730  \n",
       "1          1.0          0.0             0.0        1.336730  \n",
       "2         -1.0          0.0             0.0        1.814134  \n",
       "3          1.0          0.0             0.0       -1.814134  \n",
       "4          1.0          0.0             0.0        0.286442  "
      ]
     },
     "execution_count": 7,
     "metadata": {},
     "output_type": "execute_result"
    }
   ],
   "source": [
    "# Scaling the features\n",
    "# storing the columns in a variable for avoiding them from lossing after scaling\n",
    "X_train_cols=train.columns\n",
    "\n",
    "scaler=StandardScaler()\n",
    "train[X_train_cols]=scaler.fit_transform(train[X_train_cols])\n",
    "\n",
    "train.head()"
   ]
  },
  {
   "cell_type": "code",
   "execution_count": 8,
   "metadata": {},
   "outputs": [
    {
     "data": {
      "text/html": [
       "<div>\n",
       "<style scoped>\n",
       "    .dataframe tbody tr th:only-of-type {\n",
       "        vertical-align: middle;\n",
       "    }\n",
       "\n",
       "    .dataframe tbody tr th {\n",
       "        vertical-align: top;\n",
       "    }\n",
       "\n",
       "    .dataframe thead th {\n",
       "        text-align: right;\n",
       "    }\n",
       "</style>\n",
       "<table border=\"1\" class=\"dataframe\">\n",
       "  <thead>\n",
       "    <tr style=\"text-align: right;\">\n",
       "      <th></th>\n",
       "      <th>home_team_name</th>\n",
       "      <th>Team_Raids_total</th>\n",
       "      <th>Team_Raids_successful</th>\n",
       "      <th>Team_Raids_unsuccessful</th>\n",
       "      <th>Team_Raids_Empty</th>\n",
       "      <th>Team_Tackles_total</th>\n",
       "      <th>Team_Tackles_successful</th>\n",
       "      <th>Team_Tackles_unsuccessful</th>\n",
       "      <th>winning_team</th>\n",
       "      <th>toss_winner</th>\n",
       "      <th>toss_choice</th>\n",
       "      <th>toss_direction</th>\n",
       "      <th>winning_margin</th>\n",
       "    </tr>\n",
       "  </thead>\n",
       "  <tbody>\n",
       "    <tr>\n",
       "      <th>1028</th>\n",
       "      <td>-0.503003</td>\n",
       "      <td>0.300034</td>\n",
       "      <td>0.343115</td>\n",
       "      <td>-0.146154</td>\n",
       "      <td>0.065941</td>\n",
       "      <td>0.038284</td>\n",
       "      <td>0.424854</td>\n",
       "      <td>-0.232142</td>\n",
       "      <td>1.112007</td>\n",
       "      <td>-1.0</td>\n",
       "      <td>0.0</td>\n",
       "      <td>0.0</td>\n",
       "      <td>0.668365</td>\n",
       "    </tr>\n",
       "    <tr>\n",
       "      <th>1029</th>\n",
       "      <td>-0.503003</td>\n",
       "      <td>0.300034</td>\n",
       "      <td>0.116981</td>\n",
       "      <td>0.795995</td>\n",
       "      <td>-0.347185</td>\n",
       "      <td>0.464114</td>\n",
       "      <td>-0.215506</td>\n",
       "      <td>0.577339</td>\n",
       "      <td>-0.899275</td>\n",
       "      <td>1.0</td>\n",
       "      <td>0.0</td>\n",
       "      <td>0.0</td>\n",
       "      <td>-0.668365</td>\n",
       "    </tr>\n",
       "    <tr>\n",
       "      <th>1030</th>\n",
       "      <td>-0.503003</td>\n",
       "      <td>0.300034</td>\n",
       "      <td>1.926053</td>\n",
       "      <td>-0.146154</td>\n",
       "      <td>-1.380002</td>\n",
       "      <td>0.251199</td>\n",
       "      <td>-0.535685</td>\n",
       "      <td>0.577339</td>\n",
       "      <td>1.112007</td>\n",
       "      <td>1.0</td>\n",
       "      <td>0.0</td>\n",
       "      <td>0.0</td>\n",
       "      <td>0.477404</td>\n",
       "    </tr>\n",
       "    <tr>\n",
       "      <th>1031</th>\n",
       "      <td>-0.503003</td>\n",
       "      <td>0.300034</td>\n",
       "      <td>1.021517</td>\n",
       "      <td>-0.774253</td>\n",
       "      <td>-0.140622</td>\n",
       "      <td>1.528691</td>\n",
       "      <td>-0.215506</td>\n",
       "      <td>1.589191</td>\n",
       "      <td>-0.899275</td>\n",
       "      <td>-1.0</td>\n",
       "      <td>0.0</td>\n",
       "      <td>0.0</td>\n",
       "      <td>-0.477404</td>\n",
       "    </tr>\n",
       "    <tr>\n",
       "      <th>1044</th>\n",
       "      <td>1.988060</td>\n",
       "      <td>-0.587692</td>\n",
       "      <td>-0.109153</td>\n",
       "      <td>0.481946</td>\n",
       "      <td>-0.760312</td>\n",
       "      <td>0.251199</td>\n",
       "      <td>0.104674</td>\n",
       "      <td>0.172599</td>\n",
       "      <td>-0.899275</td>\n",
       "      <td>-1.0</td>\n",
       "      <td>0.0</td>\n",
       "      <td>0.0</td>\n",
       "      <td>-0.572884</td>\n",
       "    </tr>\n",
       "  </tbody>\n",
       "</table>\n",
       "</div>"
      ],
      "text/plain": [
       "      home_team_name  Team_Raids_total  Team_Raids_successful  \\\n",
       "1028       -0.503003          0.300034               0.343115   \n",
       "1029       -0.503003          0.300034               0.116981   \n",
       "1030       -0.503003          0.300034               1.926053   \n",
       "1031       -0.503003          0.300034               1.021517   \n",
       "1044        1.988060         -0.587692              -0.109153   \n",
       "\n",
       "      Team_Raids_unsuccessful  Team_Raids_Empty  Team_Tackles_total  \\\n",
       "1028                -0.146154          0.065941            0.038284   \n",
       "1029                 0.795995         -0.347185            0.464114   \n",
       "1030                -0.146154         -1.380002            0.251199   \n",
       "1031                -0.774253         -0.140622            1.528691   \n",
       "1044                 0.481946         -0.760312            0.251199   \n",
       "\n",
       "      Team_Tackles_successful  Team_Tackles_unsuccessful  winning_team  \\\n",
       "1028                 0.424854                  -0.232142      1.112007   \n",
       "1029                -0.215506                   0.577339     -0.899275   \n",
       "1030                -0.535685                   0.577339      1.112007   \n",
       "1031                -0.215506                   1.589191     -0.899275   \n",
       "1044                 0.104674                   0.172599     -0.899275   \n",
       "\n",
       "      toss_winner  toss_choice  toss_direction  winning_margin  \n",
       "1028         -1.0          0.0             0.0        0.668365  \n",
       "1029          1.0          0.0             0.0       -0.668365  \n",
       "1030          1.0          0.0             0.0        0.477404  \n",
       "1031         -1.0          0.0             0.0       -0.477404  \n",
       "1044         -1.0          0.0             0.0       -0.572884  "
      ]
     },
     "execution_count": 8,
     "metadata": {},
     "output_type": "execute_result"
    }
   ],
   "source": [
    "# Scaling the test data\n",
    "test[X_train_cols]=scaler.transform(test[X_train_cols])\n",
    "test.head()"
   ]
  },
  {
   "cell_type": "code",
   "execution_count": 9,
   "metadata": {},
   "outputs": [
    {
     "name": "stdout",
     "output_type": "stream",
     "text": [
      "Fitting 5 folds for each of 19 candidates, totalling 95 fits\n"
     ]
    },
    {
     "name": "stderr",
     "output_type": "stream",
     "text": [
      "[Parallel(n_jobs=1)]: Using backend SequentialBackend with 1 concurrent workers.\n",
      "[Parallel(n_jobs=1)]: Done  95 out of  95 | elapsed:    0.3s finished\n"
     ]
    },
    {
     "data": {
      "text/plain": [
       "GridSearchCV(cv=5, error_score='raise-deprecating',\n",
       "             estimator=Lasso(alpha=1.0, copy_X=True, fit_intercept=True,\n",
       "                             max_iter=1000, normalize=False, positive=False,\n",
       "                             precompute=False, random_state=None,\n",
       "                             selection='cyclic', tol=0.0001, warm_start=False),\n",
       "             iid='warn', n_jobs=None,\n",
       "             param_grid={'alpha': [1e-11, 1e-08, 1e-07, 1e-06, 1e-05, 0.0001,\n",
       "                                   0.001, 0.01, 0.02, 0.05, 0.1, 0.2, 0.3, 0.4,\n",
       "                                   0.5, 0.6, 0.7, 0.8, 0.9]},\n",
       "             pre_dispatch='2*n_jobs', refit=True, return_train_score=True,\n",
       "             scoring='neg_mean_absolute_error', verbose=1)"
      ]
     },
     "execution_count": 9,
     "metadata": {},
     "output_type": "execute_result"
    }
   ],
   "source": [
    "# Defining alphas for identiying the optimum alphas for Lasso regression\n",
    "params = {'alpha': [0.00000000001, 0.00000001, 0.0000001, 0.000001, 0.00001, 0.0001, 0.001,0.01,0.02,0.05,0.1,0.2,0.3,0.4,0.5,\n",
    "                    0.6,0.7,0.8,0.9]}\n",
    "\n",
    "# Lasso Modelling\n",
    "lasso = Lasso()\n",
    "\n",
    "# cross validation\n",
    "folds=5\n",
    "lasso_cv = GridSearchCV(estimator = lasso, \n",
    "                        param_grid = params, \n",
    "                        scoring= 'neg_mean_absolute_error', \n",
    "                        cv = folds, \n",
    "                        return_train_score=True,\n",
    "                        verbose = 1)            \n",
    "\n",
    "lasso_cv.fit(train, y_train) "
   ]
  },
  {
   "cell_type": "code",
   "execution_count": 10,
   "metadata": {},
   "outputs": [
    {
     "data": {
      "text/html": [
       "<div>\n",
       "<style scoped>\n",
       "    .dataframe tbody tr th:only-of-type {\n",
       "        vertical-align: middle;\n",
       "    }\n",
       "\n",
       "    .dataframe tbody tr th {\n",
       "        vertical-align: top;\n",
       "    }\n",
       "\n",
       "    .dataframe thead th {\n",
       "        text-align: right;\n",
       "    }\n",
       "</style>\n",
       "<table border=\"1\" class=\"dataframe\">\n",
       "  <thead>\n",
       "    <tr style=\"text-align: right;\">\n",
       "      <th></th>\n",
       "      <th>mean_fit_time</th>\n",
       "      <th>std_fit_time</th>\n",
       "      <th>mean_score_time</th>\n",
       "      <th>std_score_time</th>\n",
       "      <th>param_alpha</th>\n",
       "      <th>params</th>\n",
       "      <th>split0_test_score</th>\n",
       "      <th>split1_test_score</th>\n",
       "      <th>split2_test_score</th>\n",
       "      <th>split3_test_score</th>\n",
       "      <th>...</th>\n",
       "      <th>mean_test_score</th>\n",
       "      <th>std_test_score</th>\n",
       "      <th>rank_test_score</th>\n",
       "      <th>split0_train_score</th>\n",
       "      <th>split1_train_score</th>\n",
       "      <th>split2_train_score</th>\n",
       "      <th>split3_train_score</th>\n",
       "      <th>split4_train_score</th>\n",
       "      <th>mean_train_score</th>\n",
       "      <th>std_train_score</th>\n",
       "    </tr>\n",
       "  </thead>\n",
       "  <tbody>\n",
       "    <tr>\n",
       "      <th>0</th>\n",
       "      <td>0.014096</td>\n",
       "      <td>0.013358</td>\n",
       "      <td>0.000991</td>\n",
       "      <td>6.311754e-04</td>\n",
       "      <td>1e-11</td>\n",
       "      <td>{'alpha': 1e-11}</td>\n",
       "      <td>-2.358631</td>\n",
       "      <td>-1.798371</td>\n",
       "      <td>-1.779835</td>\n",
       "      <td>-1.984878</td>\n",
       "      <td>...</td>\n",
       "      <td>-1.986271</td>\n",
       "      <td>0.208386</td>\n",
       "      <td>9</td>\n",
       "      <td>-1.859637</td>\n",
       "      <td>-1.938173</td>\n",
       "      <td>-1.948401</td>\n",
       "      <td>-1.897041</td>\n",
       "      <td>-1.883813</td>\n",
       "      <td>-1.905413</td>\n",
       "      <td>0.033326</td>\n",
       "    </tr>\n",
       "    <tr>\n",
       "      <th>1</th>\n",
       "      <td>0.005186</td>\n",
       "      <td>0.001453</td>\n",
       "      <td>0.000998</td>\n",
       "      <td>4.370285e-07</td>\n",
       "      <td>1e-08</td>\n",
       "      <td>{'alpha': 1e-08}</td>\n",
       "      <td>-2.358631</td>\n",
       "      <td>-1.798371</td>\n",
       "      <td>-1.779835</td>\n",
       "      <td>-1.984878</td>\n",
       "      <td>...</td>\n",
       "      <td>-1.986271</td>\n",
       "      <td>0.208385</td>\n",
       "      <td>8</td>\n",
       "      <td>-1.859637</td>\n",
       "      <td>-1.938173</td>\n",
       "      <td>-1.948401</td>\n",
       "      <td>-1.897041</td>\n",
       "      <td>-1.883813</td>\n",
       "      <td>-1.905413</td>\n",
       "      <td>0.033326</td>\n",
       "    </tr>\n",
       "    <tr>\n",
       "      <th>2</th>\n",
       "      <td>0.005386</td>\n",
       "      <td>0.000797</td>\n",
       "      <td>0.000798</td>\n",
       "      <td>3.988039e-04</td>\n",
       "      <td>1e-07</td>\n",
       "      <td>{'alpha': 1e-07}</td>\n",
       "      <td>-2.358631</td>\n",
       "      <td>-1.798371</td>\n",
       "      <td>-1.779835</td>\n",
       "      <td>-1.984878</td>\n",
       "      <td>...</td>\n",
       "      <td>-1.986271</td>\n",
       "      <td>0.208385</td>\n",
       "      <td>7</td>\n",
       "      <td>-1.859637</td>\n",
       "      <td>-1.938173</td>\n",
       "      <td>-1.948401</td>\n",
       "      <td>-1.897041</td>\n",
       "      <td>-1.883813</td>\n",
       "      <td>-1.905413</td>\n",
       "      <td>0.033326</td>\n",
       "    </tr>\n",
       "    <tr>\n",
       "      <th>3</th>\n",
       "      <td>0.004781</td>\n",
       "      <td>0.001163</td>\n",
       "      <td>0.000998</td>\n",
       "      <td>1.766397e-05</td>\n",
       "      <td>1e-06</td>\n",
       "      <td>{'alpha': 1e-06}</td>\n",
       "      <td>-2.358627</td>\n",
       "      <td>-1.798370</td>\n",
       "      <td>-1.779834</td>\n",
       "      <td>-1.984880</td>\n",
       "      <td>...</td>\n",
       "      <td>-1.986271</td>\n",
       "      <td>0.208384</td>\n",
       "      <td>6</td>\n",
       "      <td>-1.859637</td>\n",
       "      <td>-1.938174</td>\n",
       "      <td>-1.948403</td>\n",
       "      <td>-1.897042</td>\n",
       "      <td>-1.883815</td>\n",
       "      <td>-1.905414</td>\n",
       "      <td>0.033327</td>\n",
       "    </tr>\n",
       "    <tr>\n",
       "      <th>4</th>\n",
       "      <td>0.004981</td>\n",
       "      <td>0.000629</td>\n",
       "      <td>0.000599</td>\n",
       "      <td>4.891229e-04</td>\n",
       "      <td>1e-05</td>\n",
       "      <td>{'alpha': 1e-05}</td>\n",
       "      <td>-2.358595</td>\n",
       "      <td>-1.798368</td>\n",
       "      <td>-1.779832</td>\n",
       "      <td>-1.984897</td>\n",
       "      <td>...</td>\n",
       "      <td>-1.986269</td>\n",
       "      <td>0.208374</td>\n",
       "      <td>5</td>\n",
       "      <td>-1.859637</td>\n",
       "      <td>-1.938188</td>\n",
       "      <td>-1.948415</td>\n",
       "      <td>-1.897056</td>\n",
       "      <td>-1.883830</td>\n",
       "      <td>-1.905425</td>\n",
       "      <td>0.033330</td>\n",
       "    </tr>\n",
       "  </tbody>\n",
       "</table>\n",
       "<p>5 rows × 21 columns</p>\n",
       "</div>"
      ],
      "text/plain": [
       "   mean_fit_time  std_fit_time  mean_score_time  std_score_time param_alpha  \\\n",
       "0       0.014096      0.013358         0.000991    6.311754e-04       1e-11   \n",
       "1       0.005186      0.001453         0.000998    4.370285e-07       1e-08   \n",
       "2       0.005386      0.000797         0.000798    3.988039e-04       1e-07   \n",
       "3       0.004781      0.001163         0.000998    1.766397e-05       1e-06   \n",
       "4       0.004981      0.000629         0.000599    4.891229e-04       1e-05   \n",
       "\n",
       "             params  split0_test_score  split1_test_score  split2_test_score  \\\n",
       "0  {'alpha': 1e-11}          -2.358631          -1.798371          -1.779835   \n",
       "1  {'alpha': 1e-08}          -2.358631          -1.798371          -1.779835   \n",
       "2  {'alpha': 1e-07}          -2.358631          -1.798371          -1.779835   \n",
       "3  {'alpha': 1e-06}          -2.358627          -1.798370          -1.779834   \n",
       "4  {'alpha': 1e-05}          -2.358595          -1.798368          -1.779832   \n",
       "\n",
       "   split3_test_score  ...  mean_test_score  std_test_score  rank_test_score  \\\n",
       "0          -1.984878  ...        -1.986271        0.208386                9   \n",
       "1          -1.984878  ...        -1.986271        0.208385                8   \n",
       "2          -1.984878  ...        -1.986271        0.208385                7   \n",
       "3          -1.984880  ...        -1.986271        0.208384                6   \n",
       "4          -1.984897  ...        -1.986269        0.208374                5   \n",
       "\n",
       "   split0_train_score  split1_train_score  split2_train_score  \\\n",
       "0           -1.859637           -1.938173           -1.948401   \n",
       "1           -1.859637           -1.938173           -1.948401   \n",
       "2           -1.859637           -1.938173           -1.948401   \n",
       "3           -1.859637           -1.938174           -1.948403   \n",
       "4           -1.859637           -1.938188           -1.948415   \n",
       "\n",
       "   split3_train_score  split4_train_score  mean_train_score  std_train_score  \n",
       "0           -1.897041           -1.883813         -1.905413         0.033326  \n",
       "1           -1.897041           -1.883813         -1.905413         0.033326  \n",
       "2           -1.897041           -1.883813         -1.905413         0.033326  \n",
       "3           -1.897042           -1.883815         -1.905414         0.033327  \n",
       "4           -1.897056           -1.883830         -1.905425         0.033330  \n",
       "\n",
       "[5 rows x 21 columns]"
      ]
     },
     "execution_count": 10,
     "metadata": {},
     "output_type": "execute_result"
    }
   ],
   "source": [
    "# Printing the model output\n",
    "\n",
    "lasso_cv_results = pd.DataFrame(lasso_cv.cv_results_)\n",
    "lasso_cv_results.head()"
   ]
  },
  {
   "cell_type": "code",
   "execution_count": 11,
   "metadata": {},
   "outputs": [
    {
     "data": {
      "image/png": "[encoded data removed]",
      "text/plain": [
       "<Figure size 2400x960 with 1 Axes>"
      ]
     },
     "metadata": {},
     "output_type": "display_data"
    }
   ],
   "source": [
    "# plotting mean test and train scoes with alpha \n",
    "lasso_cv_results['param_alpha'] = lasso_cv_results['param_alpha'].astype('float32')\n",
    "\n",
    "# plotting\n",
    "plt.figure(num=None, figsize=(20, 8), dpi=120, facecolor='w', edgecolor='k')\n",
    "plt.plot(lasso_cv_results['param_alpha'], lasso_cv_results['mean_train_score'])\n",
    "plt.plot(lasso_cv_results['param_alpha'], lasso_cv_results['mean_test_score'])\n",
    "plt.xlabel('alpha')\n",
    "plt.ylabel('Negative Mean Absolute Error')\n",
    "\n",
    "plt.title(\"Lasso - Negative Mean Absolute Error and alpha\")\n",
    "plt.legend(['train score', 'test score'], loc='upper left')\n",
    "plt.grid()\n",
    "plt.show()"
   ]
  },
  {
   "cell_type": "code",
   "execution_count": 12,
   "metadata": {},
   "outputs": [
    {
     "name": "stdout",
     "output_type": "stream",
     "text": [
      "0.01\n"
     ]
    }
   ],
   "source": [
    "print(lasso_cv.best_params_['alpha'])"
   ]
  },
  {
   "cell_type": "code",
   "execution_count": 13,
   "metadata": {},
   "outputs": [
    {
     "data": {
      "text/plain": [
       "Lasso(alpha=0.01, copy_X=True, fit_intercept=True, max_iter=1000,\n",
       "      normalize=False, positive=False, precompute=False, random_state=None,\n",
       "      selection='cyclic', tol=0.0001, warm_start=False)"
      ]
     },
     "execution_count": 13,
     "metadata": {},
     "output_type": "execute_result"
    }
   ],
   "source": [
    "alpha = lasso_cv.best_params_['alpha']\n",
    "lasso = Lasso(alpha=alpha)\n",
    "lasso.fit(train, y_train) "
   ]
  },
  {
   "cell_type": "code",
   "execution_count": 14,
   "metadata": {},
   "outputs": [
    {
     "data": {
      "text/plain": [
       "0.9023071112429806"
      ]
     },
     "execution_count": 14,
     "metadata": {},
     "output_type": "execute_result"
    }
   ],
   "source": [
    "lasso.score(train, y_train)"
   ]
  },
  {
   "cell_type": "code",
   "execution_count": 15,
   "metadata": {},
   "outputs": [
    {
     "data": {
      "text/plain": [
       "0.9021513761050446"
      ]
     },
     "execution_count": 15,
     "metadata": {},
     "output_type": "execute_result"
    }
   ],
   "source": [
    "lasso.score(test, y_test)"
   ]
  },
  {
   "cell_type": "code",
   "execution_count": 16,
   "metadata": {},
   "outputs": [
    {
     "name": "stdout",
     "output_type": "stream",
     "text": [
      "0.9021513761050446\n",
      "2.3553959503369417\n"
     ]
    }
   ],
   "source": [
    "y_test_pred=lasso.predict(test)\n",
    "print(r2_score(y_test,y_test_pred))\n",
    "print(np.sqrt(mean_squared_error(y_test,y_test_pred)))"
   ]
  },
  {
   "cell_type": "code",
   "execution_count": 17,
   "metadata": {},
   "outputs": [
    {
     "data": {
      "text/plain": [
       "<matplotlib.collections.PathCollection at 0x1c4fad04a48>"
      ]
     },
     "execution_count": 17,
     "metadata": {},
     "output_type": "execute_result"
    },
    {
     "data": {
      "image/png": "[encoded data removed]",
      "text/plain": [
       "<Figure size 432x288 with 1 Axes>"
      ]
     },
     "metadata": {
      "needs_background": "light"
     },
     "output_type": "display_data"
    }
   ],
   "source": [
    "plt.scatter(y_test,y_test_pred)"
   ]
  },
  {
   "cell_type": "code",
   "execution_count": 18,
   "metadata": {},
   "outputs": [
    {
     "name": "stdout",
     "output_type": "stream",
     "text": [
      "winning_margin               5.963464\n",
      "Team_Raids_successful        3.085567\n",
      "Team_Raids_unsuccessful      2.030780\n",
      "Team_Tackles_total           2.030327\n",
      "Team_Tackles_unsuccessful    0.924210\n",
      "winning_team                 0.376280\n",
      "home_team_name               0.022047\n",
      "Team_Raids_total             0.014456\n",
      "toss_winner                  0.009454\n",
      "toss_direction               0.000000\n",
      "toss_choice                  0.000000\n",
      "Team_Tackles_successful      0.000000\n",
      "Team_Raids_Empty             0.000000\n",
      "dtype: float64\n"
     ]
    }
   ],
   "source": [
    "features = np.abs(pd.Series(dict(zip(train.columns,lasso.coef_)))).sort_values(ascending=False)\n",
    "print(features)"
   ]
  },
  {
   "cell_type": "code",
   "execution_count": 19,
   "metadata": {},
   "outputs": [
    {
     "data": {
      "text/html": [
       "<div>\n",
       "<style scoped>\n",
       "    .dataframe tbody tr th:only-of-type {\n",
       "        vertical-align: middle;\n",
       "    }\n",
       "\n",
       "    .dataframe tbody tr th {\n",
       "        vertical-align: top;\n",
       "    }\n",
       "\n",
       "    .dataframe thead th {\n",
       "        text-align: right;\n",
       "    }\n",
       "</style>\n",
       "<table border=\"1\" class=\"dataframe\">\n",
       "  <thead>\n",
       "    <tr style=\"text-align: right;\">\n",
       "      <th></th>\n",
       "      <th>Total Points</th>\n",
       "    </tr>\n",
       "    <tr>\n",
       "      <th>Team</th>\n",
       "      <th></th>\n",
       "    </tr>\n",
       "  </thead>\n",
       "  <tbody>\n",
       "    <tr>\n",
       "      <th>Dabang Delhi K.C.</th>\n",
       "      <td>709</td>\n",
       "    </tr>\n",
       "    <tr>\n",
       "      <th>Bengaluru Bulls</th>\n",
       "      <td>694</td>\n",
       "    </tr>\n",
       "    <tr>\n",
       "      <th>Bengal Warriors</th>\n",
       "      <td>676</td>\n",
       "    </tr>\n",
       "    <tr>\n",
       "      <th>Gujarat Fortunegiants</th>\n",
       "      <td>676</td>\n",
       "    </tr>\n",
       "    <tr>\n",
       "      <th>Puneri Paltan</th>\n",
       "      <td>652</td>\n",
       "    </tr>\n",
       "  </tbody>\n",
       "</table>\n",
       "</div>"
      ],
      "text/plain": [
       "                       Total Points\n",
       "Team                               \n",
       "Dabang Delhi K.C.               709\n",
       "Bengaluru Bulls                 694\n",
       "Bengal Warriors                 676\n",
       "Gujarat Fortunegiants           676\n",
       "Puneri Paltan                   652"
      ]
     },
     "execution_count": 19,
     "metadata": {},
     "output_type": "execute_result"
    }
   ],
   "source": [
    "top_points_team = pd.DataFrame(np.array([team_name.loc[test.index].values,y_test]).T,columns=['Team','Total Points'])\n",
    "top_points_team['Total Points'] = top_points_team['Total Points'].astype('int')\n",
    "top_points_team = top_points_team[['Team','Total Points']].groupby('Team').sum().sort_values(by='Total Points',ascending=False)\n",
    "top_points_team.head()"
   ]
  }
 ],
 "metadata": {
  "kernelspec": {
   "display_name": "Python 3",
   "language": "python",
   "name": "python3"
  },
  "language_info": {
   "codemirror_mode": {
    "name": "ipython",
    "version": 3
   },
   "file_extension": ".py",
   "mimetype": "text/x-python",
   "name": "python",
   "nbconvert_exporter": "python",
   "pygments_lexer": "ipython3",
   "version": "3.7.4"
  },
  "varInspector": {
   "cols": {
    "lenName": 16,
    "lenType": 16,
    "lenVar": 40
   },
   "kernels_config": {
    "python": {
     "delete_cmd_postfix": "",
     "delete_cmd_prefix": "del ",
     "library": "var_list.py",
     "varRefreshCmd": "print(var_dic_list())"
    },
    "r": {
     "delete_cmd_postfix": ") ",
     "delete_cmd_prefix": "rm(",
     "library": "var_list.r",
     "varRefreshCmd": "cat(var_dic_list()) "
    }
   },
   "types_to_exclude": [
    "module",
    "function",
    "builtin_function_or_method",
    "instance",
    "_Feature"
   ],
   "window_display": false
  }
 },
 "nbformat": 4,
 "nbformat_minor": 2
}
