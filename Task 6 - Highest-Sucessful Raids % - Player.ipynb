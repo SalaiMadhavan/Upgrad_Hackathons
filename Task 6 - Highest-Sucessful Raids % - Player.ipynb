{
 "cells": [
  {
   "cell_type": "code",
   "execution_count": 1,
   "metadata": {},
   "outputs": [],
   "source": [
    "# Importing packages\n",
    "import pandas as pd\n",
    "import numpy as np\n",
    "\n",
    "import matplotlib.pyplot as plt\n",
    "import seaborn as sns\n",
    "\n",
    "from sklearn.preprocessing import StandardScaler\n",
    "\n",
    "from sklearn.linear_model import Lasso\n",
    "from sklearn.model_selection import GridSearchCV\n",
    "\n",
    "import warnings\n",
    "warnings.filterwarnings('ignore')\n",
    "\n",
    "from sklearn.metrics import r2_score\n",
    "from sklearn.metrics import mean_squared_error"
   ]
  },
  {
   "cell_type": "markdown",
   "metadata": {},
   "source": [
    "### Data Understanding"
   ]
  },
  {
   "cell_type": "code",
   "execution_count": 2,
   "metadata": {},
   "outputs": [],
   "source": [
    "player = pd.read_excel('player_details.xlsx')"
   ]
  },
  {
   "cell_type": "code",
   "execution_count": 3,
   "metadata": {},
   "outputs": [],
   "source": [
    "matches = pd.read_excel('match_cleaned.xlsx')"
   ]
  },
  {
   "cell_type": "code",
   "execution_count": 4,
   "metadata": {},
   "outputs": [
    {
     "data": {
      "text/html": [
       "<div>\n",
       "<style scoped>\n",
       "    .dataframe tbody tr th:only-of-type {\n",
       "        vertical-align: middle;\n",
       "    }\n",
       "\n",
       "    .dataframe tbody tr th {\n",
       "        vertical-align: top;\n",
       "    }\n",
       "\n",
       "    .dataframe thead th {\n",
       "        text-align: right;\n",
       "    }\n",
       "</style>\n",
       "<table border=\"1\" class=\"dataframe\">\n",
       "  <thead>\n",
       "    <tr style=\"text-align: right;\">\n",
       "      <th></th>\n",
       "      <th>match_id</th>\n",
       "      <th>match_name</th>\n",
       "      <th>date</th>\n",
       "      <th>start_time</th>\n",
       "      <th>gmtoffset</th>\n",
       "      <th>winning_team</th>\n",
       "      <th>toss_winner</th>\n",
       "      <th>venue</th>\n",
       "      <th>toss_choice</th>\n",
       "      <th>toss_direction</th>\n",
       "      <th>winning_score</th>\n",
       "      <th>loosing_score</th>\n",
       "    </tr>\n",
       "  </thead>\n",
       "  <tbody>\n",
       "    <tr>\n",
       "      <th>0</th>\n",
       "      <td>1</td>\n",
       "      <td>Match 1</td>\n",
       "      <td>7/26/2014</td>\n",
       "      <td>20:00</td>\n",
       "      <td>+05:30</td>\n",
       "      <td>U Mumba</td>\n",
       "      <td>U Mumba</td>\n",
       "      <td>DOME@NSCI SVP Stadium, Mumbai</td>\n",
       "      <td>Choice of court</td>\n",
       "      <td>Right</td>\n",
       "      <td>45</td>\n",
       "      <td>31</td>\n",
       "    </tr>\n",
       "    <tr>\n",
       "      <th>1</th>\n",
       "      <td>2</td>\n",
       "      <td>Match 2</td>\n",
       "      <td>7/26/2014</td>\n",
       "      <td>21:00</td>\n",
       "      <td>+05:30</td>\n",
       "      <td>Bengaluru Bulls</td>\n",
       "      <td>Dabang Delhi K.C.</td>\n",
       "      <td>DOME@NSCI SVP Stadium, Mumbai</td>\n",
       "      <td>Choice of court</td>\n",
       "      <td>Left</td>\n",
       "      <td>47</td>\n",
       "      <td>28</td>\n",
       "    </tr>\n",
       "    <tr>\n",
       "      <th>2</th>\n",
       "      <td>3</td>\n",
       "      <td>Match 3</td>\n",
       "      <td>7/27/2014</td>\n",
       "      <td>20:00</td>\n",
       "      <td>+05:30</td>\n",
       "      <td>Bengaluru Bulls</td>\n",
       "      <td>Bengaluru Bulls</td>\n",
       "      <td>DOME@NSCI SVP Stadium, Mumbai</td>\n",
       "      <td>Choice of court</td>\n",
       "      <td>Right</td>\n",
       "      <td>40</td>\n",
       "      <td>37</td>\n",
       "    </tr>\n",
       "    <tr>\n",
       "      <th>3</th>\n",
       "      <td>4</td>\n",
       "      <td>Match 4</td>\n",
       "      <td>7/27/2014</td>\n",
       "      <td>21:00</td>\n",
       "      <td>+05:30</td>\n",
       "      <td>U Mumba</td>\n",
       "      <td>Bengal Warriors</td>\n",
       "      <td>DOME@NSCI SVP Stadium, Mumbai</td>\n",
       "      <td>Choice of court</td>\n",
       "      <td>Left</td>\n",
       "      <td>36</td>\n",
       "      <td>25</td>\n",
       "    </tr>\n",
       "    <tr>\n",
       "      <th>4</th>\n",
       "      <td>5</td>\n",
       "      <td>Match 5</td>\n",
       "      <td>7/28/2014</td>\n",
       "      <td>20:00</td>\n",
       "      <td>+05:30</td>\n",
       "      <td>Dabang Delhi K.C.</td>\n",
       "      <td>Puneri Paltan</td>\n",
       "      <td>DOME@NSCI SVP Stadium, Mumbai</td>\n",
       "      <td>Choice of court</td>\n",
       "      <td>Right</td>\n",
       "      <td>35</td>\n",
       "      <td>31</td>\n",
       "    </tr>\n",
       "  </tbody>\n",
       "</table>\n",
       "</div>"
      ],
      "text/plain": [
       "   match_id match_name       date start_time gmtoffset       winning_team  \\\n",
       "0         1    Match 1  7/26/2014      20:00    +05:30            U Mumba   \n",
       "1         2    Match 2  7/26/2014      21:00    +05:30    Bengaluru Bulls   \n",
       "2         3    Match 3  7/27/2014      20:00    +05:30    Bengaluru Bulls   \n",
       "3         4    Match 4  7/27/2014      21:00    +05:30            U Mumba   \n",
       "4         5    Match 5  7/28/2014      20:00    +05:30  Dabang Delhi K.C.   \n",
       "\n",
       "         toss_winner                          venue       toss_choice  \\\n",
       "0            U Mumba  DOME@NSCI SVP Stadium, Mumbai  Choice of court    \n",
       "1  Dabang Delhi K.C.  DOME@NSCI SVP Stadium, Mumbai  Choice of court    \n",
       "2    Bengaluru Bulls  DOME@NSCI SVP Stadium, Mumbai  Choice of court    \n",
       "3    Bengal Warriors  DOME@NSCI SVP Stadium, Mumbai  Choice of court    \n",
       "4      Puneri Paltan  DOME@NSCI SVP Stadium, Mumbai  Choice of court    \n",
       "\n",
       "  toss_direction winning_score loosing_score  \n",
       "0          Right           45             31  \n",
       "1           Left           47             28  \n",
       "2          Right           40             37  \n",
       "3           Left           36             25  \n",
       "4          Right           35             31  "
      ]
     },
     "execution_count": 4,
     "metadata": {},
     "output_type": "execute_result"
    }
   ],
   "source": [
    "matches.head()"
   ]
  },
  {
   "cell_type": "markdown",
   "metadata": {},
   "source": [
    "### Matches Data preparation"
   ]
  },
  {
   "cell_type": "code",
   "execution_count": 5,
   "metadata": {},
   "outputs": [],
   "source": [
    "matches['Year'] = matches['date'].apply(lambda x : x[-4:])\n",
    "matches['Year'] = matches['Year'].astype('int')"
   ]
  },
  {
   "cell_type": "code",
   "execution_count": 6,
   "metadata": {},
   "outputs": [],
   "source": [
    "matches['Month'] = matches['date'].apply(lambda x : x[:x.find('/')])\n",
    "matches['Month'] = matches['Month'].apply(lambda x : x[:x.find('-')] if len(x) > 1 else x)\n",
    "matches['Month'] = matches['Month'].astype('int')"
   ]
  },
  {
   "cell_type": "code",
   "execution_count": 7,
   "metadata": {},
   "outputs": [],
   "source": [
    "matches['Season'] = matches['Year'].map({2014:'Season 1',2015:'Season 2',2016:'Season 34',2017:'Season 5',2018:'Season 6',2019:'Season 7'})"
   ]
  },
  {
   "cell_type": "code",
   "execution_count": 8,
   "metadata": {},
   "outputs": [],
   "source": [
    "for i in range(0,len(matches)):\n",
    "    if (matches.loc[i,'Season'] == 'Season 34') and (matches.loc[i,'Month'] < 6):\n",
    "        matches.loc[i,'Season'] = 'Season 3'\n",
    "    elif matches.loc[i,'Season'] == 'Season 34':\n",
    "        matches.loc[i,'Season'] = 'Season 4'"
   ]
  },
  {
   "cell_type": "code",
   "execution_count": 9,
   "metadata": {},
   "outputs": [],
   "source": [
    "matches = matches[matches['toss_winner'].isin(['U Mumba', 'Dabang Delhi K.C.', 'Bengaluru Bulls',\n",
    "       'Bengal Warriors', 'Puneri Paltan', 'Telugu Titans',\n",
    "       'Jaipur Pink Panthers', 'Patna Pirates','Haryana Steelers', 'Gujarat Fortunegiants', 'U.P. Yoddha',\n",
    "       'Tamil Thalaivas'])]"
   ]
  },
  {
   "cell_type": "code",
   "execution_count": 10,
   "metadata": {},
   "outputs": [],
   "source": [
    "matches['winning_score'] = matches['winning_score'].apply(lambda x : 0 if x in ['Match Tie','N'] else int(x))"
   ]
  },
  {
   "cell_type": "code",
   "execution_count": 11,
   "metadata": {},
   "outputs": [],
   "source": [
    "matches['loosing_score'] = matches['loosing_score'].apply(lambda x : 0 if x in ['Match Tie','N'] else int(x))"
   ]
  },
  {
   "cell_type": "code",
   "execution_count": 12,
   "metadata": {},
   "outputs": [],
   "source": [
    "match_detail = matches.drop(['match_name','gmtoffset'],axis=1)"
   ]
  },
  {
   "cell_type": "code",
   "execution_count": 13,
   "metadata": {},
   "outputs": [],
   "source": [
    "player_detail = player.drop(['skill','role','jersey'],axis=1)"
   ]
  },
  {
   "cell_type": "code",
   "execution_count": 14,
   "metadata": {},
   "outputs": [],
   "source": [
    "match_detail['winning_team'].fillna('DRAW',inplace=True)"
   ]
  },
  {
   "cell_type": "markdown",
   "metadata": {},
   "source": [
    "### Player Data with match details"
   ]
  },
  {
   "cell_type": "code",
   "execution_count": 15,
   "metadata": {},
   "outputs": [],
   "source": [
    "player_detail = player_detail.merge(match_detail,on='match_id',how='left')"
   ]
  },
  {
   "cell_type": "code",
   "execution_count": 16,
   "metadata": {},
   "outputs": [
    {
     "data": {
      "text/plain": [
       "match_id                           0\n",
       "Team                               0\n",
       "id                                 0\n",
       "name                               0\n",
       "short_name                     15791\n",
       "red_card                           0\n",
       "yellow_card                        0\n",
       "green_card                         0\n",
       "played                             0\n",
       "captain                            0\n",
       "on_court                           0\n",
       "starter                            0\n",
       "top_raider                         0\n",
       "top_defender                       0\n",
       "Player_points_total                0\n",
       "raider_points_total                0\n",
       "raider_points_touch                0\n",
       "raider_points_raid_bonus           0\n",
       "tackle_points_total                0\n",
       "tackle_points_capture              0\n",
       "tackle_points_capture_bonus        0\n",
       "raids_total                        0\n",
       "raids_successful                   0\n",
       "raids_unsuccessful                 0\n",
       "raids_Empty                        0\n",
       "raids_total.1                      0\n",
       "raids_successful.1                 0\n",
       "raids_unsuccessful.1               0\n",
       "raids_Empty.1                      0\n",
       "tackles_total                      0\n",
       "tackles_successful                 0\n",
       "tackles_unsuccessful               0\n",
       "date                            2029\n",
       "start_time                      2029\n",
       "winning_team                    2029\n",
       "toss_winner                     2029\n",
       "venue                           2029\n",
       "toss_choice                     2029\n",
       "toss_direction                  2029\n",
       "winning_score                   2029\n",
       "loosing_score                   2029\n",
       "Year                            2029\n",
       "Month                           2029\n",
       "Season                          2029\n",
       "dtype: int64"
      ]
     },
     "execution_count": 16,
     "metadata": {},
     "output_type": "execute_result"
    }
   ],
   "source": [
    "player_detail.isnull().sum()"
   ]
  },
  {
   "cell_type": "code",
   "execution_count": 17,
   "metadata": {},
   "outputs": [],
   "source": [
    "player_detail.drop(player_detail[player_detail['start_time'].isnull()].index,inplace=True)"
   ]
  },
  {
   "cell_type": "code",
   "execution_count": 18,
   "metadata": {},
   "outputs": [
    {
     "data": {
      "text/plain": [
       "(15460, 44)"
      ]
     },
     "execution_count": 18,
     "metadata": {},
     "output_type": "execute_result"
    }
   ],
   "source": [
    "player_detail.shape"
   ]
  },
  {
   "cell_type": "code",
   "execution_count": 19,
   "metadata": {},
   "outputs": [],
   "source": [
    "player_detail.to_excel('player_cleaned_data.xlsx',index=False)"
   ]
  },
  {
   "cell_type": "markdown",
   "metadata": {},
   "source": [
    "### Data Preparation"
   ]
  },
  {
   "cell_type": "code",
   "execution_count": 20,
   "metadata": {},
   "outputs": [],
   "source": [
    "#player_detail.drop(['match_id','date','temp'],axis=1,inplace=True)\n",
    "player_detail.drop(['match_id','date'],axis=1,inplace=True)"
   ]
  },
  {
   "cell_type": "code",
   "execution_count": 21,
   "metadata": {},
   "outputs": [],
   "source": [
    "for each in ['red_card','yellow_card','green_card','played','captain','on_court','starter','top_raider',\n",
    "            'top_defender','toss_direction','toss_choice']:\n",
    "    \n",
    "    freq = player_detail[each].mode()[0]\n",
    "    player_detail[each] = player_detail[each].apply(lambda x : 1 if x == freq else 0)"
   ]
  },
  {
   "cell_type": "code",
   "execution_count": 22,
   "metadata": {},
   "outputs": [
    {
     "data": {
      "text/plain": [
       "array(['20:00', '21:00', '21:15', '19:30', '20:30'], dtype=object)"
      ]
     },
     "execution_count": 22,
     "metadata": {},
     "output_type": "execute_result"
    }
   ],
   "source": [
    "player_detail['start_time'].unique()"
   ]
  },
  {
   "cell_type": "code",
   "execution_count": 23,
   "metadata": {},
   "outputs": [],
   "source": [
    "player_detail['raider_sucess_%'] = player_detail['raids_successful']/ player_detail['raids_total'] * 100"
   ]
  },
  {
   "cell_type": "code",
   "execution_count": 24,
   "metadata": {},
   "outputs": [],
   "source": [
    "player_detail.drop(['raids_successful','raids_total'],axis=1,inplace=True)"
   ]
  },
  {
   "cell_type": "code",
   "execution_count": 25,
   "metadata": {},
   "outputs": [],
   "source": [
    "player_detail['tackle_sucess_%'] = player_detail['tackles_successful']/ player_detail['tackles_total'] * 100"
   ]
  },
  {
   "cell_type": "code",
   "execution_count": 26,
   "metadata": {},
   "outputs": [],
   "source": [
    "player_detail.drop(['tackles_successful','tackles_total'],axis=1,inplace=True)"
   ]
  },
  {
   "cell_type": "code",
   "execution_count": 27,
   "metadata": {},
   "outputs": [],
   "source": [
    "player_detail['raider_sucess_%'].fillna(0,inplace=True)\n",
    "player_detail['tackle_sucess_%'].fillna(0,inplace=True)"
   ]
  },
  {
   "cell_type": "code",
   "execution_count": 28,
   "metadata": {},
   "outputs": [
    {
     "data": {
      "text/html": [
       "<div>\n",
       "<style scoped>\n",
       "    .dataframe tbody tr th:only-of-type {\n",
       "        vertical-align: middle;\n",
       "    }\n",
       "\n",
       "    .dataframe tbody tr th {\n",
       "        vertical-align: top;\n",
       "    }\n",
       "\n",
       "    .dataframe thead tr th {\n",
       "        text-align: left;\n",
       "    }\n",
       "\n",
       "    .dataframe thead tr:last-of-type th {\n",
       "        text-align: right;\n",
       "    }\n",
       "</style>\n",
       "<table border=\"1\" class=\"dataframe\">\n",
       "  <thead>\n",
       "    <tr>\n",
       "      <th></th>\n",
       "      <th colspan=\"11\" halign=\"left\">raider_sucess_%</th>\n",
       "    </tr>\n",
       "    <tr>\n",
       "      <th></th>\n",
       "      <th>count</th>\n",
       "      <th>mean</th>\n",
       "      <th>std</th>\n",
       "      <th>min</th>\n",
       "      <th>25%</th>\n",
       "      <th>50%</th>\n",
       "      <th>75%</th>\n",
       "      <th>90%</th>\n",
       "      <th>95%</th>\n",
       "      <th>99%</th>\n",
       "      <th>max</th>\n",
       "    </tr>\n",
       "    <tr>\n",
       "      <th>start_time</th>\n",
       "      <th></th>\n",
       "      <th></th>\n",
       "      <th></th>\n",
       "      <th></th>\n",
       "      <th></th>\n",
       "      <th></th>\n",
       "      <th></th>\n",
       "      <th></th>\n",
       "      <th></th>\n",
       "      <th></th>\n",
       "      <th></th>\n",
       "    </tr>\n",
       "  </thead>\n",
       "  <tbody>\n",
       "    <tr>\n",
       "      <th>19:30</th>\n",
       "      <td>1459.0</td>\n",
       "      <td>11.131878</td>\n",
       "      <td>20.164083</td>\n",
       "      <td>0.0</td>\n",
       "      <td>0.0</td>\n",
       "      <td>0.0</td>\n",
       "      <td>20.000000</td>\n",
       "      <td>42.857143</td>\n",
       "      <td>50.217391</td>\n",
       "      <td>77.777778</td>\n",
       "      <td>100.000000</td>\n",
       "    </tr>\n",
       "    <tr>\n",
       "      <th>20:00</th>\n",
       "      <td>7077.0</td>\n",
       "      <td>11.947603</td>\n",
       "      <td>21.308876</td>\n",
       "      <td>0.0</td>\n",
       "      <td>0.0</td>\n",
       "      <td>0.0</td>\n",
       "      <td>20.000000</td>\n",
       "      <td>45.454545</td>\n",
       "      <td>55.555556</td>\n",
       "      <td>100.000000</td>\n",
       "      <td>100.000000</td>\n",
       "    </tr>\n",
       "    <tr>\n",
       "      <th>20:30</th>\n",
       "      <td>1222.0</td>\n",
       "      <td>11.604431</td>\n",
       "      <td>21.101383</td>\n",
       "      <td>0.0</td>\n",
       "      <td>0.0</td>\n",
       "      <td>0.0</td>\n",
       "      <td>20.000000</td>\n",
       "      <td>45.454545</td>\n",
       "      <td>54.545455</td>\n",
       "      <td>100.000000</td>\n",
       "      <td>100.000000</td>\n",
       "    </tr>\n",
       "    <tr>\n",
       "      <th>21:00</th>\n",
       "      <td>5678.0</td>\n",
       "      <td>12.195719</td>\n",
       "      <td>21.648886</td>\n",
       "      <td>0.0</td>\n",
       "      <td>0.0</td>\n",
       "      <td>0.0</td>\n",
       "      <td>21.428571</td>\n",
       "      <td>45.454545</td>\n",
       "      <td>54.545455</td>\n",
       "      <td>100.000000</td>\n",
       "      <td>100.000000</td>\n",
       "    </tr>\n",
       "    <tr>\n",
       "      <th>21:15</th>\n",
       "      <td>24.0</td>\n",
       "      <td>8.469043</td>\n",
       "      <td>16.553768</td>\n",
       "      <td>0.0</td>\n",
       "      <td>0.0</td>\n",
       "      <td>0.0</td>\n",
       "      <td>3.125000</td>\n",
       "      <td>37.000000</td>\n",
       "      <td>45.230769</td>\n",
       "      <td>50.948718</td>\n",
       "      <td>52.380952</td>\n",
       "    </tr>\n",
       "  </tbody>\n",
       "</table>\n",
       "</div>"
      ],
      "text/plain": [
       "           raider_sucess_%                                                  \\\n",
       "                     count       mean        std  min  25%  50%        75%   \n",
       "start_time                                                                   \n",
       "19:30               1459.0  11.131878  20.164083  0.0  0.0  0.0  20.000000   \n",
       "20:00               7077.0  11.947603  21.308876  0.0  0.0  0.0  20.000000   \n",
       "20:30               1222.0  11.604431  21.101383  0.0  0.0  0.0  20.000000   \n",
       "21:00               5678.0  12.195719  21.648886  0.0  0.0  0.0  21.428571   \n",
       "21:15                 24.0   8.469043  16.553768  0.0  0.0  0.0   3.125000   \n",
       "\n",
       "                                                          \n",
       "                  90%        95%         99%         max  \n",
       "start_time                                                \n",
       "19:30       42.857143  50.217391   77.777778  100.000000  \n",
       "20:00       45.454545  55.555556  100.000000  100.000000  \n",
       "20:30       45.454545  54.545455  100.000000  100.000000  \n",
       "21:00       45.454545  54.545455  100.000000  100.000000  \n",
       "21:15       37.000000  45.230769   50.948718   52.380952  "
      ]
     },
     "execution_count": 28,
     "metadata": {},
     "output_type": "execute_result"
    }
   ],
   "source": [
    "player_detail[['start_time','raider_sucess_%']].groupby('start_time').describe(percentiles=[.25,.5,.75,.9,.95,.99])"
   ]
  },
  {
   "cell_type": "code",
   "execution_count": 29,
   "metadata": {},
   "outputs": [],
   "source": [
    "def group_time(x):\n",
    "    if x == '19:30':\n",
    "        return 'Early'\n",
    "    elif x=='21:15':\n",
    "        return 'Late'\n",
    "    else:\n",
    "        return 'Ususal'\n",
    "\n",
    "player_detail['start_time'] = player_detail['start_time'].apply(lambda x : group_time(x))"
   ]
  },
  {
   "cell_type": "code",
   "execution_count": 30,
   "metadata": {},
   "outputs": [],
   "source": [
    "player_detail.index = range(0,len(player_detail))"
   ]
  },
  {
   "cell_type": "code",
   "execution_count": 31,
   "metadata": {},
   "outputs": [],
   "source": [
    "for i in range(0,len(player_detail)):\n",
    "    if player_detail.loc[i,'Team'] in player_detail.loc[i,'winning_team'].upper():\n",
    "        player_detail.loc[i,'winning_team'] = 1\n",
    "    else:\n",
    "        player_detail.loc[i,'winning_team'] = 0"
   ]
  },
  {
   "cell_type": "code",
   "execution_count": 32,
   "metadata": {},
   "outputs": [],
   "source": [
    "for i in range(0,len(player_detail)):\n",
    "    if player_detail.loc[i,'Team'] in player_detail.loc[i,'toss_winner'].upper():\n",
    "        player_detail.loc[i,'toss_winner'] = 1\n",
    "    else:\n",
    "        player_detail.loc[i,'toss_winner'] = 0"
   ]
  },
  {
   "cell_type": "code",
   "execution_count": 33,
   "metadata": {},
   "outputs": [
    {
     "data": {
      "text/plain": [
       "(15460, 40)"
      ]
     },
     "execution_count": 33,
     "metadata": {},
     "output_type": "execute_result"
    }
   ],
   "source": [
    "player_detail.shape"
   ]
  },
  {
   "cell_type": "code",
   "execution_count": 34,
   "metadata": {},
   "outputs": [],
   "source": [
    "raids = player_detail"
   ]
  },
  {
   "cell_type": "code",
   "execution_count": 35,
   "metadata": {},
   "outputs": [],
   "source": [
    "player_id = raids['id']\n",
    "player_name = raids['name']\n",
    "player_short_name = raids['short_name']"
   ]
  },
  {
   "cell_type": "code",
   "execution_count": 36,
   "metadata": {},
   "outputs": [
    {
     "data": {
      "text/plain": [
       "Index(['Team', 'id', 'name', 'short_name', 'red_card', 'yellow_card',\n",
       "       'green_card', 'played', 'captain', 'on_court', 'starter', 'top_raider',\n",
       "       'top_defender', 'Player_points_total', 'raider_points_total',\n",
       "       'raider_points_touch', 'raider_points_raid_bonus',\n",
       "       'tackle_points_total', 'tackle_points_capture',\n",
       "       'tackle_points_capture_bonus', 'raids_unsuccessful', 'raids_Empty',\n",
       "       'raids_total.1', 'raids_successful.1', 'raids_unsuccessful.1',\n",
       "       'raids_Empty.1', 'tackles_unsuccessful', 'start_time', 'winning_team',\n",
       "       'toss_winner', 'venue', 'toss_choice', 'toss_direction',\n",
       "       'winning_score', 'loosing_score', 'Year', 'Month', 'Season',\n",
       "       'raider_sucess_%', 'tackle_sucess_%'],\n",
       "      dtype='object')"
      ]
     },
     "execution_count": 36,
     "metadata": {},
     "output_type": "execute_result"
    }
   ],
   "source": [
    "raids.columns"
   ]
  },
  {
   "cell_type": "code",
   "execution_count": 37,
   "metadata": {},
   "outputs": [],
   "source": [
    "raids.drop(['Team','id','name','short_name'],axis=1,inplace=True)"
   ]
  },
  {
   "cell_type": "code",
   "execution_count": 38,
   "metadata": {},
   "outputs": [
    {
     "data": {
      "text/plain": [
       "Index(['red_card', 'yellow_card', 'green_card', 'played', 'captain',\n",
       "       'on_court', 'starter', 'top_raider', 'top_defender',\n",
       "       'Player_points_total', 'raider_points_total', 'raider_points_touch',\n",
       "       'raider_points_raid_bonus', 'tackle_points_total',\n",
       "       'tackle_points_capture', 'tackle_points_capture_bonus',\n",
       "       'raids_unsuccessful', 'raids_Empty', 'raids_total.1',\n",
       "       'raids_successful.1', 'raids_unsuccessful.1', 'raids_Empty.1',\n",
       "       'tackles_unsuccessful', 'start_time', 'winning_team', 'toss_winner',\n",
       "       'venue', 'toss_choice', 'toss_direction', 'winning_score',\n",
       "       'loosing_score', 'Year', 'Month', 'Season', 'raider_sucess_%',\n",
       "       'tackle_sucess_%'],\n",
       "      dtype='object')"
      ]
     },
     "execution_count": 38,
     "metadata": {},
     "output_type": "execute_result"
    }
   ],
   "source": [
    "raids.columns"
   ]
  },
  {
   "cell_type": "code",
   "execution_count": 39,
   "metadata": {},
   "outputs": [],
   "source": [
    "raids['Season'] = raids['Season'].astype('category')\n",
    "raids['venue'] = raids['venue'].astype('category')"
   ]
  },
  {
   "cell_type": "markdown",
   "metadata": {},
   "source": [
    "### Data Preparation"
   ]
  },
  {
   "cell_type": "code",
   "execution_count": 40,
   "metadata": {},
   "outputs": [],
   "source": [
    "cat = pd.get_dummies(raids.select_dtypes(include='object'))"
   ]
  },
  {
   "cell_type": "code",
   "execution_count": 41,
   "metadata": {},
   "outputs": [],
   "source": [
    "raids_model = pd.concat([cat,raids.select_dtypes(exclude='object')],axis=1)"
   ]
  },
  {
   "cell_type": "code",
   "execution_count": 42,
   "metadata": {},
   "outputs": [
    {
     "data": {
      "text/plain": [
       "(15460, 38)"
      ]
     },
     "execution_count": 42,
     "metadata": {},
     "output_type": "execute_result"
    }
   ],
   "source": [
    "raids_model.shape"
   ]
  },
  {
   "cell_type": "code",
   "execution_count": 43,
   "metadata": {},
   "outputs": [],
   "source": [
    "raids_train = raids_model[raids_model['Season'] != 'Season 7']"
   ]
  },
  {
   "cell_type": "code",
   "execution_count": 44,
   "metadata": {},
   "outputs": [
    {
     "data": {
      "text/plain": [
       "(12731, 38)"
      ]
     },
     "execution_count": 44,
     "metadata": {},
     "output_type": "execute_result"
    }
   ],
   "source": [
    "raids_train.shape"
   ]
  },
  {
   "cell_type": "code",
   "execution_count": 45,
   "metadata": {},
   "outputs": [],
   "source": [
    "raids_test = raids_model[raids_model['Season'] == 'Season 7']"
   ]
  },
  {
   "cell_type": "code",
   "execution_count": 46,
   "metadata": {},
   "outputs": [
    {
     "data": {
      "text/plain": [
       "(2729, 38)"
      ]
     },
     "execution_count": 46,
     "metadata": {},
     "output_type": "execute_result"
    }
   ],
   "source": [
    "raids_test.shape"
   ]
  },
  {
   "cell_type": "code",
   "execution_count": 47,
   "metadata": {},
   "outputs": [],
   "source": [
    "X_train = raids_train.drop(['raider_sucess_%','Season','raider_points_total','venue'],axis=1)\n",
    "y_train = raids_train['raider_sucess_%']"
   ]
  },
  {
   "cell_type": "code",
   "execution_count": 48,
   "metadata": {},
   "outputs": [
    {
     "data": {
      "text/plain": [
       "(12731, 34)"
      ]
     },
     "execution_count": 48,
     "metadata": {},
     "output_type": "execute_result"
    }
   ],
   "source": [
    "X_train.shape"
   ]
  },
  {
   "cell_type": "code",
   "execution_count": 49,
   "metadata": {},
   "outputs": [
    {
     "data": {
      "text/plain": [
       "(12731,)"
      ]
     },
     "execution_count": 49,
     "metadata": {},
     "output_type": "execute_result"
    }
   ],
   "source": [
    "y_train.shape"
   ]
  },
  {
   "cell_type": "code",
   "execution_count": 50,
   "metadata": {},
   "outputs": [],
   "source": [
    "X_test = raids_test.drop(['raider_sucess_%','Season','raider_points_total','venue'],axis=1)\n",
    "y_test = raids_test['raider_sucess_%']"
   ]
  },
  {
   "cell_type": "code",
   "execution_count": 51,
   "metadata": {},
   "outputs": [
    {
     "data": {
      "text/plain": [
       "(2729, 34)"
      ]
     },
     "execution_count": 51,
     "metadata": {},
     "output_type": "execute_result"
    }
   ],
   "source": [
    "X_test.shape"
   ]
  },
  {
   "cell_type": "code",
   "execution_count": 52,
   "metadata": {},
   "outputs": [
    {
     "data": {
      "text/plain": [
       "(2729,)"
      ]
     },
     "execution_count": 52,
     "metadata": {},
     "output_type": "execute_result"
    }
   ],
   "source": [
    "y_test.shape"
   ]
  },
  {
   "cell_type": "code",
   "execution_count": 53,
   "metadata": {},
   "outputs": [],
   "source": [
    "# scaling the features\n",
    "\n",
    "\n",
    "# storing column names in cols, since column names are (annoyingly) lost after \n",
    "# scaling (the df is converted to a numpy array)\n",
    "\n",
    "scaler = StandardScaler()\n",
    "\n",
    "X_train[X_train.columns] = scaler.fit_transform(X_train[X_train.columns])"
   ]
  },
  {
   "cell_type": "code",
   "execution_count": 54,
   "metadata": {},
   "outputs": [],
   "source": [
    "X_test[X_train.columns] = scaler.transform(X_test[X_train.columns])"
   ]
  },
  {
   "cell_type": "markdown",
   "metadata": {},
   "source": [
    "### Model"
   ]
  },
  {
   "cell_type": "code",
   "execution_count": 55,
   "metadata": {},
   "outputs": [],
   "source": [
    "params = {'alpha': [0.01,0.02,0.05,0.1,0.2,0.3,0.4,0.5,0.6,0.7,0.8,0.9,1,5,10,50,100,200,500]}"
   ]
  },
  {
   "cell_type": "code",
   "execution_count": 56,
   "metadata": {},
   "outputs": [
    {
     "name": "stdout",
     "output_type": "stream",
     "text": [
      "Fitting 5 folds for each of 19 candidates, totalling 95 fits\n"
     ]
    },
    {
     "name": "stderr",
     "output_type": "stream",
     "text": [
      "[Parallel(n_jobs=1)]: Using backend SequentialBackend with 1 concurrent workers.\n",
      "[Parallel(n_jobs=1)]: Done  95 out of  95 | elapsed:    3.5s finished\n"
     ]
    },
    {
     "data": {
      "text/plain": [
       "GridSearchCV(cv=5, error_score='raise-deprecating',\n",
       "             estimator=Lasso(alpha=1.0, copy_X=True, fit_intercept=True,\n",
       "                             max_iter=1000, normalize=False, positive=False,\n",
       "                             precompute=False, random_state=None,\n",
       "                             selection='cyclic', tol=0.0001, warm_start=False),\n",
       "             iid='warn', n_jobs=None,\n",
       "             param_grid={'alpha': [0.01, 0.02, 0.05, 0.1, 0.2, 0.3, 0.4, 0.5,\n",
       "                                   0.6, 0.7, 0.8, 0.9, 1, 5, 10, 50, 100, 200,\n",
       "                                   500]},\n",
       "             pre_dispatch='2*n_jobs', refit=True, return_train_score=True,\n",
       "             scoring='neg_mean_absolute_error', verbose=1)"
      ]
     },
     "execution_count": 56,
     "metadata": {},
     "output_type": "execute_result"
    }
   ],
   "source": [
    "lasso = Lasso()\n",
    "\n",
    "# cross validation\n",
    "folds=5\n",
    "model_cv = GridSearchCV(estimator = lasso, \n",
    "                        param_grid = params, \n",
    "                        scoring= 'neg_mean_absolute_error', \n",
    "                        cv = folds, \n",
    "                        return_train_score=True,\n",
    "                        verbose = 1)            \n",
    "\n",
    "model_cv.fit(X_train, y_train) "
   ]
  },
  {
   "cell_type": "code",
   "execution_count": 57,
   "metadata": {},
   "outputs": [
    {
     "data": {
      "text/html": [
       "<div>\n",
       "<style scoped>\n",
       "    .dataframe tbody tr th:only-of-type {\n",
       "        vertical-align: middle;\n",
       "    }\n",
       "\n",
       "    .dataframe tbody tr th {\n",
       "        vertical-align: top;\n",
       "    }\n",
       "\n",
       "    .dataframe thead th {\n",
       "        text-align: right;\n",
       "    }\n",
       "</style>\n",
       "<table border=\"1\" class=\"dataframe\">\n",
       "  <thead>\n",
       "    <tr style=\"text-align: right;\">\n",
       "      <th></th>\n",
       "      <th>mean_fit_time</th>\n",
       "      <th>std_fit_time</th>\n",
       "      <th>mean_score_time</th>\n",
       "      <th>std_score_time</th>\n",
       "      <th>param_alpha</th>\n",
       "      <th>params</th>\n",
       "      <th>split0_test_score</th>\n",
       "      <th>split1_test_score</th>\n",
       "      <th>split2_test_score</th>\n",
       "      <th>split3_test_score</th>\n",
       "      <th>...</th>\n",
       "      <th>mean_test_score</th>\n",
       "      <th>std_test_score</th>\n",
       "      <th>rank_test_score</th>\n",
       "      <th>split0_train_score</th>\n",
       "      <th>split1_train_score</th>\n",
       "      <th>split2_train_score</th>\n",
       "      <th>split3_train_score</th>\n",
       "      <th>split4_train_score</th>\n",
       "      <th>mean_train_score</th>\n",
       "      <th>std_train_score</th>\n",
       "    </tr>\n",
       "  </thead>\n",
       "  <tbody>\n",
       "    <tr>\n",
       "      <th>0</th>\n",
       "      <td>0.227688</td>\n",
       "      <td>0.019434</td>\n",
       "      <td>0.001596</td>\n",
       "      <td>0.000489</td>\n",
       "      <td>0.01</td>\n",
       "      <td>{'alpha': 0.01}</td>\n",
       "      <td>-7.779091</td>\n",
       "      <td>-8.817898</td>\n",
       "      <td>-8.107720</td>\n",
       "      <td>-7.862420</td>\n",
       "      <td>...</td>\n",
       "      <td>-7.914319</td>\n",
       "      <td>0.583515</td>\n",
       "      <td>7</td>\n",
       "      <td>-7.594038</td>\n",
       "      <td>-7.713888</td>\n",
       "      <td>-7.858657</td>\n",
       "      <td>-7.817440</td>\n",
       "      <td>-7.919690</td>\n",
       "      <td>-7.780743</td>\n",
       "      <td>0.114936</td>\n",
       "    </tr>\n",
       "    <tr>\n",
       "      <th>1</th>\n",
       "      <td>0.129548</td>\n",
       "      <td>0.017250</td>\n",
       "      <td>0.000798</td>\n",
       "      <td>0.000746</td>\n",
       "      <td>0.02</td>\n",
       "      <td>{'alpha': 0.02}</td>\n",
       "      <td>-7.756053</td>\n",
       "      <td>-8.797335</td>\n",
       "      <td>-8.127608</td>\n",
       "      <td>-7.857209</td>\n",
       "      <td>...</td>\n",
       "      <td>-7.904878</td>\n",
       "      <td>0.585539</td>\n",
       "      <td>6</td>\n",
       "      <td>-7.592631</td>\n",
       "      <td>-7.709160</td>\n",
       "      <td>-7.853609</td>\n",
       "      <td>-7.810314</td>\n",
       "      <td>-7.917981</td>\n",
       "      <td>-7.776739</td>\n",
       "      <td>0.114410</td>\n",
       "    </tr>\n",
       "    <tr>\n",
       "      <th>2</th>\n",
       "      <td>0.069006</td>\n",
       "      <td>0.010239</td>\n",
       "      <td>0.003330</td>\n",
       "      <td>0.006173</td>\n",
       "      <td>0.05</td>\n",
       "      <td>{'alpha': 0.05}</td>\n",
       "      <td>-7.688835</td>\n",
       "      <td>-8.738852</td>\n",
       "      <td>-8.191864</td>\n",
       "      <td>-7.841971</td>\n",
       "      <td>...</td>\n",
       "      <td>-7.880646</td>\n",
       "      <td>0.592115</td>\n",
       "      <td>5</td>\n",
       "      <td>-7.585714</td>\n",
       "      <td>-7.697463</td>\n",
       "      <td>-7.841627</td>\n",
       "      <td>-7.793409</td>\n",
       "      <td>-7.915254</td>\n",
       "      <td>-7.766693</td>\n",
       "      <td>0.114844</td>\n",
       "    </tr>\n",
       "    <tr>\n",
       "      <th>3</th>\n",
       "      <td>0.040610</td>\n",
       "      <td>0.007649</td>\n",
       "      <td>0.000000</td>\n",
       "      <td>0.000000</td>\n",
       "      <td>0.1</td>\n",
       "      <td>{'alpha': 0.1}</td>\n",
       "      <td>-7.574140</td>\n",
       "      <td>-8.646891</td>\n",
       "      <td>-8.278394</td>\n",
       "      <td>-7.831598</td>\n",
       "      <td>...</td>\n",
       "      <td>-7.843189</td>\n",
       "      <td>0.604288</td>\n",
       "      <td>4</td>\n",
       "      <td>-7.590366</td>\n",
       "      <td>-7.682769</td>\n",
       "      <td>-7.827433</td>\n",
       "      <td>-7.776983</td>\n",
       "      <td>-7.914969</td>\n",
       "      <td>-7.758504</td>\n",
       "      <td>0.112765</td>\n",
       "    </tr>\n",
       "    <tr>\n",
       "      <th>4</th>\n",
       "      <td>0.024223</td>\n",
       "      <td>0.008065</td>\n",
       "      <td>0.000199</td>\n",
       "      <td>0.000399</td>\n",
       "      <td>0.2</td>\n",
       "      <td>{'alpha': 0.2}</td>\n",
       "      <td>-7.622938</td>\n",
       "      <td>-8.481551</td>\n",
       "      <td>-8.257501</td>\n",
       "      <td>-7.827167</td>\n",
       "      <td>...</td>\n",
       "      <td>-7.797076</td>\n",
       "      <td>0.585351</td>\n",
       "      <td>1</td>\n",
       "      <td>-7.622552</td>\n",
       "      <td>-7.672375</td>\n",
       "      <td>-7.790697</td>\n",
       "      <td>-7.760643</td>\n",
       "      <td>-7.901746</td>\n",
       "      <td>-7.749602</td>\n",
       "      <td>0.097020</td>\n",
       "    </tr>\n",
       "  </tbody>\n",
       "</table>\n",
       "<p>5 rows × 21 columns</p>\n",
       "</div>"
      ],
      "text/plain": [
       "   mean_fit_time  std_fit_time  mean_score_time  std_score_time param_alpha  \\\n",
       "0       0.227688      0.019434         0.001596        0.000489        0.01   \n",
       "1       0.129548      0.017250         0.000798        0.000746        0.02   \n",
       "2       0.069006      0.010239         0.003330        0.006173        0.05   \n",
       "3       0.040610      0.007649         0.000000        0.000000         0.1   \n",
       "4       0.024223      0.008065         0.000199        0.000399         0.2   \n",
       "\n",
       "            params  split0_test_score  split1_test_score  split2_test_score  \\\n",
       "0  {'alpha': 0.01}          -7.779091          -8.817898          -8.107720   \n",
       "1  {'alpha': 0.02}          -7.756053          -8.797335          -8.127608   \n",
       "2  {'alpha': 0.05}          -7.688835          -8.738852          -8.191864   \n",
       "3   {'alpha': 0.1}          -7.574140          -8.646891          -8.278394   \n",
       "4   {'alpha': 0.2}          -7.622938          -8.481551          -8.257501   \n",
       "\n",
       "   split3_test_score  ...  mean_test_score  std_test_score  rank_test_score  \\\n",
       "0          -7.862420  ...        -7.914319        0.583515                7   \n",
       "1          -7.857209  ...        -7.904878        0.585539                6   \n",
       "2          -7.841971  ...        -7.880646        0.592115                5   \n",
       "3          -7.831598  ...        -7.843189        0.604288                4   \n",
       "4          -7.827167  ...        -7.797076        0.585351                1   \n",
       "\n",
       "   split0_train_score  split1_train_score  split2_train_score  \\\n",
       "0           -7.594038           -7.713888           -7.858657   \n",
       "1           -7.592631           -7.709160           -7.853609   \n",
       "2           -7.585714           -7.697463           -7.841627   \n",
       "3           -7.590366           -7.682769           -7.827433   \n",
       "4           -7.622552           -7.672375           -7.790697   \n",
       "\n",
       "   split3_train_score  split4_train_score  mean_train_score  std_train_score  \n",
       "0           -7.817440           -7.919690         -7.780743         0.114936  \n",
       "1           -7.810314           -7.917981         -7.776739         0.114410  \n",
       "2           -7.793409           -7.915254         -7.766693         0.114844  \n",
       "3           -7.776983           -7.914969         -7.758504         0.112765  \n",
       "4           -7.760643           -7.901746         -7.749602         0.097020  \n",
       "\n",
       "[5 rows x 21 columns]"
      ]
     },
     "execution_count": 57,
     "metadata": {},
     "output_type": "execute_result"
    }
   ],
   "source": [
    "cv_results = pd.DataFrame(model_cv.cv_results_)\n",
    "cv_results.head()"
   ]
  },
  {
   "cell_type": "code",
   "execution_count": 58,
   "metadata": {},
   "outputs": [
    {
     "data": {
      "text/html": [
       "<div>\n",
       "<style scoped>\n",
       "    .dataframe tbody tr th:only-of-type {\n",
       "        vertical-align: middle;\n",
       "    }\n",
       "\n",
       "    .dataframe tbody tr th {\n",
       "        vertical-align: top;\n",
       "    }\n",
       "\n",
       "    .dataframe thead th {\n",
       "        text-align: right;\n",
       "    }\n",
       "</style>\n",
       "<table border=\"1\" class=\"dataframe\">\n",
       "  <thead>\n",
       "    <tr style=\"text-align: right;\">\n",
       "      <th></th>\n",
       "      <th>param_alpha</th>\n",
       "      <th>mean_train_score</th>\n",
       "      <th>mean_test_score</th>\n",
       "    </tr>\n",
       "  </thead>\n",
       "  <tbody>\n",
       "    <tr>\n",
       "      <th>0</th>\n",
       "      <td>0.01</td>\n",
       "      <td>-7.780743</td>\n",
       "      <td>-7.914319</td>\n",
       "    </tr>\n",
       "    <tr>\n",
       "      <th>1</th>\n",
       "      <td>0.02</td>\n",
       "      <td>-7.776739</td>\n",
       "      <td>-7.904878</td>\n",
       "    </tr>\n",
       "    <tr>\n",
       "      <th>2</th>\n",
       "      <td>0.05</td>\n",
       "      <td>-7.766693</td>\n",
       "      <td>-7.880646</td>\n",
       "    </tr>\n",
       "    <tr>\n",
       "      <th>3</th>\n",
       "      <td>0.1</td>\n",
       "      <td>-7.758504</td>\n",
       "      <td>-7.843189</td>\n",
       "    </tr>\n",
       "    <tr>\n",
       "      <th>4</th>\n",
       "      <td>0.2</td>\n",
       "      <td>-7.749602</td>\n",
       "      <td>-7.797076</td>\n",
       "    </tr>\n",
       "    <tr>\n",
       "      <th>5</th>\n",
       "      <td>0.3</td>\n",
       "      <td>-7.762082</td>\n",
       "      <td>-7.797354</td>\n",
       "    </tr>\n",
       "    <tr>\n",
       "      <th>6</th>\n",
       "      <td>0.4</td>\n",
       "      <td>-7.795193</td>\n",
       "      <td>-7.840463</td>\n",
       "    </tr>\n",
       "    <tr>\n",
       "      <th>7</th>\n",
       "      <td>0.5</td>\n",
       "      <td>-7.842503</td>\n",
       "      <td>-7.929325</td>\n",
       "    </tr>\n",
       "    <tr>\n",
       "      <th>8</th>\n",
       "      <td>0.6</td>\n",
       "      <td>-7.900265</td>\n",
       "      <td>-8.030047</td>\n",
       "    </tr>\n",
       "    <tr>\n",
       "      <th>9</th>\n",
       "      <td>0.7</td>\n",
       "      <td>-7.969144</td>\n",
       "      <td>-8.132760</td>\n",
       "    </tr>\n",
       "    <tr>\n",
       "      <th>10</th>\n",
       "      <td>0.8</td>\n",
       "      <td>-8.045977</td>\n",
       "      <td>-8.225942</td>\n",
       "    </tr>\n",
       "    <tr>\n",
       "      <th>11</th>\n",
       "      <td>0.9</td>\n",
       "      <td>-8.116333</td>\n",
       "      <td>-8.300334</td>\n",
       "    </tr>\n",
       "    <tr>\n",
       "      <th>12</th>\n",
       "      <td>1</td>\n",
       "      <td>-8.171239</td>\n",
       "      <td>-8.360558</td>\n",
       "    </tr>\n",
       "    <tr>\n",
       "      <th>13</th>\n",
       "      <td>5</td>\n",
       "      <td>-9.884274</td>\n",
       "      <td>-9.895747</td>\n",
       "    </tr>\n",
       "    <tr>\n",
       "      <th>14</th>\n",
       "      <td>10</td>\n",
       "      <td>-13.009829</td>\n",
       "      <td>-13.021036</td>\n",
       "    </tr>\n",
       "    <tr>\n",
       "      <th>15</th>\n",
       "      <td>50</td>\n",
       "      <td>-16.823174</td>\n",
       "      <td>-16.822226</td>\n",
       "    </tr>\n",
       "    <tr>\n",
       "      <th>16</th>\n",
       "      <td>100</td>\n",
       "      <td>-16.823174</td>\n",
       "      <td>-16.822226</td>\n",
       "    </tr>\n",
       "    <tr>\n",
       "      <th>17</th>\n",
       "      <td>200</td>\n",
       "      <td>-16.823174</td>\n",
       "      <td>-16.822226</td>\n",
       "    </tr>\n",
       "    <tr>\n",
       "      <th>18</th>\n",
       "      <td>500</td>\n",
       "      <td>-16.823174</td>\n",
       "      <td>-16.822226</td>\n",
       "    </tr>\n",
       "  </tbody>\n",
       "</table>\n",
       "</div>"
      ],
      "text/plain": [
       "   param_alpha  mean_train_score  mean_test_score\n",
       "0         0.01         -7.780743        -7.914319\n",
       "1         0.02         -7.776739        -7.904878\n",
       "2         0.05         -7.766693        -7.880646\n",
       "3          0.1         -7.758504        -7.843189\n",
       "4          0.2         -7.749602        -7.797076\n",
       "5          0.3         -7.762082        -7.797354\n",
       "6          0.4         -7.795193        -7.840463\n",
       "7          0.5         -7.842503        -7.929325\n",
       "8          0.6         -7.900265        -8.030047\n",
       "9          0.7         -7.969144        -8.132760\n",
       "10         0.8         -8.045977        -8.225942\n",
       "11         0.9         -8.116333        -8.300334\n",
       "12           1         -8.171239        -8.360558\n",
       "13           5         -9.884274        -9.895747\n",
       "14          10        -13.009829       -13.021036\n",
       "15          50        -16.823174       -16.822226\n",
       "16         100        -16.823174       -16.822226\n",
       "17         200        -16.823174       -16.822226\n",
       "18         500        -16.823174       -16.822226"
      ]
     },
     "execution_count": 58,
     "metadata": {},
     "output_type": "execute_result"
    }
   ],
   "source": [
    "cv_results[['param_alpha','mean_train_score','mean_test_score']]"
   ]
  },
  {
   "cell_type": "code",
   "execution_count": 59,
   "metadata": {},
   "outputs": [
    {
     "data": {
      "text/plain": [
       "Lasso(alpha=0.2, copy_X=True, fit_intercept=True, max_iter=1000,\n",
       "      normalize=False, positive=False, precompute=False, random_state=None,\n",
       "      selection='cyclic', tol=0.0001, warm_start=False)"
      ]
     },
     "execution_count": 59,
     "metadata": {},
     "output_type": "execute_result"
    }
   ],
   "source": [
    "alpha = 0.2\n",
    "\n",
    "lasso = Lasso(alpha=alpha)\n",
    "        \n",
    "lasso.fit(X_train, y_train) "
   ]
  },
  {
   "cell_type": "code",
   "execution_count": 60,
   "metadata": {},
   "outputs": [
    {
     "data": {
      "text/plain": [
       "0.5637384237551497"
      ]
     },
     "execution_count": 60,
     "metadata": {},
     "output_type": "execute_result"
    }
   ],
   "source": [
    "lasso.score(X_train,y_train)"
   ]
  },
  {
   "cell_type": "code",
   "execution_count": 61,
   "metadata": {},
   "outputs": [],
   "source": [
    "y_predict = lasso.predict(X_test)"
   ]
  },
  {
   "cell_type": "code",
   "execution_count": 62,
   "metadata": {},
   "outputs": [
    {
     "name": "stdout",
     "output_type": "stream",
     "text": [
      "0.6126144545837401\n"
     ]
    }
   ],
   "source": [
    "print(r2_score(y_test,y_predict))"
   ]
  },
  {
   "cell_type": "code",
   "execution_count": 63,
   "metadata": {},
   "outputs": [
    {
     "name": "stdout",
     "output_type": "stream",
     "text": [
      "0.6126144545837401\n",
      "12.88446231294909\n"
     ]
    }
   ],
   "source": [
    "print(r2_score(y_test,y_predict))\n",
    "print(np.sqrt(mean_squared_error(y_test,y_predict)))"
   ]
  },
  {
   "cell_type": "code",
   "execution_count": 64,
   "metadata": {},
   "outputs": [
    {
     "data": {
      "text/plain": [
       "<matplotlib.collections.PathCollection at 0x213afd2f948>"
      ]
     },
     "execution_count": 64,
     "metadata": {},
     "output_type": "execute_result"
    },
    {
     "data": {
      "image/png": "[encoded data removed]",
      "text/plain": [
       "<Figure size 432x288 with 1 Axes>"
      ]
     },
     "metadata": {
      "needs_background": "light"
     },
     "output_type": "display_data"
    }
   ],
   "source": [
    "plt.scatter(y_test,y_predict)"
   ]
  },
  {
   "cell_type": "code",
   "execution_count": 65,
   "metadata": {},
   "outputs": [],
   "source": [
    "features = np.abs(pd.Series(dict(zip(X_train.columns,lasso.coef_)))).sort_values(ascending=False)"
   ]
  },
  {
   "cell_type": "code",
   "execution_count": 66,
   "metadata": {},
   "outputs": [
    {
     "data": {
      "text/plain": [
       "raids_successful.1             1.538099e+01\n",
       "top_raider                     2.191359e+00\n",
       "raider_points_touch            1.683047e+00\n",
       "played                         1.542698e+00\n",
       "raids_Empty.1                  1.533312e+00\n",
       "on_court                       1.224426e+00\n",
       "raider_points_raid_bonus       1.196157e+00\n",
       "captain                        7.510621e-01\n",
       "Year                           3.620499e-01\n",
       "starter                        3.396574e-01\n",
       "tackle_points_capture          1.957135e-01\n",
       "toss_direction                 4.988260e-02\n",
       "start_time_Late                3.146326e-02\n",
       "red_card                       8.830752e-04\n",
       "start_time_Ususal              2.393219e-15\n",
       "yellow_card                    0.000000e+00\n",
       "green_card                     0.000000e+00\n",
       "top_defender                   0.000000e+00\n",
       "Player_points_total            0.000000e+00\n",
       "tackle_sucess_%                0.000000e+00\n",
       "tackle_points_total            0.000000e+00\n",
       "Month                          0.000000e+00\n",
       "tackle_points_capture_bonus    0.000000e+00\n",
       "raids_unsuccessful             0.000000e+00\n",
       "raids_Empty                    0.000000e+00\n",
       "raids_total.1                  0.000000e+00\n",
       "raids_unsuccessful.1           0.000000e+00\n",
       "tackles_unsuccessful           0.000000e+00\n",
       "winning_team                   0.000000e+00\n",
       "toss_winner                    0.000000e+00\n",
       "toss_choice                    0.000000e+00\n",
       "winning_score                  0.000000e+00\n",
       "loosing_score                  0.000000e+00\n",
       "start_time_Early               0.000000e+00\n",
       "dtype: float64"
      ]
     },
     "execution_count": 66,
     "metadata": {},
     "output_type": "execute_result"
    }
   ],
   "source": [
    "features"
   ]
  },
  {
   "cell_type": "code",
   "execution_count": 67,
   "metadata": {},
   "outputs": [],
   "source": [
    "raiders = pd.DataFrame(np.array([player_name.loc[raids_test.index].values,y_predict]).T,columns=['Playername','Predicted sucessful raid %'])"
   ]
  },
  {
   "cell_type": "code",
   "execution_count": 68,
   "metadata": {},
   "outputs": [],
   "source": [
    "raiders['Predicted sucessful raid %'] = raiders['Predicted sucessful raid %'].astype('float')\n",
    "raiders = raiders[['Playername','Predicted sucessful raid %']].groupby('Playername').mean().sort_values(by='Predicted sucessful raid %',ascending=False)"
   ]
  },
  {
   "cell_type": "code",
   "execution_count": 69,
   "metadata": {},
   "outputs": [
    {
     "data": {
      "text/html": [
       "<div>\n",
       "<style scoped>\n",
       "    .dataframe tbody tr th:only-of-type {\n",
       "        vertical-align: middle;\n",
       "    }\n",
       "\n",
       "    .dataframe tbody tr th {\n",
       "        vertical-align: top;\n",
       "    }\n",
       "\n",
       "    .dataframe thead th {\n",
       "        text-align: right;\n",
       "    }\n",
       "</style>\n",
       "<table border=\"1\" class=\"dataframe\">\n",
       "  <thead>\n",
       "    <tr style=\"text-align: right;\">\n",
       "      <th></th>\n",
       "      <th>Predicted sucessful raid %</th>\n",
       "    </tr>\n",
       "    <tr>\n",
       "      <th>Playername</th>\n",
       "      <th></th>\n",
       "    </tr>\n",
       "  </thead>\n",
       "  <tbody>\n",
       "    <tr>\n",
       "      <th>Pawan Sehrawat</th>\n",
       "      <td>73.226937</td>\n",
       "    </tr>\n",
       "    <tr>\n",
       "      <th>Naveen Kumar</th>\n",
       "      <td>71.961245</td>\n",
       "    </tr>\n",
       "    <tr>\n",
       "      <th>Pardeep Narwal</th>\n",
       "      <td>66.212563</td>\n",
       "    </tr>\n",
       "    <tr>\n",
       "      <th>Sachin</th>\n",
       "      <td>57.723779</td>\n",
       "    </tr>\n",
       "    <tr>\n",
       "      <th>Maninder Singh</th>\n",
       "      <td>57.568298</td>\n",
       "    </tr>\n",
       "  </tbody>\n",
       "</table>\n",
       "</div>"
      ],
      "text/plain": [
       "                Predicted sucessful raid %\n",
       "Playername                                \n",
       "Pawan Sehrawat                   73.226937\n",
       "Naveen Kumar                     71.961245\n",
       "Pardeep Narwal                   66.212563\n",
       "Sachin                           57.723779\n",
       "Maninder Singh                   57.568298"
      ]
     },
     "execution_count": 69,
     "metadata": {},
     "output_type": "execute_result"
    }
   ],
   "source": [
    "raiders.head()"
   ]
  }
 ],
 "metadata": {
  "kernelspec": {
   "display_name": "Python 3",
   "language": "python",
   "name": "python3"
  },
  "language_info": {
   "codemirror_mode": {
    "name": "ipython",
    "version": 3
   },
   "file_extension": ".py",
   "mimetype": "text/x-python",
   "name": "python",
   "nbconvert_exporter": "python",
   "pygments_lexer": "ipython3",
   "version": "3.7.4"
  },
  "varInspector": {
   "cols": {
    "lenName": 16,
    "lenType": 16,
    "lenVar": 40
   },
   "kernels_config": {
    "python": {
     "delete_cmd_postfix": "",
     "delete_cmd_prefix": "del ",
     "library": "var_list.py",
     "varRefreshCmd": "print(var_dic_list())"
    },
    "r": {
     "delete_cmd_postfix": ") ",
     "delete_cmd_prefix": "rm(",
     "library": "var_list.r",
     "varRefreshCmd": "cat(var_dic_list()) "
    }
   },
   "types_to_exclude": [
    "module",
    "function",
    "builtin_function_or_method",
    "instance",
    "_Feature"
   ],
   "window_display": false
  }
 },
 "nbformat": 4,
 "nbformat_minor": 2
}
