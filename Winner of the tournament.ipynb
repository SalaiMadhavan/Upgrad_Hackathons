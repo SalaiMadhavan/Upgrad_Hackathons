{
 "cells": [
  {
   "cell_type": "code",
   "execution_count": 1,
   "metadata": {},
   "outputs": [],
   "source": [
    "# Importing Libraries\n",
    "\n",
    "import pandas as pd\n",
    "import numpy as np\n",
    "\n",
    "\n",
    "import warnings\n",
    "warnings.filterwarnings('ignore')\n"
   ]
  },
  {
   "cell_type": "code",
   "execution_count": 2,
   "metadata": {},
   "outputs": [
    {
     "data": {
      "text/html": [
       "<div>\n",
       "<style scoped>\n",
       "    .dataframe tbody tr th:only-of-type {\n",
       "        vertical-align: middle;\n",
       "    }\n",
       "\n",
       "    .dataframe tbody tr th {\n",
       "        vertical-align: top;\n",
       "    }\n",
       "\n",
       "    .dataframe thead th {\n",
       "        text-align: right;\n",
       "    }\n",
       "</style>\n",
       "<table border=\"1\" class=\"dataframe\">\n",
       "  <thead>\n",
       "    <tr style=\"text-align: right;\">\n",
       "      <th></th>\n",
       "      <th>match_id</th>\n",
       "      <th>home_team_name</th>\n",
       "      <th>Team_id</th>\n",
       "      <th>Team_name</th>\n",
       "      <th>Team_short_name</th>\n",
       "      <th>Team_Points_total</th>\n",
       "      <th>Team_Points_all_out</th>\n",
       "      <th>Team_Points_extras</th>\n",
       "      <th>Team_Points_declare</th>\n",
       "      <th>Team_Raid_Points_total</th>\n",
       "      <th>...</th>\n",
       "      <th>winning_team</th>\n",
       "      <th>toss_winner</th>\n",
       "      <th>venue</th>\n",
       "      <th>toss_choice</th>\n",
       "      <th>toss_direction</th>\n",
       "      <th>winning_score</th>\n",
       "      <th>loosing_score</th>\n",
       "      <th>Year</th>\n",
       "      <th>Month</th>\n",
       "      <th>Season</th>\n",
       "    </tr>\n",
       "  </thead>\n",
       "  <tbody>\n",
       "    <tr>\n",
       "      <th>0</th>\n",
       "      <td>1</td>\n",
       "      <td>U Mumba</td>\n",
       "      <td>3</td>\n",
       "      <td>Jaipur Pink Panthers</td>\n",
       "      <td>JAI</td>\n",
       "      <td>28</td>\n",
       "      <td>2</td>\n",
       "      <td>0</td>\n",
       "      <td>0</td>\n",
       "      <td>25</td>\n",
       "      <td>...</td>\n",
       "      <td>U Mumba</td>\n",
       "      <td>U Mumba</td>\n",
       "      <td>DOME@NSCI SVP Stadium, Mumbai</td>\n",
       "      <td>Choice of court</td>\n",
       "      <td>Right</td>\n",
       "      <td>45</td>\n",
       "      <td>31</td>\n",
       "      <td>2014</td>\n",
       "      <td>7</td>\n",
       "      <td>Season 1</td>\n",
       "    </tr>\n",
       "    <tr>\n",
       "      <th>1</th>\n",
       "      <td>1</td>\n",
       "      <td>U Mumba</td>\n",
       "      <td>5</td>\n",
       "      <td>U Mumba</td>\n",
       "      <td>MUM</td>\n",
       "      <td>44</td>\n",
       "      <td>4</td>\n",
       "      <td>0</td>\n",
       "      <td>0</td>\n",
       "      <td>28</td>\n",
       "      <td>...</td>\n",
       "      <td>U Mumba</td>\n",
       "      <td>U Mumba</td>\n",
       "      <td>DOME@NSCI SVP Stadium, Mumbai</td>\n",
       "      <td>Choice of court</td>\n",
       "      <td>Right</td>\n",
       "      <td>45</td>\n",
       "      <td>31</td>\n",
       "      <td>2014</td>\n",
       "      <td>7</td>\n",
       "      <td>Season 1</td>\n",
       "    </tr>\n",
       "    <tr>\n",
       "      <th>2</th>\n",
       "      <td>2</td>\n",
       "      <td>TBC</td>\n",
       "      <td>1</td>\n",
       "      <td>Bengaluru Bulls</td>\n",
       "      <td>BEN</td>\n",
       "      <td>42</td>\n",
       "      <td>6</td>\n",
       "      <td>0</td>\n",
       "      <td>0</td>\n",
       "      <td>23</td>\n",
       "      <td>...</td>\n",
       "      <td>Bengaluru Bulls</td>\n",
       "      <td>Dabang Delhi K.C.</td>\n",
       "      <td>DOME@NSCI SVP Stadium, Mumbai</td>\n",
       "      <td>Choice of court</td>\n",
       "      <td>Left</td>\n",
       "      <td>47</td>\n",
       "      <td>28</td>\n",
       "      <td>2014</td>\n",
       "      <td>7</td>\n",
       "      <td>Season 1</td>\n",
       "    </tr>\n",
       "    <tr>\n",
       "      <th>3</th>\n",
       "      <td>2</td>\n",
       "      <td>TBC</td>\n",
       "      <td>2</td>\n",
       "      <td>Dabang Delhi K.C.</td>\n",
       "      <td>DEL</td>\n",
       "      <td>28</td>\n",
       "      <td>0</td>\n",
       "      <td>0</td>\n",
       "      <td>0</td>\n",
       "      <td>15</td>\n",
       "      <td>...</td>\n",
       "      <td>Bengaluru Bulls</td>\n",
       "      <td>Dabang Delhi K.C.</td>\n",
       "      <td>DOME@NSCI SVP Stadium, Mumbai</td>\n",
       "      <td>Choice of court</td>\n",
       "      <td>Left</td>\n",
       "      <td>47</td>\n",
       "      <td>28</td>\n",
       "      <td>2014</td>\n",
       "      <td>7</td>\n",
       "      <td>Season 1</td>\n",
       "    </tr>\n",
       "    <tr>\n",
       "      <th>4</th>\n",
       "      <td>3</td>\n",
       "      <td>TBC</td>\n",
       "      <td>1</td>\n",
       "      <td>Bengaluru Bulls</td>\n",
       "      <td>BEN</td>\n",
       "      <td>39</td>\n",
       "      <td>4</td>\n",
       "      <td>1</td>\n",
       "      <td>0</td>\n",
       "      <td>20</td>\n",
       "      <td>...</td>\n",
       "      <td>Bengaluru Bulls</td>\n",
       "      <td>Bengaluru Bulls</td>\n",
       "      <td>DOME@NSCI SVP Stadium, Mumbai</td>\n",
       "      <td>Choice of court</td>\n",
       "      <td>Right</td>\n",
       "      <td>40</td>\n",
       "      <td>37</td>\n",
       "      <td>2014</td>\n",
       "      <td>7</td>\n",
       "      <td>Season 1</td>\n",
       "    </tr>\n",
       "  </tbody>\n",
       "</table>\n",
       "<p>5 rows × 34 columns</p>\n",
       "</div>"
      ],
      "text/plain": [
       "   match_id home_team_name  Team_id             Team_name Team_short_name  \\\n",
       "0         1        U Mumba        3  Jaipur Pink Panthers             JAI   \n",
       "1         1        U Mumba        5               U Mumba             MUM   \n",
       "2         2            TBC        1       Bengaluru Bulls             BEN   \n",
       "3         2            TBC        2     Dabang Delhi K.C.             DEL   \n",
       "4         3            TBC        1       Bengaluru Bulls             BEN   \n",
       "\n",
       "   Team_Points_total  Team_Points_all_out  Team_Points_extras  \\\n",
       "0                 28                    2                   0   \n",
       "1                 44                    4                   0   \n",
       "2                 42                    6                   0   \n",
       "3                 28                    0                   0   \n",
       "4                 39                    4                   1   \n",
       "\n",
       "   Team_Points_declare  Team_Raid_Points_total  ...     winning_team  \\\n",
       "0                    0                      25  ...          U Mumba   \n",
       "1                    0                      28  ...          U Mumba   \n",
       "2                    0                      23  ...  Bengaluru Bulls   \n",
       "3                    0                      15  ...  Bengaluru Bulls   \n",
       "4                    0                      20  ...  Bengaluru Bulls   \n",
       "\n",
       "         toss_winner                          venue       toss_choice  \\\n",
       "0            U Mumba  DOME@NSCI SVP Stadium, Mumbai  Choice of court    \n",
       "1            U Mumba  DOME@NSCI SVP Stadium, Mumbai  Choice of court    \n",
       "2  Dabang Delhi K.C.  DOME@NSCI SVP Stadium, Mumbai  Choice of court    \n",
       "3  Dabang Delhi K.C.  DOME@NSCI SVP Stadium, Mumbai  Choice of court    \n",
       "4    Bengaluru Bulls  DOME@NSCI SVP Stadium, Mumbai  Choice of court    \n",
       "\n",
       "   toss_direction  winning_score  loosing_score  Year  Month    Season  \n",
       "0           Right             45             31  2014      7  Season 1  \n",
       "1           Right             45             31  2014      7  Season 1  \n",
       "2            Left             47             28  2014      7  Season 1  \n",
       "3            Left             47             28  2014      7  Season 1  \n",
       "4           Right             40             37  2014      7  Season 1  \n",
       "\n",
       "[5 rows x 34 columns]"
      ]
     },
     "execution_count": 2,
     "metadata": {},
     "output_type": "execute_result"
    }
   ],
   "source": [
    "# Importing team_details.xlsx and creating the dataframe\n",
    "\n",
    "team = pd.read_excel('team_detail.xlsx')\n",
    "team.head()"
   ]
  },
  {
   "cell_type": "code",
   "execution_count": 3,
   "metadata": {},
   "outputs": [],
   "source": [
    "team['home_team_name']=team['home_team_name'].replace({'TBC':'None'})\n",
    "\n",
    "# Consolidating Delhi team's names\n",
    "team['Team_name']=team['Team_name'].replace({'Dabang Delhi':'Dabang Delhi K.C.'})\n",
    "team['winning_team']=team['winning_team'].replace({'Dabang Delhi':'Dabang Delhi K.C.'})\n",
    "team['toss_winner']=team['toss_winner'].replace({'Dabang Delhi':'Dabang Delhi K.C.'})\n"
   ]
  },
  {
   "cell_type": "code",
   "execution_count": 4,
   "metadata": {},
   "outputs": [],
   "source": [
    "team1 = team[::2]"
   ]
  },
  {
   "cell_type": "code",
   "execution_count": 5,
   "metadata": {},
   "outputs": [],
   "source": [
    "team2 = team[1::2]"
   ]
  },
  {
   "cell_type": "code",
   "execution_count": 6,
   "metadata": {},
   "outputs": [
    {
     "data": {
      "text/plain": [
       "(636, 34)"
      ]
     },
     "execution_count": 6,
     "metadata": {},
     "output_type": "execute_result"
    }
   ],
   "source": [
    "team1.shape"
   ]
  },
  {
   "cell_type": "code",
   "execution_count": 7,
   "metadata": {},
   "outputs": [],
   "source": [
    "team1.index = range(0,len(team1))\n",
    "team2.index = range(0,len(team2))"
   ]
  },
  {
   "cell_type": "code",
   "execution_count": 8,
   "metadata": {},
   "outputs": [],
   "source": [
    "team1_list = []\n",
    "\n",
    "for each in team1.columns:\n",
    "    team1_list.append('team1_'+each)\n",
    "\n",
    "team1.columns = team1_list"
   ]
  },
  {
   "cell_type": "code",
   "execution_count": 9,
   "metadata": {},
   "outputs": [],
   "source": [
    "team2_list = []\n",
    "\n",
    "for each in team2.columns:\n",
    "    team2_list.append('team2_'+each)\n",
    "\n",
    "team2.columns = team2_list"
   ]
  },
  {
   "cell_type": "code",
   "execution_count": 10,
   "metadata": {},
   "outputs": [],
   "source": [
    "final = pd.concat([team1,team2],axis=1)"
   ]
  },
  {
   "cell_type": "code",
   "execution_count": 11,
   "metadata": {},
   "outputs": [
    {
     "data": {
      "text/plain": [
       "Index(['team1_match_id', 'team1_home_team_name', 'team1_Team_id',\n",
       "       'team1_Team_name', 'team1_Team_short_name', 'team1_Team_Points_total',\n",
       "       'team1_Team_Points_all_out', 'team1_Team_Points_extras',\n",
       "       'team1_Team_Points_declare', 'team1_Team_Raid_Points_total',\n",
       "       'team1_Team_Raid_Points_touch', 'team1_Team_Raid_Points_raid_bonus',\n",
       "       'team1_Team_Tackle_Points_total', 'team1_Team_Tackle_Points_capture',\n",
       "       'team1_Team_Tackle_Points_capture_bonus', 'team1_Team_Raids_total',\n",
       "       'team1_Team_Raids_successful', 'team1_Team_Raids_unsuccessful',\n",
       "       'team1_Team_Raids_Empty', 'team1_Team_Tackles_total',\n",
       "       'team1_Team_Tackles_successful', 'team1_Team_Tackles_unsuccessful',\n",
       "       'team1_date', 'team1_start_time', 'team1_winning_team',\n",
       "       'team1_toss_winner', 'team1_venue', 'team1_toss_choice',\n",
       "       'team1_toss_direction', 'team1_winning_score', 'team1_loosing_score',\n",
       "       'team1_Year', 'team1_Month', 'team1_Season', 'team2_match_id',\n",
       "       'team2_home_team_name', 'team2_Team_id', 'team2_Team_name',\n",
       "       'team2_Team_short_name', 'team2_Team_Points_total',\n",
       "       'team2_Team_Points_all_out', 'team2_Team_Points_extras',\n",
       "       'team2_Team_Points_declare', 'team2_Team_Raid_Points_total',\n",
       "       'team2_Team_Raid_Points_touch', 'team2_Team_Raid_Points_raid_bonus',\n",
       "       'team2_Team_Tackle_Points_total', 'team2_Team_Tackle_Points_capture',\n",
       "       'team2_Team_Tackle_Points_capture_bonus', 'team2_Team_Raids_total',\n",
       "       'team2_Team_Raids_successful', 'team2_Team_Raids_unsuccessful',\n",
       "       'team2_Team_Raids_Empty', 'team2_Team_Tackles_total',\n",
       "       'team2_Team_Tackles_successful', 'team2_Team_Tackles_unsuccessful',\n",
       "       'team2_date', 'team2_start_time', 'team2_winning_team',\n",
       "       'team2_toss_winner', 'team2_venue', 'team2_toss_choice',\n",
       "       'team2_toss_direction', 'team2_winning_score', 'team2_loosing_score',\n",
       "       'team2_Year', 'team2_Month', 'team2_Season'],\n",
       "      dtype='object')"
      ]
     },
     "execution_count": 11,
     "metadata": {},
     "output_type": "execute_result"
    }
   ],
   "source": [
    "final.columns"
   ]
  },
  {
   "cell_type": "code",
   "execution_count": 12,
   "metadata": {},
   "outputs": [],
   "source": [
    "temp = final[['team2_Team_name','team2_Team_Points_total','team1_Team_Points_total']]"
   ]
  },
  {
   "cell_type": "code",
   "execution_count": 13,
   "metadata": {},
   "outputs": [
    {
     "name": "stdout",
     "output_type": "stream",
     "text": [
      "***********************************************************************************************\n",
      "Jaipur Pink Panthers\n",
      "                       team2_Team_Points_total  team1_Team_Points_total\n",
      "team2_Team_name                                                        \n",
      "Bengal Warriors                           33.0                     33.5\n",
      "Bengaluru Bulls                           41.0                     30.0\n",
      "Dabang Delhi K.C.                         46.0                     44.0\n",
      "Gujarat Fortunegiants                     28.0                     28.0\n",
      "Patna Pirates                             36.0                     33.0\n",
      "Puneri Paltan                             29.5                     38.0\n",
      "Telugu Titans                             37.5                     26.0\n",
      "U.P. Yoddha                               38.0                     32.0\n",
      "***********************************************************************************************\n",
      "Bengaluru Bulls\n",
      "                       team2_Team_Points_total  team1_Team_Points_total\n",
      "team2_Team_name                                                        \n",
      "Gujarat Fortunegiants                     33.0                     24.0\n",
      "Haryana Steelers                          33.0                     30.0\n",
      "Patna Pirates                             35.5                     37.0\n",
      "Tamil Thalaivas                           27.0                     33.0\n",
      "Telugu Titans                             39.0                     40.0\n",
      "***********************************************************************************************\n",
      "Bengal Warriors\n",
      "                       team2_Team_Points_total  team1_Team_Points_total\n",
      "team2_Team_name                                                        \n",
      "Bengaluru Bulls                           41.5                     42.0\n",
      "Dabang Delhi K.C.                         30.0                     30.0\n",
      "Gujarat Fortunegiants                     25.0                     25.0\n",
      "Haryana Steelers                          36.0                     40.5\n",
      "Patna Pirates                             26.0                     35.0\n",
      "Puneri Paltan                             31.0                     42.5\n",
      "Tamil Thalaivas                           26.0                     35.0\n",
      "Telugu Titans                             29.0                     29.0\n",
      "U Mumba                                   28.0                     30.5\n",
      "***********************************************************************************************\n",
      "Dabang Delhi K.C.\n",
      "                       team2_Team_Points_total  team1_Team_Points_total\n",
      "team2_Team_name                                                        \n",
      "Bengaluru Bulls                           35.0                     36.0\n",
      "Gujarat Fortunegiants                     30.0                     34.0\n",
      "Haryana Steelers                          34.0                     33.0\n",
      "Jaipur Pink Panthers                      24.0                     35.0\n",
      "Patna Pirates                             35.0                     38.0\n",
      "Tamil Thalaivas                           31.5                     40.0\n",
      "U Mumba                                   24.0                     40.0\n",
      "U.P. Yoddha                               27.0                     36.0\n",
      "***********************************************************************************************\n",
      "U Mumba\n",
      "                       team2_Team_Points_total  team1_Team_Points_total\n",
      "team2_Team_name                                                        \n",
      "Bengaluru Bulls                           32.5                     29.5\n",
      "Gujarat Fortunegiants                     22.5                     31.5\n",
      "Haryana Steelers                          30.0                     27.0\n",
      "Jaipur Pink Panthers                      31.5                     35.0\n",
      "Patna Pirates                             30.0                     34.0\n",
      "Puneri Paltan                             23.0                     33.0\n",
      "U.P. Yoddha                               31.5                     31.0\n",
      "***********************************************************************************************\n",
      "Patna Pirates\n",
      "                      team2_Team_Points_total  team1_Team_Points_total\n",
      "team2_Team_name                                                       \n",
      "Dabang Delhi K.C.                        43.0                     39.0\n",
      "Haryana Steelers                         37.0                     30.0\n",
      "Jaipur Pink Panthers                     34.0                     21.0\n",
      "Puneri Paltan                            41.0                     20.0\n",
      "U.P. Yoddha                              30.5                     35.0\n",
      "***********************************************************************************************\n",
      "Puneri Paltan\n",
      "                       team2_Team_Points_total  team1_Team_Points_total\n",
      "team2_Team_name                                                        \n",
      "Bengaluru Bulls                           30.5                     36.5\n",
      "Dabang Delhi K.C.                         46.0                     35.0\n",
      "Gujarat Fortunegiants                     33.0                     43.0\n",
      "Haryana Steelers                          37.5                     25.5\n",
      "Patna Pirates                             55.0                     33.0\n",
      "Tamil Thalaivas                           36.0                     36.0\n",
      "U Mumba                                   33.0                     33.0\n",
      "***********************************************************************************************\n",
      "Telugu Titans\n",
      "                   team2_Team_Points_total  team1_Team_Points_total\n",
      "team2_Team_name                                                    \n",
      "Bengal Warriors                       40.0                     39.0\n",
      "Bengaluru Bulls                       47.0                     26.0\n",
      "Dabang Delhi K.C.                     35.5                     31.0\n",
      "Patna Pirates                         38.0                     32.0\n",
      "Puneri Paltan                         34.0                     27.0\n",
      "Tamil Thalaivas                       34.5                     30.5\n",
      "U Mumba                               36.0                     26.0\n",
      "U.P. Yoddha                           20.0                     20.0\n",
      "***********************************************************************************************\n",
      "Gujarat Fortunegiants\n",
      "                      team2_Team_Points_total  team1_Team_Points_total\n",
      "team2_Team_name                                                       \n",
      "Bengal Warriors                          28.0                     26.0\n",
      "Dabang Delhi K.C.                        26.0                     31.0\n",
      "Haryana Steelers                         41.0                     25.0\n",
      "Jaipur Pink Panthers                     22.0                     19.0\n",
      "Patna Pirates                            26.0                     29.0\n",
      "Puneri Paltan                            33.0                     31.0\n",
      "Tamil Thalaivas                          27.5                     39.0\n",
      "Telugu Titans                            30.0                     24.0\n",
      "U.P. Yoddha                              31.0                     38.0\n",
      "***********************************************************************************************\n",
      "Haryana Steelers\n",
      "                       team2_Team_Points_total  team1_Team_Points_total\n",
      "team2_Team_name                                                        \n",
      "Gujarat Fortunegiants                     37.0                     38.0\n",
      "Jaipur Pink Panthers                      34.5                     26.5\n",
      "Tamil Thalaivas                           35.0                     28.0\n",
      "Telugu Titans                             40.0                     29.0\n",
      "U.P. Yoddha                               37.0                     30.0\n",
      "***********************************************************************************************\n",
      "U.P. Yoddha\n",
      "                       team2_Team_Points_total  team1_Team_Points_total\n",
      "team2_Team_name                                                        \n",
      "Bengal Warriors                           38.5                     24.5\n",
      "Bengaluru Bulls                           33.0                     35.0\n",
      "Gujarat Fortunegiants                     35.0                     26.0\n",
      "Haryana Steelers                          36.0                     33.0\n",
      "Jaipur Pink Panthers                      24.0                     31.0\n",
      "Puneri Paltan                             30.0                     35.0\n",
      "Tamil Thalaivas                           25.0                     35.0\n",
      "***********************************************************************************************\n",
      "Tamil Thalaivas\n"
     ]
    },
    {
     "name": "stdout",
     "output_type": "stream",
     "text": [
      "                      team2_Team_Points_total  team1_Team_Points_total\n",
      "team2_Team_name                                                       \n",
      "Bengaluru Bulls                          32.0                     21.0\n",
      "Haryana Steelers                         43.0                     35.0\n",
      "Jaipur Pink Panthers                     28.0                     26.0\n",
      "Patna Pirates                            37.5                     24.0\n",
      "Puneri Paltan                            31.0                     31.0\n",
      "U Mumba                                  29.0                     24.0\n"
     ]
    }
   ],
   "source": [
    "for each in final['team1_Team_name'].unique():\n",
    "    print('***********************************************************************************************')\n",
    "    print(each)\n",
    "    temp = final[(final['team1_Team_name']== each)& (final['team1_Season'] == 'Season 7') ]\n",
    "    temp = temp[['team2_Team_name','team2_Team_Points_total','team1_Team_Points_total']]\n",
    "    print(temp.groupby('team2_Team_name').median())"
   ]
  },
  {
   "cell_type": "markdown",
   "metadata": {},
   "source": [
    "### Future Matches Analysis"
   ]
  },
  {
   "cell_type": "markdown",
   "metadata": {},
   "source": [
    "#Average points expected in future matches\n",
    "- Match 120 : Jaipur Pink Panthers (30) : Bengaluru bulls (41) --> Bengaluru\n",
    "- Match 121: Haryana Steelers (29) : Telgu titans (40) --> Telgu\n",
    "- Match 122: UP (45) Vs Delhi (33) : --> UP will win (based on previous season)\n",
    "- Match 123: Gujarat(33.4) Vs Patna(33.6) --> Patna (based on previous season)\n",
    "- Match 124: Bengal(34.2) Vs Patna --> (33.6) --> Bengal (based on previous season)\n",
    "- Match 125: UP (35) Vs Puneri (30) --> UP will win \n",
    "- Match 126 : Telgu(30) Vs Gujarat(24) --> Telgu\n",
    "- Match 127: Tamil (26) Vs Jaipur (28) --> Jaipur\n",
    "- Match 128: Bengal(30.83) Vs Tamil(26.5) --> Bengal\n",
    "- Match 129: UP(25) Vs Telgu (24) --> UP will win\n",
    "- Match 130 : MumBa (27) Vs Haryana(30) --> Haryana\n",
    "- Match 131: Delhi vs Mumba --> Mumba\n",
    "- Match 132: UP(28.5) Vs bengaluru(41) --> Bengaluru"
   ]
  },
  {
   "cell_type": "markdown",
   "metadata": {},
   "source": [
    "Top 6\n",
    "- Bengal Warriors (2 more wins) (Rank1)\n",
    "- Delhi (since it score higher points already) (Rank2)\n",
    "- Bengaluru bulls(2 more wins) (Rank3)\n",
    "- Haryana (1 more win) (Rank 4)\n",
    "- Mumba (1 more win) (Rank 5)\n",
    "- UP Yoddha (3 more wins) (Rank 6)\n",
    "- Patna (2 more wins)\n",
    "- Telgu (2 more wins)"
   ]
  },
  {
   "cell_type": "code",
   "execution_count": 14,
   "metadata": {},
   "outputs": [],
   "source": [
    "finals = final[['team1_Team_name','team2_Team_name','team1_winning_team']]"
   ]
  },
  {
   "cell_type": "code",
   "execution_count": 15,
   "metadata": {},
   "outputs": [],
   "source": [
    "def check_win(team1_name,team2_name):\n",
    "    cond1 = (finals['team1_Team_name'] == team1_name) & (finals['team2_Team_name'] == team2_name)\n",
    "    cond2 = (finals['team2_Team_name'] == team1_name) & (finals['team1_Team_name'] == team2_name)\n",
    "    print(finals[cond1 | cond2]['team1_winning_team'].value_counts().index[0])\n",
    "    return finals[cond1 | cond2]['team1_winning_team'].value_counts()"
   ]
  },
  {
   "cell_type": "markdown",
   "metadata": {},
   "source": [
    "### Elimator Rounds"
   ]
  },
  {
   "cell_type": "code",
   "execution_count": 16,
   "metadata": {},
   "outputs": [
    {
     "name": "stdout",
     "output_type": "stream",
     "text": [
      "Bengaluru Bulls\n"
     ]
    },
    {
     "data": {
      "text/plain": [
       "Bengaluru Bulls    5\n",
       "U.P. Yoddha        2\n",
       "Name: team1_winning_team, dtype: int64"
      ]
     },
     "execution_count": 16,
     "metadata": {},
     "output_type": "execute_result"
    }
   ],
   "source": [
    "#Rank 3 Vs Rank 6\n",
    "check_win('Bengaluru Bulls','U.P. Yoddha')"
   ]
  },
  {
   "cell_type": "code",
   "execution_count": 17,
   "metadata": {},
   "outputs": [
    {
     "name": "stdout",
     "output_type": "stream",
     "text": [
      "U Mumba\n"
     ]
    },
    {
     "data": {
      "text/plain": [
       "U Mumba             4\n",
       "Haryana Steelers    3\n",
       "Name: team1_winning_team, dtype: int64"
      ]
     },
     "execution_count": 17,
     "metadata": {},
     "output_type": "execute_result"
    }
   ],
   "source": [
    "# Rank 4 vs Rank 5\n",
    "check_win('Haryana Steelers','U Mumba')"
   ]
  },
  {
   "cell_type": "markdown",
   "metadata": {},
   "source": [
    "### Semi Finals"
   ]
  },
  {
   "cell_type": "code",
   "execution_count": 18,
   "metadata": {},
   "outputs": [
    {
     "name": "stdout",
     "output_type": "stream",
     "text": [
      "Bengal Warriors\n"
     ]
    },
    {
     "data": {
      "text/plain": [
       "Bengal Warriors    8\n",
       "Bengaluru Bulls    8\n",
       "Name: team1_winning_team, dtype: int64"
      ]
     },
     "execution_count": 18,
     "metadata": {},
     "output_type": "execute_result"
    }
   ],
   "source": [
    "# Rank1 Vs Winner eliminator 1\n",
    "check_win('Bengaluru Bulls','Bengal Warriors')"
   ]
  },
  {
   "cell_type": "markdown",
   "metadata": {},
   "source": [
    "--> Equal wins"
   ]
  },
  {
   "cell_type": "code",
   "execution_count": 19,
   "metadata": {},
   "outputs": [
    {
     "name": "stdout",
     "output_type": "stream",
     "text": [
      "U.P. Yoddha\n"
     ]
    },
    {
     "data": {
      "text/plain": [
       "U.P. Yoddha          3\n",
       "Dabang Delhi K.C.    1\n",
       "Name: team1_winning_team, dtype: int64"
      ]
     },
     "execution_count": 19,
     "metadata": {},
     "output_type": "execute_result"
    }
   ],
   "source": [
    "check_win('Dabang Delhi K.C.','U.P. Yoddha')"
   ]
  },
  {
   "cell_type": "markdown",
   "metadata": {},
   "source": [
    "### Final check for up Yodha with bengaluru and bengal"
   ]
  },
  {
   "cell_type": "code",
   "execution_count": 20,
   "metadata": {},
   "outputs": [
    {
     "name": "stdout",
     "output_type": "stream",
     "text": [
      "Bengaluru Bulls\n"
     ]
    },
    {
     "data": {
      "text/plain": [
       "Bengaluru Bulls    5\n",
       "U.P. Yoddha        2\n",
       "Name: team1_winning_team, dtype: int64"
      ]
     },
     "execution_count": 20,
     "metadata": {},
     "output_type": "execute_result"
    }
   ],
   "source": [
    "check_win('Bengaluru Bulls','U.P. Yoddha')"
   ]
  },
  {
   "cell_type": "code",
   "execution_count": 21,
   "metadata": {},
   "outputs": [
    {
     "name": "stdout",
     "output_type": "stream",
     "text": [
      "Bengal Warriors\n"
     ]
    },
    {
     "data": {
      "text/plain": [
       "Bengal Warriors    3\n",
       "DRAW               3\n",
       "U.P. Yoddha        2\n",
       "Name: team1_winning_team, dtype: int64"
      ]
     },
     "execution_count": 21,
     "metadata": {},
     "output_type": "execute_result"
    }
   ],
   "source": [
    "check_win('Bengal Warriors','U.P. Yoddha')"
   ]
  },
  {
   "cell_type": "markdown",
   "metadata": {},
   "source": [
    "- Since, Bengaluru bulls has highest chance of winning both bengal warriors and UP yoddha, Bengaluru bulls win the tournament"
   ]
  }
 ],
 "metadata": {
  "kernelspec": {
   "display_name": "Python 3",
   "language": "python",
   "name": "python3"
  },
  "language_info": {
   "codemirror_mode": {
    "name": "ipython",
    "version": 3
   },
   "file_extension": ".py",
   "mimetype": "text/x-python",
   "name": "python",
   "nbconvert_exporter": "python",
   "pygments_lexer": "ipython3",
   "version": "3.7.3"
  }
 },
 "nbformat": 4,
 "nbformat_minor": 2
}
