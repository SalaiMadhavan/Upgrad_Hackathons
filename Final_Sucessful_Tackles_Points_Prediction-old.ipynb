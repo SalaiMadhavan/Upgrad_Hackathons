{
 "cells": [
  {
   "cell_type": "code",
   "execution_count": 1,
   "metadata": {},
   "outputs": [],
   "source": [
    "# Importing Libraries\n",
    "\n",
    "import pandas as pd\n",
    "import numpy as np\n",
    "\n",
    "import matplotlib.pyplot as plt\n",
    "import seaborn as sns\n",
    "\n",
    "import warnings\n",
    "warnings.filterwarnings('ignore')\n",
    "\n",
    "from sklearn.linear_model import Lasso\n",
    "from sklearn.model_selection import GridSearchCV\n",
    "\n",
    "from sklearn.metrics import r2_score\n",
    "from sklearn.metrics import mean_squared_error\n",
    "\n",
    "from sklearn.preprocessing import StandardScaler"
   ]
  },
  {
   "cell_type": "code",
   "execution_count": 2,
   "metadata": {},
   "outputs": [],
   "source": [
    "team = pd.read_excel('team_data_model.xlsx')"
   ]
  },
  {
   "cell_type": "code",
   "execution_count": 3,
   "metadata": {},
   "outputs": [
    {
     "data": {
      "text/plain": [
       "(1272, 20)"
      ]
     },
     "execution_count": 3,
     "metadata": {},
     "output_type": "execute_result"
    }
   ],
   "source": [
    "# Storing Team Name in different dataframe to map it to the prediction later. \n",
    "team_name=team['Team_name']\n",
    "\n",
    "# dropping some columns which doesn't look required for analysis\n",
    "cols_to_drop=['venue','Team_name','Team_short_name','Year','Month','start_time','Team_id','Team_Tackles_total',\n",
    "              'winning_score','loosing_score','Team_Tackle_Points_capture_bonus',\n",
    "             'Team_Tackles_unsuccessful','Team_Tackle_Points_total']\n",
    "team=team.drop(cols_to_drop, axis=1)\n",
    "\n",
    "# Converting season column to category \n",
    "team['Season']=team['Season'].astype('category')\n",
    "\n",
    "team.shape"
   ]
  },
  {
   "cell_type": "markdown",
   "metadata": {},
   "source": [
    "### Model"
   ]
  },
  {
   "cell_type": "code",
   "execution_count": 4,
   "metadata": {},
   "outputs": [
    {
     "name": "stdout",
     "output_type": "stream",
     "text": [
      "Train Data Shape is:  (1040, 18)\n",
      "Test Data Shape is:  (232, 18)\n"
     ]
    }
   ],
   "source": [
    "# Creating train and test. We will test the model on Season 7 data\n",
    "\n",
    "train=team[team['Season']!='Season 7']\n",
    "\n",
    "test=team[team['Season']=='Season 7']\n",
    "\n",
    "# Dropping Season column as it is no more required. The test and train data has been split basis the season\n",
    "y_train=train['Team_Tackles_successful']\n",
    "train=train.drop(['Season','Team_Tackles_successful'], axis=1)\n",
    "\n",
    "\n",
    "y_test=test['Team_Tackles_successful']\n",
    "test=test.drop(['Season','Team_Tackles_successful'], axis=1)\n",
    "\n",
    "print(\"Train Data Shape is: \", train.shape)\n",
    "print(\"Test Data Shape is: \", test.shape)"
   ]
  },
  {
   "cell_type": "code",
   "execution_count": 5,
   "metadata": {},
   "outputs": [
    {
     "name": "stdout",
     "output_type": "stream",
     "text": [
      "Train Shape is (1040, 18)\n",
      "y_train Shape is (1040,)\n"
     ]
    }
   ],
   "source": [
    "print('Train Shape is', train.shape)\n",
    "print('y_train Shape is', y_train.shape)"
   ]
  },
  {
   "cell_type": "code",
   "execution_count": 6,
   "metadata": {},
   "outputs": [
    {
     "name": "stdout",
     "output_type": "stream",
     "text": [
      "Test Shape is (232, 18)\n",
      "y_test Shape is (232,)\n"
     ]
    }
   ],
   "source": [
    "print('Test Shape is', test.shape)\n",
    "print('y_test Shape is', y_test.shape)"
   ]
  },
  {
   "cell_type": "code",
   "execution_count": 7,
   "metadata": {},
   "outputs": [
    {
     "data": {
      "text/html": [
       "<div>\n",
       "<style scoped>\n",
       "    .dataframe tbody tr th:only-of-type {\n",
       "        vertical-align: middle;\n",
       "    }\n",
       "\n",
       "    .dataframe tbody tr th {\n",
       "        vertical-align: top;\n",
       "    }\n",
       "\n",
       "    .dataframe thead th {\n",
       "        text-align: right;\n",
       "    }\n",
       "</style>\n",
       "<table border=\"1\" class=\"dataframe\">\n",
       "  <thead>\n",
       "    <tr style=\"text-align: right;\">\n",
       "      <th></th>\n",
       "      <th>home_team_name</th>\n",
       "      <th>Team_Points_total</th>\n",
       "      <th>Team_Points_all_out</th>\n",
       "      <th>Team_Points_extras</th>\n",
       "      <th>Team_Points_declare</th>\n",
       "      <th>Team_Raid_Points_total</th>\n",
       "      <th>Team_Raid_Points_touch</th>\n",
       "      <th>Team_Raid_Points_raid_bonus</th>\n",
       "      <th>Team_Tackle_Points_capture</th>\n",
       "      <th>Team_Raids_total</th>\n",
       "      <th>Team_Raids_successful</th>\n",
       "      <th>Team_Raids_unsuccessful</th>\n",
       "      <th>Team_Raids_Empty</th>\n",
       "      <th>winning_team</th>\n",
       "      <th>toss_winner</th>\n",
       "      <th>toss_choice</th>\n",
       "      <th>toss_direction</th>\n",
       "      <th>winning_margin</th>\n",
       "    </tr>\n",
       "  </thead>\n",
       "  <tbody>\n",
       "    <tr>\n",
       "      <th>0</th>\n",
       "      <td>-0.503003</td>\n",
       "      <td>-0.455681</td>\n",
       "      <td>-0.177082</td>\n",
       "      <td>-1.148447</td>\n",
       "      <td>0.0</td>\n",
       "      <td>1.244141</td>\n",
       "      <td>1.589658</td>\n",
       "      <td>-0.329941</td>\n",
       "      <td>-2.467952</td>\n",
       "      <td>-0.587692</td>\n",
       "      <td>1.247651</td>\n",
       "      <td>0.167896</td>\n",
       "      <td>-1.793128</td>\n",
       "      <td>-0.899275</td>\n",
       "      <td>-1.0</td>\n",
       "      <td>0.0</td>\n",
       "      <td>0.0</td>\n",
       "      <td>-1.336730</td>\n",
       "    </tr>\n",
       "    <tr>\n",
       "      <th>1</th>\n",
       "      <td>1.988060</td>\n",
       "      <td>1.633172</td>\n",
       "      <td>0.857554</td>\n",
       "      <td>-1.148447</td>\n",
       "      <td>0.0</td>\n",
       "      <td>1.778298</td>\n",
       "      <td>1.792063</td>\n",
       "      <td>0.431742</td>\n",
       "      <td>1.026277</td>\n",
       "      <td>-0.587692</td>\n",
       "      <td>1.473785</td>\n",
       "      <td>-1.716403</td>\n",
       "      <td>-0.760312</td>\n",
       "      <td>1.112007</td>\n",
       "      <td>1.0</td>\n",
       "      <td>0.0</td>\n",
       "      <td>0.0</td>\n",
       "      <td>1.336730</td>\n",
       "    </tr>\n",
       "    <tr>\n",
       "      <th>2</th>\n",
       "      <td>-0.503003</td>\n",
       "      <td>1.372066</td>\n",
       "      <td>1.892190</td>\n",
       "      <td>-1.148447</td>\n",
       "      <td>0.0</td>\n",
       "      <td>0.888036</td>\n",
       "      <td>1.589658</td>\n",
       "      <td>-1.091624</td>\n",
       "      <td>1.343934</td>\n",
       "      <td>-0.587692</td>\n",
       "      <td>0.795383</td>\n",
       "      <td>0.481946</td>\n",
       "      <td>-1.793128</td>\n",
       "      <td>1.112007</td>\n",
       "      <td>-1.0</td>\n",
       "      <td>0.0</td>\n",
       "      <td>0.0</td>\n",
       "      <td>1.814134</td>\n",
       "    </tr>\n",
       "    <tr>\n",
       "      <th>3</th>\n",
       "      <td>-0.503003</td>\n",
       "      <td>-0.455681</td>\n",
       "      <td>-1.211718</td>\n",
       "      <td>-1.148447</td>\n",
       "      <td>0.0</td>\n",
       "      <td>-0.536383</td>\n",
       "      <td>-1.244013</td>\n",
       "      <td>1.193426</td>\n",
       "      <td>1.343934</td>\n",
       "      <td>-0.365760</td>\n",
       "      <td>-0.109153</td>\n",
       "      <td>2.366244</td>\n",
       "      <td>-1.793128</td>\n",
       "      <td>-0.899275</td>\n",
       "      <td>1.0</td>\n",
       "      <td>0.0</td>\n",
       "      <td>0.0</td>\n",
       "      <td>-1.814134</td>\n",
       "    </tr>\n",
       "    <tr>\n",
       "      <th>4</th>\n",
       "      <td>-0.503003</td>\n",
       "      <td>0.980405</td>\n",
       "      <td>0.857554</td>\n",
       "      <td>-0.447105</td>\n",
       "      <td>0.0</td>\n",
       "      <td>0.353879</td>\n",
       "      <td>0.172823</td>\n",
       "      <td>0.431742</td>\n",
       "      <td>1.661591</td>\n",
       "      <td>-0.365760</td>\n",
       "      <td>-0.109153</td>\n",
       "      <td>0.795995</td>\n",
       "      <td>-0.760312</td>\n",
       "      <td>1.112007</td>\n",
       "      <td>1.0</td>\n",
       "      <td>0.0</td>\n",
       "      <td>0.0</td>\n",
       "      <td>0.286442</td>\n",
       "    </tr>\n",
       "  </tbody>\n",
       "</table>\n",
       "</div>"
      ],
      "text/plain": [
       "   home_team_name  Team_Points_total  Team_Points_all_out  Team_Points_extras  \\\n",
       "0       -0.503003          -0.455681            -0.177082           -1.148447   \n",
       "1        1.988060           1.633172             0.857554           -1.148447   \n",
       "2       -0.503003           1.372066             1.892190           -1.148447   \n",
       "3       -0.503003          -0.455681            -1.211718           -1.148447   \n",
       "4       -0.503003           0.980405             0.857554           -0.447105   \n",
       "\n",
       "   Team_Points_declare  Team_Raid_Points_total  Team_Raid_Points_touch  \\\n",
       "0                  0.0                1.244141                1.589658   \n",
       "1                  0.0                1.778298                1.792063   \n",
       "2                  0.0                0.888036                1.589658   \n",
       "3                  0.0               -0.536383               -1.244013   \n",
       "4                  0.0                0.353879                0.172823   \n",
       "\n",
       "   Team_Raid_Points_raid_bonus  Team_Tackle_Points_capture  Team_Raids_total  \\\n",
       "0                    -0.329941                   -2.467952         -0.587692   \n",
       "1                     0.431742                    1.026277         -0.587692   \n",
       "2                    -1.091624                    1.343934         -0.587692   \n",
       "3                     1.193426                    1.343934         -0.365760   \n",
       "4                     0.431742                    1.661591         -0.365760   \n",
       "\n",
       "   Team_Raids_successful  Team_Raids_unsuccessful  Team_Raids_Empty  \\\n",
       "0               1.247651                 0.167896         -1.793128   \n",
       "1               1.473785                -1.716403         -0.760312   \n",
       "2               0.795383                 0.481946         -1.793128   \n",
       "3              -0.109153                 2.366244         -1.793128   \n",
       "4              -0.109153                 0.795995         -0.760312   \n",
       "\n",
       "   winning_team  toss_winner  toss_choice  toss_direction  winning_margin  \n",
       "0     -0.899275         -1.0          0.0             0.0       -1.336730  \n",
       "1      1.112007          1.0          0.0             0.0        1.336730  \n",
       "2      1.112007         -1.0          0.0             0.0        1.814134  \n",
       "3     -0.899275          1.0          0.0             0.0       -1.814134  \n",
       "4      1.112007          1.0          0.0             0.0        0.286442  "
      ]
     },
     "execution_count": 7,
     "metadata": {},
     "output_type": "execute_result"
    }
   ],
   "source": [
    "# Scaling the features\n",
    "# storing the columns in a variable for avoiding them from lossing after scaling\n",
    "X_train_cols=train.columns\n",
    "\n",
    "scaler=StandardScaler()\n",
    "train[X_train_cols]=scaler.fit_transform(train[X_train_cols])\n",
    "\n",
    "train.head()"
   ]
  },
  {
   "cell_type": "code",
   "execution_count": 8,
   "metadata": {},
   "outputs": [
    {
     "data": {
      "text/html": [
       "<div>\n",
       "<style scoped>\n",
       "    .dataframe tbody tr th:only-of-type {\n",
       "        vertical-align: middle;\n",
       "    }\n",
       "\n",
       "    .dataframe tbody tr th {\n",
       "        vertical-align: top;\n",
       "    }\n",
       "\n",
       "    .dataframe thead th {\n",
       "        text-align: right;\n",
       "    }\n",
       "</style>\n",
       "<table border=\"1\" class=\"dataframe\">\n",
       "  <thead>\n",
       "    <tr style=\"text-align: right;\">\n",
       "      <th></th>\n",
       "      <th>home_team_name</th>\n",
       "      <th>Team_Points_total</th>\n",
       "      <th>Team_Points_all_out</th>\n",
       "      <th>Team_Points_extras</th>\n",
       "      <th>Team_Points_declare</th>\n",
       "      <th>Team_Raid_Points_total</th>\n",
       "      <th>Team_Raid_Points_touch</th>\n",
       "      <th>Team_Raid_Points_raid_bonus</th>\n",
       "      <th>Team_Tackle_Points_capture</th>\n",
       "      <th>Team_Raids_total</th>\n",
       "      <th>Team_Raids_successful</th>\n",
       "      <th>Team_Raids_unsuccessful</th>\n",
       "      <th>Team_Raids_Empty</th>\n",
       "      <th>winning_team</th>\n",
       "      <th>toss_winner</th>\n",
       "      <th>toss_choice</th>\n",
       "      <th>toss_direction</th>\n",
       "      <th>winning_margin</th>\n",
       "    </tr>\n",
       "  </thead>\n",
       "  <tbody>\n",
       "    <tr>\n",
       "      <th>1028</th>\n",
       "      <td>-0.503003</td>\n",
       "      <td>0.849852</td>\n",
       "      <td>0.857554</td>\n",
       "      <td>0.254236</td>\n",
       "      <td>0.0</td>\n",
       "      <td>0.709984</td>\n",
       "      <td>0.577633</td>\n",
       "      <td>0.431742</td>\n",
       "      <td>0.390963</td>\n",
       "      <td>0.300034</td>\n",
       "      <td>0.343115</td>\n",
       "      <td>-0.146154</td>\n",
       "      <td>0.065941</td>\n",
       "      <td>1.112007</td>\n",
       "      <td>-1.0</td>\n",
       "      <td>0.0</td>\n",
       "      <td>0.0</td>\n",
       "      <td>0.668365</td>\n",
       "    </tr>\n",
       "    <tr>\n",
       "      <th>1029</th>\n",
       "      <td>-0.503003</td>\n",
       "      <td>-0.064021</td>\n",
       "      <td>-0.177082</td>\n",
       "      <td>0.254236</td>\n",
       "      <td>0.0</td>\n",
       "      <td>-0.180278</td>\n",
       "      <td>-0.231987</td>\n",
       "      <td>0.050901</td>\n",
       "      <td>-0.244352</td>\n",
       "      <td>0.300034</td>\n",
       "      <td>0.116981</td>\n",
       "      <td>0.795995</td>\n",
       "      <td>-0.347185</td>\n",
       "      <td>-0.899275</td>\n",
       "      <td>1.0</td>\n",
       "      <td>0.0</td>\n",
       "      <td>0.0</td>\n",
       "      <td>-0.668365</td>\n",
       "    </tr>\n",
       "    <tr>\n",
       "      <th>1030</th>\n",
       "      <td>-0.503003</td>\n",
       "      <td>0.849852</td>\n",
       "      <td>0.857554</td>\n",
       "      <td>-0.447105</td>\n",
       "      <td>0.0</td>\n",
       "      <td>1.422193</td>\n",
       "      <td>1.589658</td>\n",
       "      <td>0.050901</td>\n",
       "      <td>-0.562009</td>\n",
       "      <td>0.300034</td>\n",
       "      <td>1.926053</td>\n",
       "      <td>-0.146154</td>\n",
       "      <td>-1.380002</td>\n",
       "      <td>1.112007</td>\n",
       "      <td>1.0</td>\n",
       "      <td>0.0</td>\n",
       "      <td>0.0</td>\n",
       "      <td>0.477404</td>\n",
       "    </tr>\n",
       "    <tr>\n",
       "      <th>1031</th>\n",
       "      <td>-0.503003</td>\n",
       "      <td>0.197085</td>\n",
       "      <td>-0.177082</td>\n",
       "      <td>0.955578</td>\n",
       "      <td>0.0</td>\n",
       "      <td>0.353879</td>\n",
       "      <td>0.577633</td>\n",
       "      <td>-0.329941</td>\n",
       "      <td>-0.244352</td>\n",
       "      <td>0.300034</td>\n",
       "      <td>1.021517</td>\n",
       "      <td>-0.774253</td>\n",
       "      <td>-0.140622</td>\n",
       "      <td>-0.899275</td>\n",
       "      <td>-1.0</td>\n",
       "      <td>0.0</td>\n",
       "      <td>0.0</td>\n",
       "      <td>-0.477404</td>\n",
       "    </tr>\n",
       "    <tr>\n",
       "      <th>1044</th>\n",
       "      <td>1.988060</td>\n",
       "      <td>-0.847341</td>\n",
       "      <td>-1.211718</td>\n",
       "      <td>-1.148447</td>\n",
       "      <td>0.0</td>\n",
       "      <td>-0.536383</td>\n",
       "      <td>-1.446418</td>\n",
       "      <td>1.574267</td>\n",
       "      <td>0.073305</td>\n",
       "      <td>-0.587692</td>\n",
       "      <td>-0.109153</td>\n",
       "      <td>0.481946</td>\n",
       "      <td>-0.760312</td>\n",
       "      <td>-0.899275</td>\n",
       "      <td>-1.0</td>\n",
       "      <td>0.0</td>\n",
       "      <td>0.0</td>\n",
       "      <td>-0.572884</td>\n",
       "    </tr>\n",
       "  </tbody>\n",
       "</table>\n",
       "</div>"
      ],
      "text/plain": [
       "      home_team_name  Team_Points_total  Team_Points_all_out  \\\n",
       "1028       -0.503003           0.849852             0.857554   \n",
       "1029       -0.503003          -0.064021            -0.177082   \n",
       "1030       -0.503003           0.849852             0.857554   \n",
       "1031       -0.503003           0.197085            -0.177082   \n",
       "1044        1.988060          -0.847341            -1.211718   \n",
       "\n",
       "      Team_Points_extras  Team_Points_declare  Team_Raid_Points_total  \\\n",
       "1028            0.254236                  0.0                0.709984   \n",
       "1029            0.254236                  0.0               -0.180278   \n",
       "1030           -0.447105                  0.0                1.422193   \n",
       "1031            0.955578                  0.0                0.353879   \n",
       "1044           -1.148447                  0.0               -0.536383   \n",
       "\n",
       "      Team_Raid_Points_touch  Team_Raid_Points_raid_bonus  \\\n",
       "1028                0.577633                     0.431742   \n",
       "1029               -0.231987                     0.050901   \n",
       "1030                1.589658                     0.050901   \n",
       "1031                0.577633                    -0.329941   \n",
       "1044               -1.446418                     1.574267   \n",
       "\n",
       "      Team_Tackle_Points_capture  Team_Raids_total  Team_Raids_successful  \\\n",
       "1028                    0.390963          0.300034               0.343115   \n",
       "1029                   -0.244352          0.300034               0.116981   \n",
       "1030                   -0.562009          0.300034               1.926053   \n",
       "1031                   -0.244352          0.300034               1.021517   \n",
       "1044                    0.073305         -0.587692              -0.109153   \n",
       "\n",
       "      Team_Raids_unsuccessful  Team_Raids_Empty  winning_team  toss_winner  \\\n",
       "1028                -0.146154          0.065941      1.112007         -1.0   \n",
       "1029                 0.795995         -0.347185     -0.899275          1.0   \n",
       "1030                -0.146154         -1.380002      1.112007          1.0   \n",
       "1031                -0.774253         -0.140622     -0.899275         -1.0   \n",
       "1044                 0.481946         -0.760312     -0.899275         -1.0   \n",
       "\n",
       "      toss_choice  toss_direction  winning_margin  \n",
       "1028          0.0             0.0        0.668365  \n",
       "1029          0.0             0.0       -0.668365  \n",
       "1030          0.0             0.0        0.477404  \n",
       "1031          0.0             0.0       -0.477404  \n",
       "1044          0.0             0.0       -0.572884  "
      ]
     },
     "execution_count": 8,
     "metadata": {},
     "output_type": "execute_result"
    }
   ],
   "source": [
    "# Scaling the test data\n",
    "test[X_train_cols]=scaler.transform(test[X_train_cols])\n",
    "test.head()"
   ]
  },
  {
   "cell_type": "code",
   "execution_count": 9,
   "metadata": {},
   "outputs": [
    {
     "name": "stdout",
     "output_type": "stream",
     "text": [
      "Fitting 5 folds for each of 19 candidates, totalling 95 fits\n"
     ]
    },
    {
     "name": "stderr",
     "output_type": "stream",
     "text": [
      "[Parallel(n_jobs=1)]: Using backend SequentialBackend with 1 concurrent workers.\n",
      "[Parallel(n_jobs=1)]: Done  95 out of  95 | elapsed:    0.3s finished\n"
     ]
    },
    {
     "data": {
      "text/plain": [
       "GridSearchCV(cv=5, error_score='raise-deprecating',\n",
       "             estimator=Lasso(alpha=1.0, copy_X=True, fit_intercept=True,\n",
       "                             max_iter=1000, normalize=False, positive=False,\n",
       "                             precompute=False, random_state=None,\n",
       "                             selection='cyclic', tol=0.0001, warm_start=False),\n",
       "             iid='warn', n_jobs=None,\n",
       "             param_grid={'alpha': [1e-11, 1e-08, 1e-07, 1e-06, 1e-05, 0.0001,\n",
       "                                   0.001, 0.01, 0.02, 0.05, 0.1, 0.2, 0.3, 0.4,\n",
       "                                   0.5, 0.6, 0.7, 0.8, 0.9]},\n",
       "             pre_dispatch='2*n_jobs', refit=True, return_train_score=True,\n",
       "             scoring='neg_mean_absolute_error', verbose=1)"
      ]
     },
     "execution_count": 9,
     "metadata": {},
     "output_type": "execute_result"
    }
   ],
   "source": [
    "# Defining alphas for identiying the optimum alphas for Lasso regression\n",
    "params = {'alpha': [0.00000000001, 0.00000001, 0.0000001, 0.000001, 0.00001, 0.0001, 0.001,0.01,0.02,0.05,0.1,0.2,0.3,0.4,0.5,\n",
    "                    0.6,0.7,0.8,0.9]}\n",
    "\n",
    "# Lasso Modelling\n",
    "lasso = Lasso()\n",
    "\n",
    "# cross validation\n",
    "folds=5\n",
    "lasso_cv = GridSearchCV(estimator = lasso, \n",
    "                        param_grid = params, \n",
    "                        scoring= 'neg_mean_absolute_error', \n",
    "                        cv = folds, \n",
    "                        return_train_score=True,\n",
    "                        verbose = 1)            \n",
    "\n",
    "lasso_cv.fit(train, y_train) "
   ]
  },
  {
   "cell_type": "code",
   "execution_count": 10,
   "metadata": {},
   "outputs": [
    {
     "data": {
      "text/html": [
       "<div>\n",
       "<style scoped>\n",
       "    .dataframe tbody tr th:only-of-type {\n",
       "        vertical-align: middle;\n",
       "    }\n",
       "\n",
       "    .dataframe tbody tr th {\n",
       "        vertical-align: top;\n",
       "    }\n",
       "\n",
       "    .dataframe thead th {\n",
       "        text-align: right;\n",
       "    }\n",
       "</style>\n",
       "<table border=\"1\" class=\"dataframe\">\n",
       "  <thead>\n",
       "    <tr style=\"text-align: right;\">\n",
       "      <th></th>\n",
       "      <th>mean_fit_time</th>\n",
       "      <th>std_fit_time</th>\n",
       "      <th>mean_score_time</th>\n",
       "      <th>std_score_time</th>\n",
       "      <th>param_alpha</th>\n",
       "      <th>params</th>\n",
       "      <th>split0_test_score</th>\n",
       "      <th>split1_test_score</th>\n",
       "      <th>split2_test_score</th>\n",
       "      <th>split3_test_score</th>\n",
       "      <th>...</th>\n",
       "      <th>mean_test_score</th>\n",
       "      <th>std_test_score</th>\n",
       "      <th>rank_test_score</th>\n",
       "      <th>split0_train_score</th>\n",
       "      <th>split1_train_score</th>\n",
       "      <th>split2_train_score</th>\n",
       "      <th>split3_train_score</th>\n",
       "      <th>split4_train_score</th>\n",
       "      <th>mean_train_score</th>\n",
       "      <th>std_train_score</th>\n",
       "    </tr>\n",
       "  </thead>\n",
       "  <tbody>\n",
       "    <tr>\n",
       "      <th>0</th>\n",
       "      <td>0.015479</td>\n",
       "      <td>0.008682</td>\n",
       "      <td>0.000489</td>\n",
       "      <td>0.000447</td>\n",
       "      <td>1e-11</td>\n",
       "      <td>{'alpha': 1e-11}</td>\n",
       "      <td>-0.481435</td>\n",
       "      <td>-0.128936</td>\n",
       "      <td>-0.118806</td>\n",
       "      <td>-0.188209</td>\n",
       "      <td>...</td>\n",
       "      <td>-0.235081</td>\n",
       "      <td>0.132816</td>\n",
       "      <td>6</td>\n",
       "      <td>-0.001586</td>\n",
       "      <td>-0.242709</td>\n",
       "      <td>-0.243811</td>\n",
       "      <td>-0.243343</td>\n",
       "      <td>-0.241782</td>\n",
       "      <td>-0.194646</td>\n",
       "      <td>0.096532</td>\n",
       "    </tr>\n",
       "    <tr>\n",
       "      <th>1</th>\n",
       "      <td>0.005161</td>\n",
       "      <td>0.005858</td>\n",
       "      <td>0.000000</td>\n",
       "      <td>0.000000</td>\n",
       "      <td>1e-08</td>\n",
       "      <td>{'alpha': 1e-08}</td>\n",
       "      <td>-0.481435</td>\n",
       "      <td>-0.128936</td>\n",
       "      <td>-0.118806</td>\n",
       "      <td>-0.188209</td>\n",
       "      <td>...</td>\n",
       "      <td>-0.235081</td>\n",
       "      <td>0.132816</td>\n",
       "      <td>7</td>\n",
       "      <td>-0.001586</td>\n",
       "      <td>-0.242709</td>\n",
       "      <td>-0.243811</td>\n",
       "      <td>-0.243343</td>\n",
       "      <td>-0.241782</td>\n",
       "      <td>-0.194646</td>\n",
       "      <td>0.096532</td>\n",
       "    </tr>\n",
       "    <tr>\n",
       "      <th>2</th>\n",
       "      <td>0.003129</td>\n",
       "      <td>0.006258</td>\n",
       "      <td>0.003124</td>\n",
       "      <td>0.006249</td>\n",
       "      <td>1e-07</td>\n",
       "      <td>{'alpha': 1e-07}</td>\n",
       "      <td>-0.481435</td>\n",
       "      <td>-0.128936</td>\n",
       "      <td>-0.118806</td>\n",
       "      <td>-0.188210</td>\n",
       "      <td>...</td>\n",
       "      <td>-0.235081</td>\n",
       "      <td>0.132816</td>\n",
       "      <td>8</td>\n",
       "      <td>-0.001586</td>\n",
       "      <td>-0.242709</td>\n",
       "      <td>-0.243811</td>\n",
       "      <td>-0.243343</td>\n",
       "      <td>-0.241783</td>\n",
       "      <td>-0.194646</td>\n",
       "      <td>0.096533</td>\n",
       "    </tr>\n",
       "    <tr>\n",
       "      <th>3</th>\n",
       "      <td>0.006251</td>\n",
       "      <td>0.007656</td>\n",
       "      <td>0.000000</td>\n",
       "      <td>0.000000</td>\n",
       "      <td>1e-06</td>\n",
       "      <td>{'alpha': 1e-06}</td>\n",
       "      <td>-0.481431</td>\n",
       "      <td>-0.128937</td>\n",
       "      <td>-0.118806</td>\n",
       "      <td>-0.188212</td>\n",
       "      <td>...</td>\n",
       "      <td>-0.235083</td>\n",
       "      <td>0.132814</td>\n",
       "      <td>9</td>\n",
       "      <td>-0.001577</td>\n",
       "      <td>-0.242712</td>\n",
       "      <td>-0.243813</td>\n",
       "      <td>-0.243345</td>\n",
       "      <td>-0.241785</td>\n",
       "      <td>-0.194646</td>\n",
       "      <td>0.096537</td>\n",
       "    </tr>\n",
       "    <tr>\n",
       "      <th>4</th>\n",
       "      <td>0.004884</td>\n",
       "      <td>0.002569</td>\n",
       "      <td>0.003717</td>\n",
       "      <td>0.005965</td>\n",
       "      <td>1e-05</td>\n",
       "      <td>{'alpha': 1e-05}</td>\n",
       "      <td>-0.481366</td>\n",
       "      <td>-0.128940</td>\n",
       "      <td>-0.118808</td>\n",
       "      <td>-0.188238</td>\n",
       "      <td>...</td>\n",
       "      <td>-0.235096</td>\n",
       "      <td>0.132791</td>\n",
       "      <td>10</td>\n",
       "      <td>-0.001440</td>\n",
       "      <td>-0.242735</td>\n",
       "      <td>-0.243833</td>\n",
       "      <td>-0.243361</td>\n",
       "      <td>-0.241807</td>\n",
       "      <td>-0.194635</td>\n",
       "      <td>0.096600</td>\n",
       "    </tr>\n",
       "  </tbody>\n",
       "</table>\n",
       "<p>5 rows × 21 columns</p>\n",
       "</div>"
      ],
      "text/plain": [
       "   mean_fit_time  std_fit_time  mean_score_time  std_score_time param_alpha  \\\n",
       "0       0.015479      0.008682         0.000489        0.000447       1e-11   \n",
       "1       0.005161      0.005858         0.000000        0.000000       1e-08   \n",
       "2       0.003129      0.006258         0.003124        0.006249       1e-07   \n",
       "3       0.006251      0.007656         0.000000        0.000000       1e-06   \n",
       "4       0.004884      0.002569         0.003717        0.005965       1e-05   \n",
       "\n",
       "             params  split0_test_score  split1_test_score  split2_test_score  \\\n",
       "0  {'alpha': 1e-11}          -0.481435          -0.128936          -0.118806   \n",
       "1  {'alpha': 1e-08}          -0.481435          -0.128936          -0.118806   \n",
       "2  {'alpha': 1e-07}          -0.481435          -0.128936          -0.118806   \n",
       "3  {'alpha': 1e-06}          -0.481431          -0.128937          -0.118806   \n",
       "4  {'alpha': 1e-05}          -0.481366          -0.128940          -0.118808   \n",
       "\n",
       "   split3_test_score  ...  mean_test_score  std_test_score  rank_test_score  \\\n",
       "0          -0.188209  ...        -0.235081        0.132816                6   \n",
       "1          -0.188209  ...        -0.235081        0.132816                7   \n",
       "2          -0.188210  ...        -0.235081        0.132816                8   \n",
       "3          -0.188212  ...        -0.235083        0.132814                9   \n",
       "4          -0.188238  ...        -0.235096        0.132791               10   \n",
       "\n",
       "   split0_train_score  split1_train_score  split2_train_score  \\\n",
       "0           -0.001586           -0.242709           -0.243811   \n",
       "1           -0.001586           -0.242709           -0.243811   \n",
       "2           -0.001586           -0.242709           -0.243811   \n",
       "3           -0.001577           -0.242712           -0.243813   \n",
       "4           -0.001440           -0.242735           -0.243833   \n",
       "\n",
       "   split3_train_score  split4_train_score  mean_train_score  std_train_score  \n",
       "0           -0.243343           -0.241782         -0.194646         0.096532  \n",
       "1           -0.243343           -0.241782         -0.194646         0.096532  \n",
       "2           -0.243343           -0.241783         -0.194646         0.096533  \n",
       "3           -0.243345           -0.241785         -0.194646         0.096537  \n",
       "4           -0.243361           -0.241807         -0.194635         0.096600  \n",
       "\n",
       "[5 rows x 21 columns]"
      ]
     },
     "execution_count": 10,
     "metadata": {},
     "output_type": "execute_result"
    }
   ],
   "source": [
    "# Printing the model output\n",
    "\n",
    "lasso_cv_results = pd.DataFrame(lasso_cv.cv_results_)\n",
    "lasso_cv_results.head()"
   ]
  },
  {
   "cell_type": "code",
   "execution_count": 11,
   "metadata": {},
   "outputs": [
    {
     "data": {
      "image/png": "[encoded data removed]",
      "text/plain": [
       "<Figure size 2400x960 with 1 Axes>"
      ]
     },
     "metadata": {},
     "output_type": "display_data"
    }
   ],
   "source": [
    "# plotting mean test and train scoes with alpha \n",
    "lasso_cv_results['param_alpha'] = lasso_cv_results['param_alpha'].astype('float32')\n",
    "\n",
    "# plotting\n",
    "plt.figure(num=None, figsize=(20, 8), dpi=120, facecolor='w', edgecolor='k')\n",
    "plt.plot(lasso_cv_results['param_alpha'], lasso_cv_results['mean_train_score'])\n",
    "plt.plot(lasso_cv_results['param_alpha'], lasso_cv_results['mean_test_score'])\n",
    "plt.xlabel('alpha')\n",
    "plt.ylabel('Negative Mean Absolute Error')\n",
    "\n",
    "plt.title(\"Lasso - Negative Mean Absolute Error and alpha\")\n",
    "plt.legend(['train score', 'test score'], loc='upper left')\n",
    "plt.grid()\n",
    "plt.show()"
   ]
  },
  {
   "cell_type": "code",
   "execution_count": 12,
   "metadata": {},
   "outputs": [
    {
     "name": "stdout",
     "output_type": "stream",
     "text": [
      "0.05\n"
     ]
    }
   ],
   "source": [
    "print(lasso_cv.best_params_['alpha'])"
   ]
  },
  {
   "cell_type": "code",
   "execution_count": 13,
   "metadata": {},
   "outputs": [
    {
     "data": {
      "text/plain": [
       "Lasso(alpha=0.05, copy_X=True, fit_intercept=True, max_iter=1000,\n",
       "      normalize=False, positive=False, precompute=False, random_state=None,\n",
       "      selection='cyclic', tol=0.0001, warm_start=False)"
      ]
     },
     "execution_count": 13,
     "metadata": {},
     "output_type": "execute_result"
    }
   ],
   "source": [
    "alpha = lasso_cv.best_params_['alpha']\n",
    "lasso = Lasso(alpha=alpha)\n",
    "lasso.fit(train, y_train) "
   ]
  },
  {
   "cell_type": "code",
   "execution_count": 14,
   "metadata": {},
   "outputs": [
    {
     "data": {
      "text/plain": [
       "0.9828815238382688"
      ]
     },
     "execution_count": 14,
     "metadata": {},
     "output_type": "execute_result"
    }
   ],
   "source": [
    "lasso.score(train, y_train)"
   ]
  },
  {
   "cell_type": "code",
   "execution_count": 15,
   "metadata": {},
   "outputs": [
    {
     "data": {
      "text/plain": [
       "0.9960528273378868"
      ]
     },
     "execution_count": 15,
     "metadata": {},
     "output_type": "execute_result"
    }
   ],
   "source": [
    "lasso.score(test, y_test)"
   ]
  },
  {
   "cell_type": "code",
   "execution_count": 16,
   "metadata": {},
   "outputs": [
    {
     "name": "stdout",
     "output_type": "stream",
     "text": [
      "0.9960528273378867\n",
      "0.19508341343976532\n"
     ]
    }
   ],
   "source": [
    "y_test_pred=lasso.predict(test)\n",
    "print(r2_score(y_test,y_test_pred))\n",
    "print(np.sqrt(mean_squared_error(y_test,y_test_pred)))"
   ]
  },
  {
   "cell_type": "code",
   "execution_count": 17,
   "metadata": {},
   "outputs": [
    {
     "data": {
      "text/plain": [
       "<matplotlib.collections.PathCollection at 0x217e9833208>"
      ]
     },
     "execution_count": 17,
     "metadata": {},
     "output_type": "execute_result"
    },
    {
     "data": {
      "image/png": "[encoded data removed]",
      "text/plain": [
       "<Figure size 432x288 with 1 Axes>"
      ]
     },
     "metadata": {
      "needs_background": "light"
     },
     "output_type": "display_data"
    }
   ],
   "source": [
    "plt.scatter(y_test,y_test_pred)"
   ]
  },
  {
   "cell_type": "code",
   "execution_count": 18,
   "metadata": {},
   "outputs": [
    {
     "name": "stdout",
     "output_type": "stream",
     "text": [
      "Team_Tackle_Points_capture     2.988001\n",
      "Team_Raids_Empty               0.088691\n",
      "winning_margin                 0.023316\n",
      "Team_Points_all_out            0.016933\n",
      "Team_Points_extras             0.014770\n",
      "winning_team                   0.006223\n",
      "toss_winner                    0.000000\n",
      "toss_choice                    0.000000\n",
      "Team_Raids_unsuccessful        0.000000\n",
      "Team_Raids_successful          0.000000\n",
      "Team_Raids_total               0.000000\n",
      "toss_direction                 0.000000\n",
      "Team_Raid_Points_raid_bonus    0.000000\n",
      "Team_Raid_Points_touch         0.000000\n",
      "Team_Raid_Points_total         0.000000\n",
      "Team_Points_declare            0.000000\n",
      "Team_Points_total              0.000000\n",
      "home_team_name                 0.000000\n",
      "dtype: float64\n"
     ]
    }
   ],
   "source": [
    "features = np.abs(pd.Series(dict(zip(train.columns,lasso.coef_)))).sort_values(ascending=False)\n",
    "print(features)"
   ]
  },
  {
   "cell_type": "code",
   "execution_count": 19,
   "metadata": {},
   "outputs": [
    {
     "data": {
      "text/html": [
       "<div>\n",
       "<style scoped>\n",
       "    .dataframe tbody tr th:only-of-type {\n",
       "        vertical-align: middle;\n",
       "    }\n",
       "\n",
       "    .dataframe tbody tr th {\n",
       "        vertical-align: top;\n",
       "    }\n",
       "\n",
       "    .dataframe thead th {\n",
       "        text-align: right;\n",
       "    }\n",
       "</style>\n",
       "<table border=\"1\" class=\"dataframe\">\n",
       "  <thead>\n",
       "    <tr style=\"text-align: right;\">\n",
       "      <th></th>\n",
       "      <th>Tackle Capture Points</th>\n",
       "    </tr>\n",
       "    <tr>\n",
       "      <th>Team</th>\n",
       "      <th></th>\n",
       "    </tr>\n",
       "  </thead>\n",
       "  <tbody>\n",
       "    <tr>\n",
       "      <th>Gujarat Fortunegiants</th>\n",
       "      <td>187</td>\n",
       "    </tr>\n",
       "    <tr>\n",
       "      <th>Puneri Paltan</th>\n",
       "      <td>187</td>\n",
       "    </tr>\n",
       "    <tr>\n",
       "      <th>Jaipur Pink Panthers</th>\n",
       "      <td>173</td>\n",
       "    </tr>\n",
       "    <tr>\n",
       "      <th>U.P. Yoddha</th>\n",
       "      <td>166</td>\n",
       "    </tr>\n",
       "    <tr>\n",
       "      <th>Haryana Steelers</th>\n",
       "      <td>165</td>\n",
       "    </tr>\n",
       "  </tbody>\n",
       "</table>\n",
       "</div>"
      ],
      "text/plain": [
       "                       Tackle Capture Points\n",
       "Team                                        \n",
       "Gujarat Fortunegiants                    187\n",
       "Puneri Paltan                            187\n",
       "Jaipur Pink Panthers                     173\n",
       "U.P. Yoddha                              166\n",
       "Haryana Steelers                         165"
      ]
     },
     "execution_count": 19,
     "metadata": {},
     "output_type": "execute_result"
    }
   ],
   "source": [
    "defender_team = pd.DataFrame(np.array([team_name.loc[test.index].values,y_test_pred]).T,columns=['Team','Tackle Capture Points'])\n",
    "defender_team['Tackle Capture Points'] = defender_team['Tackle Capture Points'].astype('int')\n",
    "defender_team = defender_team[['Team','Tackle Capture Points']].groupby('Team').sum().sort_values(by='Tackle Capture Points',ascending=False)\n",
    "defender_team.head()"
   ]
  }
 ],
 "metadata": {
  "kernelspec": {
   "display_name": "Python 3",
   "language": "python",
   "name": "python3"
  },
  "language_info": {
   "codemirror_mode": {
    "name": "ipython",
    "version": 3
   },
   "file_extension": ".py",
   "mimetype": "text/x-python",
   "name": "python",
   "nbconvert_exporter": "python",
   "pygments_lexer": "ipython3",
   "version": "3.7.4"
  },
  "varInspector": {
   "cols": {
    "lenName": 16,
    "lenType": 16,
    "lenVar": 40
   },
   "kernels_config": {
    "python": {
     "delete_cmd_postfix": "",
     "delete_cmd_prefix": "del ",
     "library": "var_list.py",
     "varRefreshCmd": "print(var_dic_list())"
    },
    "r": {
     "delete_cmd_postfix": ") ",
     "delete_cmd_prefix": "rm(",
     "library": "var_list.r",
     "varRefreshCmd": "cat(var_dic_list()) "
    }
   },
   "types_to_exclude": [
    "module",
    "function",
    "builtin_function_or_method",
    "instance",
    "_Feature"
   ],
   "window_display": false
  }
 },
 "nbformat": 4,
 "nbformat_minor": 2
}
