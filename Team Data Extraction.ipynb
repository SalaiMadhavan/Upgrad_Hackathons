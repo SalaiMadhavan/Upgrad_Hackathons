{
 "cells": [
  {
   "cell_type": "markdown",
   "metadata": {},
   "source": [
    "### Team Data Extraction"
   ]
  },
  {
   "cell_type": "code",
   "execution_count": 1,
   "metadata": {},
   "outputs": [],
   "source": [
    "# Import packages for data extraction\n",
    "import pandas as pd\n",
    "import requests\n",
    "\n",
    "from selenium  import webdriver\n",
    "from bs4 import BeautifulSoup\n",
    "from time import sleep\n",
    "from selenium.webdriver import ActionChains\n",
    "from selenium.webdriver.support.ui import WebDriverWait\n",
    "from selenium.webdriver.support import expected_conditions as EC\n",
    "from selenium.webdriver.common.by import By"
   ]
  },
  {
   "cell_type": "code",
   "execution_count": 2,
   "metadata": {},
   "outputs": [],
   "source": [
    "# Team data extraction function\n",
    "def team_data(r):\n",
    "    x=-1\n",
    "    \n",
    "    temp =r.json()\n",
    "    \n",
    "    for i in range(0,2):\n",
    "        \n",
    "        col_name = []\n",
    "        row_value = []\n",
    "        \n",
    "        col_name.append('match_id')\n",
    "        row_value.append(temp['match_detail']['match_id'])\n",
    "        \n",
    "        col_name.append('home_team_id')\n",
    "        \n",
    "        try :\n",
    "            row_value.append(temp['teams']['home_team_id'])\n",
    "        except KeyError:\n",
    "            row_value.append('NA')\n",
    "        \n",
    "        col_name.append('home_team_name')\n",
    "        \n",
    "        try:\n",
    "            row_value.append(temp['teams']['home_team_name'])\n",
    "        except KeyError:\n",
    "            row_value.append('NA')\n",
    "        \n",
    "        \n",
    "        # id\n",
    "        name = 'Team_'\n",
    "        \n",
    "        for each in ['id','name','short_name']:\n",
    "            col_name.append(name+each)\n",
    "            row_value.append(temp['teams']['team'][i][each])\n",
    "            \n",
    "        # Points\n",
    "        name = 'Team_Points_'\n",
    "        \n",
    "        for each in ['total','all_out','extras','declare']:\n",
    "            col_name.append(name+each)\n",
    "            row_value.append(temp['teams']['team'][i]['stats']['points'][each])\n",
    "        \n",
    "        # Raid Points\n",
    "        \n",
    "        name = 'Team_Raid_Points_'\n",
    "        \n",
    "        for each in ['total','touch','raid_bonus']:\n",
    "            col_name.append(name+each)\n",
    "            row_value.append(temp['teams']['team'][i]['stats']['points']['raid_points'][each])\n",
    "            \n",
    "        # Tackle Points\n",
    "        \n",
    "        name = 'Team_Tackle_Points_'\n",
    "        \n",
    "        for each in ['total','capture','capture_bonus']:\n",
    "            col_name.append(name+each)\n",
    "            row_value.append(temp['teams']['team'][i]['stats']['points']['tackle_points'][each])\n",
    "        \n",
    "        # Raids\n",
    "        \n",
    "        name = 'Team_Raids_'\n",
    "        \n",
    "        for each in ['total','successful','unsuccessful','Empty']:\n",
    "            col_name.append(name+each)\n",
    "            row_value.append(temp['teams']['team'][i]['stats']['raids'][each])\n",
    "        \n",
    "        # Tackles\n",
    "        name = 'Team_Tackles_'\n",
    "        \n",
    "        for each in ['total','successful','unsuccessful']:\n",
    "            col_name.append(name+each)\n",
    "            row_value.append(temp['teams']['team'][i]['stats']['tackles'][each])\n",
    "            \n",
    "        x+=1\n",
    "        if i ==0:\n",
    "            team = pd.DataFrame(columns=col_name)\n",
    "            \n",
    "        team.loc[x] = row_value\n",
    "   \n",
    "    \n",
    "    return team"
   ]
  },
  {
   "cell_type": "code",
   "execution_count": 3,
   "metadata": {},
   "outputs": [],
   "source": [
    "# Create team dataframe with 1st match details\n",
    "url= 'https://www.prokabaddi.com/sifeeds/kabaddi/live/json/1_match.json'\n",
    "r = requests.get(url)\n",
    "team  = team_data(r)"
   ]
  },
  {
   "cell_type": "code",
   "execution_count": 4,
   "metadata": {},
   "outputs": [
    {
     "data": {
      "text/html": [
       "<div>\n",
       "<style scoped>\n",
       "    .dataframe tbody tr th:only-of-type {\n",
       "        vertical-align: middle;\n",
       "    }\n",
       "\n",
       "    .dataframe tbody tr th {\n",
       "        vertical-align: top;\n",
       "    }\n",
       "\n",
       "    .dataframe thead th {\n",
       "        text-align: right;\n",
       "    }\n",
       "</style>\n",
       "<table border=\"1\" class=\"dataframe\">\n",
       "  <thead>\n",
       "    <tr style=\"text-align: right;\">\n",
       "      <th></th>\n",
       "      <th>match_id</th>\n",
       "      <th>home_team_id</th>\n",
       "      <th>home_team_name</th>\n",
       "      <th>Team_id</th>\n",
       "      <th>Team_name</th>\n",
       "      <th>Team_short_name</th>\n",
       "      <th>Team_Points_total</th>\n",
       "      <th>Team_Points_all_out</th>\n",
       "      <th>Team_Points_extras</th>\n",
       "      <th>Team_Points_declare</th>\n",
       "      <th>...</th>\n",
       "      <th>Team_Tackle_Points_total</th>\n",
       "      <th>Team_Tackle_Points_capture</th>\n",
       "      <th>Team_Tackle_Points_capture_bonus</th>\n",
       "      <th>Team_Raids_total</th>\n",
       "      <th>Team_Raids_successful</th>\n",
       "      <th>Team_Raids_unsuccessful</th>\n",
       "      <th>Team_Raids_Empty</th>\n",
       "      <th>Team_Tackles_total</th>\n",
       "      <th>Team_Tackles_successful</th>\n",
       "      <th>Team_Tackles_unsuccessful</th>\n",
       "    </tr>\n",
       "  </thead>\n",
       "  <tbody>\n",
       "    <tr>\n",
       "      <th>0</th>\n",
       "      <td>1</td>\n",
       "      <td>5</td>\n",
       "      <td>U Mumba</td>\n",
       "      <td>3</td>\n",
       "      <td>Jaipur Pink Panthers</td>\n",
       "      <td>JAI</td>\n",
       "      <td>28</td>\n",
       "      <td>2</td>\n",
       "      <td>0</td>\n",
       "      <td>0</td>\n",
       "      <td>...</td>\n",
       "      <td>1</td>\n",
       "      <td>1</td>\n",
       "      <td>0</td>\n",
       "      <td>40</td>\n",
       "      <td>20</td>\n",
       "      <td>10</td>\n",
       "      <td>10</td>\n",
       "      <td>24</td>\n",
       "      <td>1</td>\n",
       "      <td>23</td>\n",
       "    </tr>\n",
       "    <tr>\n",
       "      <th>1</th>\n",
       "      <td>1</td>\n",
       "      <td>5</td>\n",
       "      <td>U Mumba</td>\n",
       "      <td>5</td>\n",
       "      <td>U Mumba</td>\n",
       "      <td>MUM</td>\n",
       "      <td>44</td>\n",
       "      <td>4</td>\n",
       "      <td>0</td>\n",
       "      <td>0</td>\n",
       "      <td>...</td>\n",
       "      <td>12</td>\n",
       "      <td>12</td>\n",
       "      <td>0</td>\n",
       "      <td>40</td>\n",
       "      <td>21</td>\n",
       "      <td>4</td>\n",
       "      <td>15</td>\n",
       "      <td>32</td>\n",
       "      <td>10</td>\n",
       "      <td>22</td>\n",
       "    </tr>\n",
       "  </tbody>\n",
       "</table>\n",
       "<p>2 rows × 23 columns</p>\n",
       "</div>"
      ],
      "text/plain": [
       "  match_id home_team_id home_team_name Team_id             Team_name  \\\n",
       "0        1            5        U Mumba       3  Jaipur Pink Panthers   \n",
       "1        1            5        U Mumba       5               U Mumba   \n",
       "\n",
       "  Team_short_name Team_Points_total Team_Points_all_out Team_Points_extras  \\\n",
       "0             JAI                28                   2                  0   \n",
       "1             MUM                44                   4                  0   \n",
       "\n",
       "  Team_Points_declare  ... Team_Tackle_Points_total  \\\n",
       "0                   0  ...                        1   \n",
       "1                   0  ...                       12   \n",
       "\n",
       "  Team_Tackle_Points_capture Team_Tackle_Points_capture_bonus  \\\n",
       "0                          1                                0   \n",
       "1                         12                                0   \n",
       "\n",
       "  Team_Raids_total Team_Raids_successful Team_Raids_unsuccessful  \\\n",
       "0               40                    20                      10   \n",
       "1               40                    21                       4   \n",
       "\n",
       "  Team_Raids_Empty Team_Tackles_total Team_Tackles_successful  \\\n",
       "0               10                 24                       1   \n",
       "1               15                 32                      10   \n",
       "\n",
       "  Team_Tackles_unsuccessful  \n",
       "0                        23  \n",
       "1                        22  \n",
       "\n",
       "[2 rows x 23 columns]"
      ]
     },
     "execution_count": 4,
     "metadata": {},
     "output_type": "execute_result"
    }
   ],
   "source": [
    "# Team dataframe created for 1st match\n",
    "team"
   ]
  },
  {
   "cell_type": "code",
   "execution_count": 5,
   "metadata": {},
   "outputs": [
    {
     "data": {
      "text/plain": [
       "(2, 23)"
      ]
     },
     "execution_count": 5,
     "metadata": {},
     "output_type": "execute_result"
    }
   ],
   "source": [
    "# Shape of Team dataframe\n",
    "team.shape"
   ]
  },
  {
   "cell_type": "code",
   "execution_count": 6,
   "metadata": {},
   "outputs": [],
   "source": [
    "# Extract data for all the available matches\n",
    "for i in range(2,1801):\n",
    "    url= f'https://www.prokabaddi.com/sifeeds/kabaddi/live/json/{i}_match.json'\n",
    "    r = requests.get(url)\n",
    "    if r.status_code == 200:\n",
    "        team = pd.concat([team,team_data(r)],sort=False,ignore_index=True)"
   ]
  },
  {
   "cell_type": "code",
   "execution_count": 7,
   "metadata": {},
   "outputs": [
    {
     "data": {
      "text/plain": [
       "(1422, 23)"
      ]
     },
     "execution_count": 7,
     "metadata": {},
     "output_type": "execute_result"
    }
   ],
   "source": [
    "# shape of team dataframe having all match details\n",
    "team.shape"
   ]
  },
  {
   "cell_type": "code",
   "execution_count": 8,
   "metadata": {},
   "outputs": [],
   "source": [
    "# Writing to the file.\n",
    "team.to_excel('team_data.xlsx',index=False)"
   ]
  },
  {
   "cell_type": "markdown",
   "metadata": {},
   "source": [
    "### Match data Extraction"
   ]
  },
  {
   "cell_type": "code",
   "execution_count": 9,
   "metadata": {},
   "outputs": [],
   "source": [
    "match = pd.DataFrame(columns=['match_id','match_name','date','start_time','gmtoffset','winning_team',\n",
    "                             'outcome','value','winning_method','toss_winner','toss_selection','venue'])"
   ]
  },
  {
   "cell_type": "code",
   "execution_count": 10,
   "metadata": {},
   "outputs": [
    {
     "data": {
      "text/plain": [
       "(0, 12)"
      ]
     },
     "execution_count": 10,
     "metadata": {},
     "output_type": "execute_result"
    }
   ],
   "source": [
    "match.shape"
   ]
  },
  {
   "cell_type": "code",
   "execution_count": 11,
   "metadata": {},
   "outputs": [],
   "source": [
    "count=-1\n",
    "for i in range(1,1801):\n",
    "    match_list = []\n",
    "    url= f'https://www.prokabaddi.com/sifeeds/kabaddi/live/json/{i}_match.json'\n",
    "    r = requests.get(url)\n",
    "    if r.status_code == 200:\n",
    "        r= r.json()\n",
    "        count+=1\n",
    "         \n",
    "        \n",
    "        match_list.append(r['match_detail']['match_id'])\n",
    "        match_list.append(r['match_detail']['match_number'])\n",
    "        match_list.append(r['match_detail']['date'])\n",
    "        match_list.append(r['match_detail']['start_time'])\n",
    "        match_list.append(r['match_detail']['gmtoffset'])\n",
    "        try:\n",
    "            match_list.append(r['match_detail']['result']['winning_team'])\n",
    "            match_list.append(r['match_detail']['result']['outcome'])\n",
    "            match_list.append(r['match_detail']['result']['value'])\n",
    "            match_list.append(r['match_detail']['result']['winning_method'])\n",
    "        except TypeError:\n",
    "            match_list.append('NA')\n",
    "            match_list.append('NA')\n",
    "            match_list.append('NA')\n",
    "            match_list.append('NA')\n",
    "            \n",
    "        match_list.append(r['match_detail']['toss']['winner'])\n",
    "        match_list.append(r['match_detail']['toss']['selection'])\n",
    "        match_list.append(r['match_detail']['venue']['name'])\n",
    "        \n",
    "        match.loc[count]= match_list\n",
    "     \n",
    "    i=i+1"
   ]
  },
  {
   "cell_type": "code",
   "execution_count": 12,
   "metadata": {},
   "outputs": [
    {
     "data": {
      "text/plain": [
       "(711, 12)"
      ]
     },
     "execution_count": 12,
     "metadata": {},
     "output_type": "execute_result"
    }
   ],
   "source": [
    "match.shape"
   ]
  },
  {
   "cell_type": "code",
   "execution_count": 13,
   "metadata": {},
   "outputs": [],
   "source": [
    "match.to_excel('match_data.xlsx',index=False)"
   ]
  },
  {
   "cell_type": "markdown",
   "metadata": {},
   "source": [
    "### Team Stats Data Extraction"
   ]
  },
  {
   "cell_type": "code",
   "execution_count": 14,
   "metadata": {},
   "outputs": [],
   "source": [
    "def team_total_points(season,points,point_name):\n",
    "    driver = webdriver.Firefox()\n",
    "    driver.get(f'https://www.prokabaddi.com/stats/{season}-{points}-{point_name}-statistics')\n",
    "    \n",
    "    try:\n",
    "        element = WebDriverWait(driver, 10).until(\n",
    "        EC.presence_of_element_located((By.ID, \"team_Btn\")))\n",
    "    finally:\n",
    "        pass\n",
    "    \n",
    "    element.click()\n",
    "    \n",
    "    while(1):\n",
    "        driver.execute_script(\"window.scrollTo(0,document.body.scrollHeight);\")\n",
    "        try:\n",
    "            sleep( 1.5 )# time in seconds\n",
    "            btn = driver.find_element_by_xpath(\"//*[text()='load more']\")\n",
    "            btn.click()\n",
    "        except Exception as e:\n",
    "            break\n",
    "    \n",
    "    soup = BeautifulSoup(driver.page_source)\n",
    "    \n",
    "    outer_list = []\n",
    "    \n",
    "    for each in ['sipk-lb-detailBlock sipk-lb-rank','sipk-lb-playerName',\n",
    "             'sipk-lb-detailBlock sipk-lb-matchedPlayed','sipk-lb-detailBlock sipk-lb-raidPoints']:\n",
    "        \n",
    "        temp = soup.findAll('div',attrs={'class':each})\n",
    "        \n",
    "        temp_list=[]\n",
    "        \n",
    "        for i in temp:\n",
    "            temp_list.append(i.find('span').text.replace('.','').strip())\n",
    "        \n",
    "        outer_list.append(temp_list)\n",
    "        \n",
    "    total_points = pd.DataFrame(outer_list).T\n",
    "    \n",
    "    total_points.columns=['Rank','Name','Matches Played','Total Points']\n",
    "    \n",
    "    team = soup.findAll('a',attrs={'class':'sipk-lb-detailBlock sipk-lb-team'})\n",
    "    \n",
    "    team_list = []\n",
    "    \n",
    "    for each in team:\n",
    "        team_name = each.get('href')\n",
    "        team_list.append(team_name[7:team_name.find('-profile')])\n",
    "    \n",
    "   \n",
    "    \n",
    "    driver.quit()\n",
    "    \n",
    "    return total_points"
   ]
  },
  {
   "cell_type": "code",
   "execution_count": 15,
   "metadata": {},
   "outputs": [],
   "source": [
    "team_point  = ['total-points-scored','total-points-conceded','avg-points-scored','successful-raids','raid-points',\n",
    "        'avg-raid-points','successful-tackles','tackle-points','avg-tackle-points','super-raid',\n",
    "        'super-tackles','do-or-die-raid-points','all-outs-inflicted','all-outs-conceded']"
   ]
  },
  {
   "cell_type": "code",
   "execution_count": 16,
   "metadata": {},
   "outputs": [],
   "source": [
    "team_point_code =[96,133,140,13,97,98,15,95,99,134,20,135,136,137]"
   ]
  },
  {
   "cell_type": "code",
   "execution_count": 17,
   "metadata": {},
   "outputs": [],
   "source": [
    "team_point_dict = dict(zip(team_point,team_point_code))"
   ]
  },
  {
   "cell_type": "code",
   "execution_count": 18,
   "metadata": {},
   "outputs": [],
   "source": [
    "season = ['All Season','Season 1','Season 2','Season 3','Season 4','Season 5','Season 6','Season 7']"
   ]
  },
  {
   "cell_type": "code",
   "execution_count": 19,
   "metadata": {},
   "outputs": [],
   "source": [
    "season_code = [0,1,2,3,4,8,26,49]"
   ]
  },
  {
   "cell_type": "code",
   "execution_count": 20,
   "metadata": {},
   "outputs": [],
   "source": [
    "season_dict = dict(zip(season,season_code))"
   ]
  },
  {
   "cell_type": "code",
   "execution_count": 21,
   "metadata": {},
   "outputs": [],
   "source": [
    "team_final = pd.DataFrame()\n",
    "\n",
    "for each_point in team_point:\n",
    "    for each_season in season:\n",
    "        temp = team_total_points(season_dict[each_season],team_point_dict[each_point],each_point)\n",
    "        temp['Season'] = each_season\n",
    "        temp['Points'] = each_point\n",
    "        team_final = pd.concat([team_final,temp])"
   ]
  },
  {
   "cell_type": "code",
   "execution_count": 22,
   "metadata": {},
   "outputs": [],
   "source": [
    "team_final.to_excel('team_stats.xlsx',index=False)"
   ]
  }
 ],
 "metadata": {
  "kernelspec": {
   "display_name": "Python 3",
   "language": "python",
   "name": "python3"
  },
  "language_info": {
   "codemirror_mode": {
    "name": "ipython",
    "version": 3
   },
   "file_extension": ".py",
   "mimetype": "text/x-python",
   "name": "python",
   "nbconvert_exporter": "python",
   "pygments_lexer": "ipython3",
   "version": "3.7.4"
  },
  "varInspector": {
   "cols": {
    "lenName": 16,
    "lenType": 16,
    "lenVar": 40
   },
   "kernels_config": {
    "python": {
     "delete_cmd_postfix": "",
     "delete_cmd_prefix": "del ",
     "library": "var_list.py",
     "varRefreshCmd": "print(var_dic_list())"
    },
    "r": {
     "delete_cmd_postfix": ") ",
     "delete_cmd_prefix": "rm(",
     "library": "var_list.r",
     "varRefreshCmd": "cat(var_dic_list()) "
    }
   },
   "types_to_exclude": [
    "module",
    "function",
    "builtin_function_or_method",
    "instance",
    "_Feature"
   ],
   "window_display": false
  }
 },
 "nbformat": 4,
 "nbformat_minor": 2
}
