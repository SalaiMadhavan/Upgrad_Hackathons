{
 "cells": [
  {
   "cell_type": "code",
   "execution_count": 1,
   "metadata": {},
   "outputs": [],
   "source": [
    "# Importing packages\n",
    "import pandas as pd\n",
    "import numpy as np\n",
    "\n",
    "import matplotlib.pyplot as plt\n",
    "import seaborn as sns\n",
    "\n",
    "from sklearn.preprocessing import StandardScaler\n",
    "\n",
    "from sklearn.linear_model import Lasso\n",
    "from sklearn.model_selection import GridSearchCV\n",
    "\n",
    "from sklearn.metrics import r2_score\n",
    "from sklearn.metrics import mean_squared_error"
   ]
  },
  {
   "cell_type": "markdown",
   "metadata": {},
   "source": [
    "### Data Understanding"
   ]
  },
  {
   "cell_type": "code",
   "execution_count": 2,
   "metadata": {},
   "outputs": [],
   "source": [
    "tackle = pd.read_excel('player_cleaned_data.xlsx')"
   ]
  },
  {
   "cell_type": "code",
   "execution_count": 3,
   "metadata": {},
   "outputs": [
    {
     "data": {
      "text/html": [
       "<div>\n",
       "<style scoped>\n",
       "    .dataframe tbody tr th:only-of-type {\n",
       "        vertical-align: middle;\n",
       "    }\n",
       "\n",
       "    .dataframe tbody tr th {\n",
       "        vertical-align: top;\n",
       "    }\n",
       "\n",
       "    .dataframe thead th {\n",
       "        text-align: right;\n",
       "    }\n",
       "</style>\n",
       "<table border=\"1\" class=\"dataframe\">\n",
       "  <thead>\n",
       "    <tr style=\"text-align: right;\">\n",
       "      <th></th>\n",
       "      <th>match_id</th>\n",
       "      <th>Team</th>\n",
       "      <th>id</th>\n",
       "      <th>name</th>\n",
       "      <th>short_name</th>\n",
       "      <th>red_card</th>\n",
       "      <th>yellow_card</th>\n",
       "      <th>green_card</th>\n",
       "      <th>played</th>\n",
       "      <th>captain</th>\n",
       "      <th>...</th>\n",
       "      <th>winning_team</th>\n",
       "      <th>toss_winner</th>\n",
       "      <th>venue</th>\n",
       "      <th>toss_choice</th>\n",
       "      <th>toss_direction</th>\n",
       "      <th>winning_score</th>\n",
       "      <th>loosing_score</th>\n",
       "      <th>Year</th>\n",
       "      <th>Month</th>\n",
       "      <th>Season</th>\n",
       "    </tr>\n",
       "  </thead>\n",
       "  <tbody>\n",
       "    <tr>\n",
       "      <th>0</th>\n",
       "      <td>1</td>\n",
       "      <td>JAI</td>\n",
       "      <td>15</td>\n",
       "      <td>Sanjay Shrestha</td>\n",
       "      <td>Sanjay Shrestha</td>\n",
       "      <td>False</td>\n",
       "      <td>False</td>\n",
       "      <td>False</td>\n",
       "      <td>True</td>\n",
       "      <td>False</td>\n",
       "      <td>...</td>\n",
       "      <td>U Mumba</td>\n",
       "      <td>U Mumba</td>\n",
       "      <td>DOME@NSCI SVP Stadium, Mumbai</td>\n",
       "      <td>Choice of court</td>\n",
       "      <td>Right</td>\n",
       "      <td>45</td>\n",
       "      <td>31</td>\n",
       "      <td>2014</td>\n",
       "      <td>7</td>\n",
       "      <td>Season 1</td>\n",
       "    </tr>\n",
       "    <tr>\n",
       "      <th>1</th>\n",
       "      <td>1</td>\n",
       "      <td>JAI</td>\n",
       "      <td>96</td>\n",
       "      <td>Rohit Rana</td>\n",
       "      <td>Rohit Rana</td>\n",
       "      <td>False</td>\n",
       "      <td>False</td>\n",
       "      <td>False</td>\n",
       "      <td>True</td>\n",
       "      <td>False</td>\n",
       "      <td>...</td>\n",
       "      <td>U Mumba</td>\n",
       "      <td>U Mumba</td>\n",
       "      <td>DOME@NSCI SVP Stadium, Mumbai</td>\n",
       "      <td>Choice of court</td>\n",
       "      <td>Right</td>\n",
       "      <td>45</td>\n",
       "      <td>31</td>\n",
       "      <td>2014</td>\n",
       "      <td>7</td>\n",
       "      <td>Season 1</td>\n",
       "    </tr>\n",
       "    <tr>\n",
       "      <th>2</th>\n",
       "      <td>1</td>\n",
       "      <td>JAI</td>\n",
       "      <td>72</td>\n",
       "      <td>Navneet Gautam</td>\n",
       "      <td>Navneet Gautam</td>\n",
       "      <td>False</td>\n",
       "      <td>False</td>\n",
       "      <td>False</td>\n",
       "      <td>True</td>\n",
       "      <td>True</td>\n",
       "      <td>...</td>\n",
       "      <td>U Mumba</td>\n",
       "      <td>U Mumba</td>\n",
       "      <td>DOME@NSCI SVP Stadium, Mumbai</td>\n",
       "      <td>Choice of court</td>\n",
       "      <td>Right</td>\n",
       "      <td>45</td>\n",
       "      <td>31</td>\n",
       "      <td>2014</td>\n",
       "      <td>7</td>\n",
       "      <td>Season 1</td>\n",
       "    </tr>\n",
       "    <tr>\n",
       "      <th>3</th>\n",
       "      <td>1</td>\n",
       "      <td>JAI</td>\n",
       "      <td>52</td>\n",
       "      <td>Jasvir Singh</td>\n",
       "      <td>Jasvir Singh</td>\n",
       "      <td>False</td>\n",
       "      <td>False</td>\n",
       "      <td>False</td>\n",
       "      <td>True</td>\n",
       "      <td>False</td>\n",
       "      <td>...</td>\n",
       "      <td>U Mumba</td>\n",
       "      <td>U Mumba</td>\n",
       "      <td>DOME@NSCI SVP Stadium, Mumbai</td>\n",
       "      <td>Choice of court</td>\n",
       "      <td>Right</td>\n",
       "      <td>45</td>\n",
       "      <td>31</td>\n",
       "      <td>2014</td>\n",
       "      <td>7</td>\n",
       "      <td>Season 1</td>\n",
       "    </tr>\n",
       "    <tr>\n",
       "      <th>4</th>\n",
       "      <td>1</td>\n",
       "      <td>JAI</td>\n",
       "      <td>22</td>\n",
       "      <td>Wei Yang</td>\n",
       "      <td>Wei Yang</td>\n",
       "      <td>False</td>\n",
       "      <td>False</td>\n",
       "      <td>False</td>\n",
       "      <td>True</td>\n",
       "      <td>False</td>\n",
       "      <td>...</td>\n",
       "      <td>U Mumba</td>\n",
       "      <td>U Mumba</td>\n",
       "      <td>DOME@NSCI SVP Stadium, Mumbai</td>\n",
       "      <td>Choice of court</td>\n",
       "      <td>Right</td>\n",
       "      <td>45</td>\n",
       "      <td>31</td>\n",
       "      <td>2014</td>\n",
       "      <td>7</td>\n",
       "      <td>Season 1</td>\n",
       "    </tr>\n",
       "  </tbody>\n",
       "</table>\n",
       "<p>5 rows × 44 columns</p>\n",
       "</div>"
      ],
      "text/plain": [
       "   match_id Team  id             name       short_name  red_card  yellow_card  \\\n",
       "0         1  JAI  15  Sanjay Shrestha  Sanjay Shrestha     False        False   \n",
       "1         1  JAI  96       Rohit Rana       Rohit Rana     False        False   \n",
       "2         1  JAI  72   Navneet Gautam   Navneet Gautam     False        False   \n",
       "3         1  JAI  52     Jasvir Singh     Jasvir Singh     False        False   \n",
       "4         1  JAI  22         Wei Yang         Wei Yang     False        False   \n",
       "\n",
       "   green_card  played  captain  ...  winning_team  toss_winner  \\\n",
       "0       False    True    False  ...       U Mumba      U Mumba   \n",
       "1       False    True    False  ...       U Mumba      U Mumba   \n",
       "2       False    True     True  ...       U Mumba      U Mumba   \n",
       "3       False    True    False  ...       U Mumba      U Mumba   \n",
       "4       False    True    False  ...       U Mumba      U Mumba   \n",
       "\n",
       "                           venue       toss_choice  toss_direction  \\\n",
       "0  DOME@NSCI SVP Stadium, Mumbai  Choice of court            Right   \n",
       "1  DOME@NSCI SVP Stadium, Mumbai  Choice of court            Right   \n",
       "2  DOME@NSCI SVP Stadium, Mumbai  Choice of court            Right   \n",
       "3  DOME@NSCI SVP Stadium, Mumbai  Choice of court            Right   \n",
       "4  DOME@NSCI SVP Stadium, Mumbai  Choice of court            Right   \n",
       "\n",
       "   winning_score  loosing_score  Year  Month    Season  \n",
       "0             45             31  2014      7  Season 1  \n",
       "1             45             31  2014      7  Season 1  \n",
       "2             45             31  2014      7  Season 1  \n",
       "3             45             31  2014      7  Season 1  \n",
       "4             45             31  2014      7  Season 1  \n",
       "\n",
       "[5 rows x 44 columns]"
      ]
     },
     "execution_count": 3,
     "metadata": {},
     "output_type": "execute_result"
    }
   ],
   "source": [
    "tackle.head()"
   ]
  },
  {
   "cell_type": "code",
   "execution_count": 4,
   "metadata": {},
   "outputs": [],
   "source": [
    "#tackle.drop(['match_id','date','temp'],axis=1,inplace=True)\n",
    "tackle.drop(['match_id','date'],axis=1,inplace=True)"
   ]
  },
  {
   "cell_type": "code",
   "execution_count": 5,
   "metadata": {},
   "outputs": [],
   "source": [
    "for each in ['red_card','yellow_card','green_card','played','captain','on_court','starter','top_raider',\n",
    "            'top_defender','toss_direction','toss_choice']:\n",
    "    \n",
    "    freq = tackle[each].mode()[0]\n",
    "    tackle[each] = tackle[each].apply(lambda x : 1 if x == freq else 0)"
   ]
  },
  {
   "cell_type": "code",
   "execution_count": 6,
   "metadata": {},
   "outputs": [
    {
     "data": {
      "text/plain": [
       "array(['20:00', '21:00', '21:15', '19:30', '20:30'], dtype=object)"
      ]
     },
     "execution_count": 6,
     "metadata": {},
     "output_type": "execute_result"
    }
   ],
   "source": [
    "tackle['start_time'].unique()"
   ]
  },
  {
   "cell_type": "code",
   "execution_count": 7,
   "metadata": {},
   "outputs": [],
   "source": [
    "tackle['raider_sucess_%'] = tackle['raids_successful']/ tackle['raids_total'] * 100"
   ]
  },
  {
   "cell_type": "code",
   "execution_count": 8,
   "metadata": {},
   "outputs": [],
   "source": [
    "tackle.drop(['raids_successful','raids_total'],axis=1,inplace=True)"
   ]
  },
  {
   "cell_type": "code",
   "execution_count": 9,
   "metadata": {},
   "outputs": [],
   "source": [
    "tackle['tackle_sucess_%'] = tackle['tackles_successful']/ tackle['tackles_total'] * 100"
   ]
  },
  {
   "cell_type": "code",
   "execution_count": 10,
   "metadata": {},
   "outputs": [],
   "source": [
    "tackle.drop(['tackles_successful','tackles_total'],axis=1,inplace=True)"
   ]
  },
  {
   "cell_type": "code",
   "execution_count": 11,
   "metadata": {},
   "outputs": [],
   "source": [
    "tackle['raider_sucess_%'].fillna(0,inplace=True)\n",
    "tackle['tackle_sucess_%'].fillna(0,inplace=True)"
   ]
  },
  {
   "cell_type": "code",
   "execution_count": 12,
   "metadata": {},
   "outputs": [
    {
     "data": {
      "text/html": [
       "<div>\n",
       "<style scoped>\n",
       "    .dataframe tbody tr th:only-of-type {\n",
       "        vertical-align: middle;\n",
       "    }\n",
       "\n",
       "    .dataframe tbody tr th {\n",
       "        vertical-align: top;\n",
       "    }\n",
       "\n",
       "    .dataframe thead tr th {\n",
       "        text-align: left;\n",
       "    }\n",
       "\n",
       "    .dataframe thead tr:last-of-type th {\n",
       "        text-align: right;\n",
       "    }\n",
       "</style>\n",
       "<table border=\"1\" class=\"dataframe\">\n",
       "  <thead>\n",
       "    <tr>\n",
       "      <th></th>\n",
       "      <th colspan=\"11\" halign=\"left\">raider_sucess_%</th>\n",
       "    </tr>\n",
       "    <tr>\n",
       "      <th></th>\n",
       "      <th>count</th>\n",
       "      <th>mean</th>\n",
       "      <th>std</th>\n",
       "      <th>min</th>\n",
       "      <th>25%</th>\n",
       "      <th>50%</th>\n",
       "      <th>75%</th>\n",
       "      <th>90%</th>\n",
       "      <th>95%</th>\n",
       "      <th>99%</th>\n",
       "      <th>max</th>\n",
       "    </tr>\n",
       "    <tr>\n",
       "      <th>start_time</th>\n",
       "      <th></th>\n",
       "      <th></th>\n",
       "      <th></th>\n",
       "      <th></th>\n",
       "      <th></th>\n",
       "      <th></th>\n",
       "      <th></th>\n",
       "      <th></th>\n",
       "      <th></th>\n",
       "      <th></th>\n",
       "      <th></th>\n",
       "    </tr>\n",
       "  </thead>\n",
       "  <tbody>\n",
       "    <tr>\n",
       "      <th>19:30</th>\n",
       "      <td>1459.0</td>\n",
       "      <td>11.131878</td>\n",
       "      <td>20.164083</td>\n",
       "      <td>0.0</td>\n",
       "      <td>0.0</td>\n",
       "      <td>0.0</td>\n",
       "      <td>20.000000</td>\n",
       "      <td>42.857143</td>\n",
       "      <td>50.217391</td>\n",
       "      <td>77.777778</td>\n",
       "      <td>100.000000</td>\n",
       "    </tr>\n",
       "    <tr>\n",
       "      <th>20:00</th>\n",
       "      <td>7077.0</td>\n",
       "      <td>11.947603</td>\n",
       "      <td>21.308876</td>\n",
       "      <td>0.0</td>\n",
       "      <td>0.0</td>\n",
       "      <td>0.0</td>\n",
       "      <td>20.000000</td>\n",
       "      <td>45.454545</td>\n",
       "      <td>55.555556</td>\n",
       "      <td>100.000000</td>\n",
       "      <td>100.000000</td>\n",
       "    </tr>\n",
       "    <tr>\n",
       "      <th>20:30</th>\n",
       "      <td>1222.0</td>\n",
       "      <td>11.604431</td>\n",
       "      <td>21.101383</td>\n",
       "      <td>0.0</td>\n",
       "      <td>0.0</td>\n",
       "      <td>0.0</td>\n",
       "      <td>20.000000</td>\n",
       "      <td>45.454545</td>\n",
       "      <td>54.545455</td>\n",
       "      <td>100.000000</td>\n",
       "      <td>100.000000</td>\n",
       "    </tr>\n",
       "    <tr>\n",
       "      <th>21:00</th>\n",
       "      <td>5678.0</td>\n",
       "      <td>12.195719</td>\n",
       "      <td>21.648886</td>\n",
       "      <td>0.0</td>\n",
       "      <td>0.0</td>\n",
       "      <td>0.0</td>\n",
       "      <td>21.428571</td>\n",
       "      <td>45.454545</td>\n",
       "      <td>54.545455</td>\n",
       "      <td>100.000000</td>\n",
       "      <td>100.000000</td>\n",
       "    </tr>\n",
       "    <tr>\n",
       "      <th>21:15</th>\n",
       "      <td>24.0</td>\n",
       "      <td>8.469043</td>\n",
       "      <td>16.553768</td>\n",
       "      <td>0.0</td>\n",
       "      <td>0.0</td>\n",
       "      <td>0.0</td>\n",
       "      <td>3.125000</td>\n",
       "      <td>37.000000</td>\n",
       "      <td>45.230769</td>\n",
       "      <td>50.948718</td>\n",
       "      <td>52.380952</td>\n",
       "    </tr>\n",
       "  </tbody>\n",
       "</table>\n",
       "</div>"
      ],
      "text/plain": [
       "           raider_sucess_%                                                  \\\n",
       "                     count       mean        std  min  25%  50%        75%   \n",
       "start_time                                                                   \n",
       "19:30               1459.0  11.131878  20.164083  0.0  0.0  0.0  20.000000   \n",
       "20:00               7077.0  11.947603  21.308876  0.0  0.0  0.0  20.000000   \n",
       "20:30               1222.0  11.604431  21.101383  0.0  0.0  0.0  20.000000   \n",
       "21:00               5678.0  12.195719  21.648886  0.0  0.0  0.0  21.428571   \n",
       "21:15                 24.0   8.469043  16.553768  0.0  0.0  0.0   3.125000   \n",
       "\n",
       "                                                          \n",
       "                  90%        95%         99%         max  \n",
       "start_time                                                \n",
       "19:30       42.857143  50.217391   77.777778  100.000000  \n",
       "20:00       45.454545  55.555556  100.000000  100.000000  \n",
       "20:30       45.454545  54.545455  100.000000  100.000000  \n",
       "21:00       45.454545  54.545455  100.000000  100.000000  \n",
       "21:15       37.000000  45.230769   50.948718   52.380952  "
      ]
     },
     "execution_count": 12,
     "metadata": {},
     "output_type": "execute_result"
    }
   ],
   "source": [
    "tackle[['start_time','raider_sucess_%']].groupby('start_time').describe(percentiles=[.25,.5,.75,.9,.95,.99])"
   ]
  },
  {
   "cell_type": "code",
   "execution_count": 13,
   "metadata": {},
   "outputs": [],
   "source": [
    "def group_time(x):\n",
    "    if x == '19:30':\n",
    "        return 'Early'\n",
    "    elif x=='21:15':\n",
    "        return 'Late'\n",
    "    else:\n",
    "        return 'Ususal'\n",
    "\n",
    "tackle['start_time'] = tackle['start_time'].apply(lambda x : group_time(x))"
   ]
  },
  {
   "cell_type": "code",
   "execution_count": 14,
   "metadata": {},
   "outputs": [],
   "source": [
    "tackle.index = range(0,len(tackle))"
   ]
  },
  {
   "cell_type": "code",
   "execution_count": 15,
   "metadata": {},
   "outputs": [],
   "source": [
    "for i in range(0,len(tackle)):\n",
    "    if tackle.loc[i,'Team'] in tackle.loc[i,'winning_team'].upper():\n",
    "        tackle.loc[i,'winning_team'] = 1\n",
    "    else:\n",
    "        tackle.loc[i,'winning_team'] = 0"
   ]
  },
  {
   "cell_type": "code",
   "execution_count": 16,
   "metadata": {},
   "outputs": [],
   "source": [
    "for i in range(0,len(tackle)):\n",
    "    if tackle.loc[i,'Team'] in tackle.loc[i,'toss_winner'].upper():\n",
    "        tackle.loc[i,'toss_winner'] = 1\n",
    "    else:\n",
    "        tackle.loc[i,'toss_winner'] = 0"
   ]
  },
  {
   "cell_type": "code",
   "execution_count": 17,
   "metadata": {},
   "outputs": [
    {
     "data": {
      "text/plain": [
       "(15460, 40)"
      ]
     },
     "execution_count": 17,
     "metadata": {},
     "output_type": "execute_result"
    }
   ],
   "source": [
    "tackle.shape"
   ]
  },
  {
   "cell_type": "code",
   "execution_count": 18,
   "metadata": {},
   "outputs": [
    {
     "data": {
      "text/plain": [
       "(15460, 40)"
      ]
     },
     "execution_count": 18,
     "metadata": {},
     "output_type": "execute_result"
    }
   ],
   "source": [
    "tackle.shape"
   ]
  },
  {
   "cell_type": "code",
   "execution_count": 19,
   "metadata": {},
   "outputs": [],
   "source": [
    "player_id = tackle['id']\n",
    "player_name = tackle['name']\n",
    "player_short_name = tackle['short_name']"
   ]
  },
  {
   "cell_type": "code",
   "execution_count": 20,
   "metadata": {},
   "outputs": [],
   "source": [
    "tackle.drop(['Team','id','name','short_name'],axis=1,inplace=True)"
   ]
  },
  {
   "cell_type": "code",
   "execution_count": 21,
   "metadata": {},
   "outputs": [],
   "source": [
    "tackle['Season'] = tackle['Season'].astype('category')\n",
    "tackle['venue'] = tackle['venue'].astype('category')"
   ]
  },
  {
   "cell_type": "markdown",
   "metadata": {},
   "source": [
    "### Data Preparation for model"
   ]
  },
  {
   "cell_type": "code",
   "execution_count": 22,
   "metadata": {},
   "outputs": [],
   "source": [
    "cat = pd.get_dummies(tackle.select_dtypes(include='object'))"
   ]
  },
  {
   "cell_type": "code",
   "execution_count": 23,
   "metadata": {},
   "outputs": [],
   "source": [
    "tackle_model = pd.concat([cat,tackle.select_dtypes(exclude='object')],axis=1)"
   ]
  },
  {
   "cell_type": "code",
   "execution_count": 24,
   "metadata": {},
   "outputs": [
    {
     "data": {
      "text/plain": [
       "(15460, 38)"
      ]
     },
     "execution_count": 24,
     "metadata": {},
     "output_type": "execute_result"
    }
   ],
   "source": [
    "tackle_model.shape"
   ]
  },
  {
   "cell_type": "code",
   "execution_count": 25,
   "metadata": {},
   "outputs": [],
   "source": [
    "tackle_train = tackle_model[tackle_model['Season'] != 'Season 7']"
   ]
  },
  {
   "cell_type": "code",
   "execution_count": 26,
   "metadata": {},
   "outputs": [
    {
     "data": {
      "text/plain": [
       "(12731, 38)"
      ]
     },
     "execution_count": 26,
     "metadata": {},
     "output_type": "execute_result"
    }
   ],
   "source": [
    "tackle_train.shape"
   ]
  },
  {
   "cell_type": "code",
   "execution_count": 27,
   "metadata": {},
   "outputs": [],
   "source": [
    "tackle_test = tackle_model[tackle_model['Season'] == 'Season 7']"
   ]
  },
  {
   "cell_type": "code",
   "execution_count": 28,
   "metadata": {},
   "outputs": [
    {
     "data": {
      "text/plain": [
       "(2729, 38)"
      ]
     },
     "execution_count": 28,
     "metadata": {},
     "output_type": "execute_result"
    }
   ],
   "source": [
    "tackle_test.shape"
   ]
  },
  {
   "cell_type": "code",
   "execution_count": 29,
   "metadata": {},
   "outputs": [],
   "source": [
    "X_train = tackle_train.drop(['tackle_sucess_%','Season','venue','tackle_points_total','Player_points_total','raider_points_total'],axis=1)\n",
    "y_train = tackle_train['tackle_sucess_%']"
   ]
  },
  {
   "cell_type": "code",
   "execution_count": 30,
   "metadata": {},
   "outputs": [],
   "source": [
    "X_test = tackle_test.drop(['tackle_sucess_%','Season','venue','tackle_points_total','Player_points_total','raider_points_total'],axis=1)\n",
    "y_test = tackle_test['tackle_sucess_%']"
   ]
  },
  {
   "cell_type": "code",
   "execution_count": 31,
   "metadata": {},
   "outputs": [],
   "source": [
    "# storing column names in cols, since column names are (annoyingly) lost after \n",
    "# scaling (the df is converted to a numpy array)\n",
    "\n",
    "scaler = StandardScaler()\n",
    "\n",
    "X_train[X_train.columns] = scaler.fit_transform(X_train[X_train.columns])"
   ]
  },
  {
   "cell_type": "code",
   "execution_count": 32,
   "metadata": {},
   "outputs": [],
   "source": [
    "X_test[X_train.columns] = scaler.transform(X_test[X_train.columns])"
   ]
  },
  {
   "cell_type": "markdown",
   "metadata": {},
   "source": [
    "### Model"
   ]
  },
  {
   "cell_type": "code",
   "execution_count": 33,
   "metadata": {},
   "outputs": [],
   "source": [
    "params = {'alpha': [0.0001,0.001,0.01,0.02,0.05,0.1,0.2,0.3,0.4,0.5,0.6,0.7,0.8,0.9,1,5,10,50,100,200,500]}"
   ]
  },
  {
   "cell_type": "code",
   "execution_count": 34,
   "metadata": {},
   "outputs": [
    {
     "name": "stdout",
     "output_type": "stream",
     "text": [
      "Fitting 5 folds for each of 21 candidates, totalling 105 fits\n"
     ]
    },
    {
     "name": "stderr",
     "output_type": "stream",
     "text": [
      "[Parallel(n_jobs=1)]: Using backend SequentialBackend with 1 concurrent workers.\n",
      "C:\\ProgramData\\Anaconda3\\lib\\site-packages\\sklearn\\linear_model\\coordinate_descent.py:475: ConvergenceWarning: Objective did not converge. You might want to increase the number of iterations. Duality gap: 1432644.873717249, tolerance: 864.5399365918324\n",
      "  positive)\n",
      "C:\\ProgramData\\Anaconda3\\lib\\site-packages\\sklearn\\linear_model\\coordinate_descent.py:475: ConvergenceWarning: Objective did not converge. You might want to increase the number of iterations. Duality gap: 1415239.1219090712, tolerance: 859.5733949549262\n",
      "  positive)\n",
      "C:\\ProgramData\\Anaconda3\\lib\\site-packages\\sklearn\\linear_model\\coordinate_descent.py:475: ConvergenceWarning: Objective did not converge. You might want to increase the number of iterations. Duality gap: 1426236.1993215866, tolerance: 866.5309371615939\n",
      "  positive)\n",
      "C:\\ProgramData\\Anaconda3\\lib\\site-packages\\sklearn\\linear_model\\coordinate_descent.py:475: ConvergenceWarning: Objective did not converge. You might want to increase the number of iterations. Duality gap: 1417095.828017117, tolerance: 859.24448718834\n",
      "  positive)\n",
      "C:\\ProgramData\\Anaconda3\\lib\\site-packages\\sklearn\\linear_model\\coordinate_descent.py:475: ConvergenceWarning: Objective did not converge. You might want to increase the number of iterations. Duality gap: 856733.1786355615, tolerance: 864.5399365918324\n",
      "  positive)\n",
      "C:\\ProgramData\\Anaconda3\\lib\\site-packages\\sklearn\\linear_model\\coordinate_descent.py:475: ConvergenceWarning: Objective did not converge. You might want to increase the number of iterations. Duality gap: 755699.4629296433, tolerance: 859.5733949549262\n",
      "  positive)\n",
      "C:\\ProgramData\\Anaconda3\\lib\\site-packages\\sklearn\\linear_model\\coordinate_descent.py:475: ConvergenceWarning: Objective did not converge. You might want to increase the number of iterations. Duality gap: 789615.3843624975, tolerance: 866.5309371615939\n",
      "  positive)\n",
      "C:\\ProgramData\\Anaconda3\\lib\\site-packages\\sklearn\\linear_model\\coordinate_descent.py:475: ConvergenceWarning: Objective did not converge. You might want to increase the number of iterations. Duality gap: 784183.5680620609, tolerance: 859.24448718834\n",
      "  positive)\n",
      "[Parallel(n_jobs=1)]: Done 105 out of 105 | elapsed:    3.4s finished\n"
     ]
    },
    {
     "data": {
      "text/plain": [
       "GridSearchCV(cv=5, error_score='raise-deprecating',\n",
       "             estimator=Lasso(alpha=1.0, copy_X=True, fit_intercept=True,\n",
       "                             max_iter=1000, normalize=False, positive=False,\n",
       "                             precompute=False, random_state=None,\n",
       "                             selection='cyclic', tol=0.0001, warm_start=False),\n",
       "             iid='warn', n_jobs=None,\n",
       "             param_grid={'alpha': [0.0001, 0.001, 0.01, 0.02, 0.05, 0.1, 0.2,\n",
       "                                   0.3, 0.4, 0.5, 0.6, 0.7, 0.8, 0.9, 1, 5, 10,\n",
       "                                   50, 100, 200, 500]},\n",
       "             pre_dispatch='2*n_jobs', refit=True, return_train_score=True,\n",
       "             scoring='neg_mean_absolute_error', verbose=1)"
      ]
     },
     "execution_count": 34,
     "metadata": {},
     "output_type": "execute_result"
    }
   ],
   "source": [
    "lasso = Lasso()\n",
    "\n",
    "# cross validation\n",
    "folds=5\n",
    "model_cv = GridSearchCV(estimator = lasso, \n",
    "                        param_grid = params, \n",
    "                        scoring= 'neg_mean_absolute_error', \n",
    "                        cv = folds, \n",
    "                        return_train_score=True,\n",
    "                        verbose = 1)            \n",
    "\n",
    "model_cv.fit(X_train, y_train) "
   ]
  },
  {
   "cell_type": "code",
   "execution_count": 35,
   "metadata": {},
   "outputs": [
    {
     "data": {
      "text/html": [
       "<div>\n",
       "<style scoped>\n",
       "    .dataframe tbody tr th:only-of-type {\n",
       "        vertical-align: middle;\n",
       "    }\n",
       "\n",
       "    .dataframe tbody tr th {\n",
       "        vertical-align: top;\n",
       "    }\n",
       "\n",
       "    .dataframe thead th {\n",
       "        text-align: right;\n",
       "    }\n",
       "</style>\n",
       "<table border=\"1\" class=\"dataframe\">\n",
       "  <thead>\n",
       "    <tr style=\"text-align: right;\">\n",
       "      <th></th>\n",
       "      <th>mean_fit_time</th>\n",
       "      <th>std_fit_time</th>\n",
       "      <th>mean_score_time</th>\n",
       "      <th>std_score_time</th>\n",
       "      <th>param_alpha</th>\n",
       "      <th>params</th>\n",
       "      <th>split0_test_score</th>\n",
       "      <th>split1_test_score</th>\n",
       "      <th>split2_test_score</th>\n",
       "      <th>split3_test_score</th>\n",
       "      <th>...</th>\n",
       "      <th>mean_test_score</th>\n",
       "      <th>std_test_score</th>\n",
       "      <th>rank_test_score</th>\n",
       "      <th>split0_train_score</th>\n",
       "      <th>split1_train_score</th>\n",
       "      <th>split2_train_score</th>\n",
       "      <th>split3_train_score</th>\n",
       "      <th>split4_train_score</th>\n",
       "      <th>mean_train_score</th>\n",
       "      <th>std_train_score</th>\n",
       "    </tr>\n",
       "  </thead>\n",
       "  <tbody>\n",
       "    <tr>\n",
       "      <th>0</th>\n",
       "      <td>0.214645</td>\n",
       "      <td>0.081832</td>\n",
       "      <td>0.001197</td>\n",
       "      <td>0.000399</td>\n",
       "      <td>0.0001</td>\n",
       "      <td>{'alpha': 0.0001}</td>\n",
       "      <td>-12.213413</td>\n",
       "      <td>-10.330510</td>\n",
       "      <td>-10.516013</td>\n",
       "      <td>-10.017940</td>\n",
       "      <td>...</td>\n",
       "      <td>-10.628159</td>\n",
       "      <td>0.813326</td>\n",
       "      <td>11</td>\n",
       "      <td>-9.711439</td>\n",
       "      <td>-10.325002</td>\n",
       "      <td>-10.337673</td>\n",
       "      <td>-10.323738</td>\n",
       "      <td>-10.233541</td>\n",
       "      <td>-10.186279</td>\n",
       "      <td>0.240319</td>\n",
       "    </tr>\n",
       "    <tr>\n",
       "      <th>1</th>\n",
       "      <td>0.184913</td>\n",
       "      <td>0.075751</td>\n",
       "      <td>0.000997</td>\n",
       "      <td>0.000631</td>\n",
       "      <td>0.001</td>\n",
       "      <td>{'alpha': 0.001}</td>\n",
       "      <td>-12.210712</td>\n",
       "      <td>-10.329953</td>\n",
       "      <td>-10.515228</td>\n",
       "      <td>-10.017661</td>\n",
       "      <td>...</td>\n",
       "      <td>-10.627357</td>\n",
       "      <td>0.812334</td>\n",
       "      <td>10</td>\n",
       "      <td>-9.711066</td>\n",
       "      <td>-10.324874</td>\n",
       "      <td>-10.337647</td>\n",
       "      <td>-10.323638</td>\n",
       "      <td>-10.233531</td>\n",
       "      <td>-10.186151</td>\n",
       "      <td>0.240436</td>\n",
       "    </tr>\n",
       "    <tr>\n",
       "      <th>2</th>\n",
       "      <td>0.058644</td>\n",
       "      <td>0.013969</td>\n",
       "      <td>0.001795</td>\n",
       "      <td>0.000746</td>\n",
       "      <td>0.01</td>\n",
       "      <td>{'alpha': 0.01}</td>\n",
       "      <td>-12.179666</td>\n",
       "      <td>-10.326349</td>\n",
       "      <td>-10.507787</td>\n",
       "      <td>-10.014416</td>\n",
       "      <td>...</td>\n",
       "      <td>-10.618374</td>\n",
       "      <td>0.801125</td>\n",
       "      <td>8</td>\n",
       "      <td>-9.708163</td>\n",
       "      <td>-10.323397</td>\n",
       "      <td>-10.336886</td>\n",
       "      <td>-10.322173</td>\n",
       "      <td>-10.233355</td>\n",
       "      <td>-10.184795</td>\n",
       "      <td>0.241143</td>\n",
       "    </tr>\n",
       "    <tr>\n",
       "      <th>3</th>\n",
       "      <td>0.026530</td>\n",
       "      <td>0.005224</td>\n",
       "      <td>0.001795</td>\n",
       "      <td>0.000399</td>\n",
       "      <td>0.02</td>\n",
       "      <td>{'alpha': 0.02}</td>\n",
       "      <td>-12.146130</td>\n",
       "      <td>-10.323885</td>\n",
       "      <td>-10.497983</td>\n",
       "      <td>-10.009468</td>\n",
       "      <td>...</td>\n",
       "      <td>-10.607413</td>\n",
       "      <td>0.789810</td>\n",
       "      <td>7</td>\n",
       "      <td>-9.705492</td>\n",
       "      <td>-10.320666</td>\n",
       "      <td>-10.336156</td>\n",
       "      <td>-10.319257</td>\n",
       "      <td>-10.232507</td>\n",
       "      <td>-10.182816</td>\n",
       "      <td>0.241429</td>\n",
       "    </tr>\n",
       "    <tr>\n",
       "      <th>4</th>\n",
       "      <td>0.014562</td>\n",
       "      <td>0.001621</td>\n",
       "      <td>0.001396</td>\n",
       "      <td>0.000489</td>\n",
       "      <td>0.05</td>\n",
       "      <td>{'alpha': 0.05}</td>\n",
       "      <td>-12.048163</td>\n",
       "      <td>-10.331171</td>\n",
       "      <td>-10.497117</td>\n",
       "      <td>-10.003481</td>\n",
       "      <td>...</td>\n",
       "      <td>-10.585156</td>\n",
       "      <td>0.754067</td>\n",
       "      <td>5</td>\n",
       "      <td>-9.703644</td>\n",
       "      <td>-10.320036</td>\n",
       "      <td>-10.335187</td>\n",
       "      <td>-10.314804</td>\n",
       "      <td>-10.234617</td>\n",
       "      <td>-10.181657</td>\n",
       "      <td>0.241557</td>\n",
       "    </tr>\n",
       "  </tbody>\n",
       "</table>\n",
       "<p>5 rows × 21 columns</p>\n",
       "</div>"
      ],
      "text/plain": [
       "   mean_fit_time  std_fit_time  mean_score_time  std_score_time param_alpha  \\\n",
       "0       0.214645      0.081832         0.001197        0.000399      0.0001   \n",
       "1       0.184913      0.075751         0.000997        0.000631       0.001   \n",
       "2       0.058644      0.013969         0.001795        0.000746        0.01   \n",
       "3       0.026530      0.005224         0.001795        0.000399        0.02   \n",
       "4       0.014562      0.001621         0.001396        0.000489        0.05   \n",
       "\n",
       "              params  split0_test_score  split1_test_score  split2_test_score  \\\n",
       "0  {'alpha': 0.0001}         -12.213413         -10.330510         -10.516013   \n",
       "1   {'alpha': 0.001}         -12.210712         -10.329953         -10.515228   \n",
       "2    {'alpha': 0.01}         -12.179666         -10.326349         -10.507787   \n",
       "3    {'alpha': 0.02}         -12.146130         -10.323885         -10.497983   \n",
       "4    {'alpha': 0.05}         -12.048163         -10.331171         -10.497117   \n",
       "\n",
       "   split3_test_score  ...  mean_test_score  std_test_score  rank_test_score  \\\n",
       "0         -10.017940  ...       -10.628159        0.813326               11   \n",
       "1         -10.017661  ...       -10.627357        0.812334               10   \n",
       "2         -10.014416  ...       -10.618374        0.801125                8   \n",
       "3         -10.009468  ...       -10.607413        0.789810                7   \n",
       "4         -10.003481  ...       -10.585156        0.754067                5   \n",
       "\n",
       "   split0_train_score  split1_train_score  split2_train_score  \\\n",
       "0           -9.711439          -10.325002          -10.337673   \n",
       "1           -9.711066          -10.324874          -10.337647   \n",
       "2           -9.708163          -10.323397          -10.336886   \n",
       "3           -9.705492          -10.320666          -10.336156   \n",
       "4           -9.703644          -10.320036          -10.335187   \n",
       "\n",
       "   split3_train_score  split4_train_score  mean_train_score  std_train_score  \n",
       "0          -10.323738          -10.233541        -10.186279         0.240319  \n",
       "1          -10.323638          -10.233531        -10.186151         0.240436  \n",
       "2          -10.322173          -10.233355        -10.184795         0.241143  \n",
       "3          -10.319257          -10.232507        -10.182816         0.241429  \n",
       "4          -10.314804          -10.234617        -10.181657         0.241557  \n",
       "\n",
       "[5 rows x 21 columns]"
      ]
     },
     "execution_count": 35,
     "metadata": {},
     "output_type": "execute_result"
    }
   ],
   "source": [
    "cv_results = pd.DataFrame(model_cv.cv_results_)\n",
    "cv_results.head()"
   ]
  },
  {
   "cell_type": "code",
   "execution_count": 36,
   "metadata": {},
   "outputs": [
    {
     "data": {
      "text/html": [
       "<div>\n",
       "<style scoped>\n",
       "    .dataframe tbody tr th:only-of-type {\n",
       "        vertical-align: middle;\n",
       "    }\n",
       "\n",
       "    .dataframe tbody tr th {\n",
       "        vertical-align: top;\n",
       "    }\n",
       "\n",
       "    .dataframe thead th {\n",
       "        text-align: right;\n",
       "    }\n",
       "</style>\n",
       "<table border=\"1\" class=\"dataframe\">\n",
       "  <thead>\n",
       "    <tr style=\"text-align: right;\">\n",
       "      <th></th>\n",
       "      <th>param_alpha</th>\n",
       "      <th>mean_train_score</th>\n",
       "      <th>mean_test_score</th>\n",
       "    </tr>\n",
       "  </thead>\n",
       "  <tbody>\n",
       "    <tr>\n",
       "      <th>0</th>\n",
       "      <td>0.0001</td>\n",
       "      <td>-10.186279</td>\n",
       "      <td>-10.628159</td>\n",
       "    </tr>\n",
       "    <tr>\n",
       "      <th>1</th>\n",
       "      <td>0.001</td>\n",
       "      <td>-10.186151</td>\n",
       "      <td>-10.627357</td>\n",
       "    </tr>\n",
       "    <tr>\n",
       "      <th>2</th>\n",
       "      <td>0.01</td>\n",
       "      <td>-10.184795</td>\n",
       "      <td>-10.618374</td>\n",
       "    </tr>\n",
       "    <tr>\n",
       "      <th>3</th>\n",
       "      <td>0.02</td>\n",
       "      <td>-10.182816</td>\n",
       "      <td>-10.607413</td>\n",
       "    </tr>\n",
       "    <tr>\n",
       "      <th>4</th>\n",
       "      <td>0.05</td>\n",
       "      <td>-10.181657</td>\n",
       "      <td>-10.585156</td>\n",
       "    </tr>\n",
       "    <tr>\n",
       "      <th>5</th>\n",
       "      <td>0.1</td>\n",
       "      <td>-10.188115</td>\n",
       "      <td>-10.561628</td>\n",
       "    </tr>\n",
       "    <tr>\n",
       "      <th>6</th>\n",
       "      <td>0.2</td>\n",
       "      <td>-10.204181</td>\n",
       "      <td>-10.514830</td>\n",
       "    </tr>\n",
       "    <tr>\n",
       "      <th>7</th>\n",
       "      <td>0.3</td>\n",
       "      <td>-10.229736</td>\n",
       "      <td>-10.466410</td>\n",
       "    </tr>\n",
       "    <tr>\n",
       "      <th>8</th>\n",
       "      <td>0.4</td>\n",
       "      <td>-10.274398</td>\n",
       "      <td>-10.538684</td>\n",
       "    </tr>\n",
       "    <tr>\n",
       "      <th>9</th>\n",
       "      <td>0.5</td>\n",
       "      <td>-10.309071</td>\n",
       "      <td>-10.600305</td>\n",
       "    </tr>\n",
       "    <tr>\n",
       "      <th>10</th>\n",
       "      <td>0.6</td>\n",
       "      <td>-10.344767</td>\n",
       "      <td>-10.619761</td>\n",
       "    </tr>\n",
       "    <tr>\n",
       "      <th>11</th>\n",
       "      <td>0.7</td>\n",
       "      <td>-10.384467</td>\n",
       "      <td>-10.643331</td>\n",
       "    </tr>\n",
       "    <tr>\n",
       "      <th>12</th>\n",
       "      <td>0.8</td>\n",
       "      <td>-10.426342</td>\n",
       "      <td>-10.677242</td>\n",
       "    </tr>\n",
       "    <tr>\n",
       "      <th>13</th>\n",
       "      <td>0.9</td>\n",
       "      <td>-10.469797</td>\n",
       "      <td>-10.727677</td>\n",
       "    </tr>\n",
       "    <tr>\n",
       "      <th>14</th>\n",
       "      <td>1</td>\n",
       "      <td>-10.522902</td>\n",
       "      <td>-10.788806</td>\n",
       "    </tr>\n",
       "    <tr>\n",
       "      <th>15</th>\n",
       "      <td>5</td>\n",
       "      <td>-12.724045</td>\n",
       "      <td>-12.748768</td>\n",
       "    </tr>\n",
       "    <tr>\n",
       "      <th>16</th>\n",
       "      <td>10</td>\n",
       "      <td>-15.296356</td>\n",
       "      <td>-15.335885</td>\n",
       "    </tr>\n",
       "    <tr>\n",
       "      <th>17</th>\n",
       "      <td>50</td>\n",
       "      <td>-23.821627</td>\n",
       "      <td>-23.835842</td>\n",
       "    </tr>\n",
       "    <tr>\n",
       "      <th>18</th>\n",
       "      <td>100</td>\n",
       "      <td>-23.821627</td>\n",
       "      <td>-23.835842</td>\n",
       "    </tr>\n",
       "    <tr>\n",
       "      <th>19</th>\n",
       "      <td>200</td>\n",
       "      <td>-23.821627</td>\n",
       "      <td>-23.835842</td>\n",
       "    </tr>\n",
       "    <tr>\n",
       "      <th>20</th>\n",
       "      <td>500</td>\n",
       "      <td>-23.821627</td>\n",
       "      <td>-23.835842</td>\n",
       "    </tr>\n",
       "  </tbody>\n",
       "</table>\n",
       "</div>"
      ],
      "text/plain": [
       "   param_alpha  mean_train_score  mean_test_score\n",
       "0       0.0001        -10.186279       -10.628159\n",
       "1        0.001        -10.186151       -10.627357\n",
       "2         0.01        -10.184795       -10.618374\n",
       "3         0.02        -10.182816       -10.607413\n",
       "4         0.05        -10.181657       -10.585156\n",
       "5          0.1        -10.188115       -10.561628\n",
       "6          0.2        -10.204181       -10.514830\n",
       "7          0.3        -10.229736       -10.466410\n",
       "8          0.4        -10.274398       -10.538684\n",
       "9          0.5        -10.309071       -10.600305\n",
       "10         0.6        -10.344767       -10.619761\n",
       "11         0.7        -10.384467       -10.643331\n",
       "12         0.8        -10.426342       -10.677242\n",
       "13         0.9        -10.469797       -10.727677\n",
       "14           1        -10.522902       -10.788806\n",
       "15           5        -12.724045       -12.748768\n",
       "16          10        -15.296356       -15.335885\n",
       "17          50        -23.821627       -23.835842\n",
       "18         100        -23.821627       -23.835842\n",
       "19         200        -23.821627       -23.835842\n",
       "20         500        -23.821627       -23.835842"
      ]
     },
     "execution_count": 36,
     "metadata": {},
     "output_type": "execute_result"
    }
   ],
   "source": [
    "cv_results[['param_alpha','mean_train_score','mean_test_score']]"
   ]
  },
  {
   "cell_type": "code",
   "execution_count": 37,
   "metadata": {},
   "outputs": [
    {
     "data": {
      "text/plain": [
       "{'alpha': 0.3}"
      ]
     },
     "execution_count": 37,
     "metadata": {},
     "output_type": "execute_result"
    }
   ],
   "source": [
    "model_cv.best_params_"
   ]
  },
  {
   "cell_type": "code",
   "execution_count": 38,
   "metadata": {},
   "outputs": [
    {
     "data": {
      "text/plain": [
       "Lasso(alpha=0.2, copy_X=True, fit_intercept=True, max_iter=1000,\n",
       "      normalize=False, positive=False, precompute=False, random_state=None,\n",
       "      selection='cyclic', tol=0.0001, warm_start=False)"
      ]
     },
     "execution_count": 38,
     "metadata": {},
     "output_type": "execute_result"
    }
   ],
   "source": [
    "alpha = 0.2\n",
    "\n",
    "lasso = Lasso(alpha=alpha)\n",
    "        \n",
    "lasso.fit(X_train, y_train) "
   ]
  },
  {
   "cell_type": "code",
   "execution_count": 39,
   "metadata": {},
   "outputs": [
    {
     "data": {
      "text/plain": [
       "0.6573349100636805"
      ]
     },
     "execution_count": 39,
     "metadata": {},
     "output_type": "execute_result"
    }
   ],
   "source": [
    "lasso.score(X_train,y_train)"
   ]
  },
  {
   "cell_type": "code",
   "execution_count": 40,
   "metadata": {},
   "outputs": [],
   "source": [
    "y_predict = lasso.predict(X_test)"
   ]
  },
  {
   "cell_type": "code",
   "execution_count": 41,
   "metadata": {},
   "outputs": [],
   "source": [
    "from sklearn.metrics import r2_score\n",
    "from sklearn.metrics import mean_squared_error"
   ]
  },
  {
   "cell_type": "code",
   "execution_count": 42,
   "metadata": {},
   "outputs": [
    {
     "name": "stdout",
     "output_type": "stream",
     "text": [
      "0.6967587583749233\n",
      "16.00368481865428\n"
     ]
    }
   ],
   "source": [
    "print(r2_score(y_test,y_predict))\n",
    "print(np.sqrt(mean_squared_error(y_test,y_predict)))"
   ]
  },
  {
   "cell_type": "code",
   "execution_count": 43,
   "metadata": {},
   "outputs": [
    {
     "data": {
      "text/plain": [
       "<matplotlib.collections.PathCollection at 0x1b149752288>"
      ]
     },
     "execution_count": 43,
     "metadata": {},
     "output_type": "execute_result"
    },
    {
     "data": {
      "image/png": "[encoded data removed]",
      "text/plain": [
       "<Figure size 432x288 with 1 Axes>"
      ]
     },
     "metadata": {
      "needs_background": "light"
     },
     "output_type": "display_data"
    }
   ],
   "source": [
    "plt.scatter(y_test,y_predict)"
   ]
  },
  {
   "cell_type": "code",
   "execution_count": 44,
   "metadata": {},
   "outputs": [],
   "source": [
    "features = np.abs(pd.Series(dict(zip(X_train.columns,lasso.coef_)))).sort_values(ascending=False)"
   ]
  },
  {
   "cell_type": "code",
   "execution_count": 45,
   "metadata": {},
   "outputs": [
    {
     "data": {
      "text/plain": [
       "tackle_points_capture          25.092184\n",
       "tackles_unsuccessful            7.381072\n",
       "top_defender                    3.523652\n",
       "starter                         3.490338\n",
       "on_court                        1.832498\n",
       "played                          1.178502\n",
       "tackle_points_capture_bonus     0.965538\n",
       "raids_Empty                     0.689495\n",
       "Year                            0.600896\n",
       "raids_unsuccessful.1            0.471324\n",
       "dtype: float64"
      ]
     },
     "execution_count": 45,
     "metadata": {},
     "output_type": "execute_result"
    }
   ],
   "source": [
    "features.head(10)"
   ]
  },
  {
   "cell_type": "code",
   "execution_count": 46,
   "metadata": {},
   "outputs": [],
   "source": [
    "defender = pd.DataFrame(np.array([player_name.loc[tackle_test.index].values,y_predict]).T,columns=['Playername','Predicted sucessful tackle %'])"
   ]
  },
  {
   "cell_type": "code",
   "execution_count": 47,
   "metadata": {},
   "outputs": [],
   "source": [
    "defender['Predicted sucessful tackle %'] = defender['Predicted sucessful tackle %'].astype('float')\n",
    "defender = defender[['Playername','Predicted sucessful tackle %']].groupby('Playername').mean().sort_values(by='Predicted sucessful tackle %',ascending=False)"
   ]
  },
  {
   "cell_type": "code",
   "execution_count": 48,
   "metadata": {},
   "outputs": [
    {
     "data": {
      "text/html": [
       "<div>\n",
       "<style scoped>\n",
       "    .dataframe tbody tr th:only-of-type {\n",
       "        vertical-align: middle;\n",
       "    }\n",
       "\n",
       "    .dataframe tbody tr th {\n",
       "        vertical-align: top;\n",
       "    }\n",
       "\n",
       "    .dataframe thead th {\n",
       "        text-align: right;\n",
       "    }\n",
       "</style>\n",
       "<table border=\"1\" class=\"dataframe\">\n",
       "  <thead>\n",
       "    <tr style=\"text-align: right;\">\n",
       "      <th></th>\n",
       "      <th>Predicted sucessful tackle %</th>\n",
       "    </tr>\n",
       "    <tr>\n",
       "      <th>Playername</th>\n",
       "      <th></th>\n",
       "    </tr>\n",
       "  </thead>\n",
       "  <tbody>\n",
       "    <tr>\n",
       "      <th>Fazel Atrachali</th>\n",
       "      <td>59.276601</td>\n",
       "    </tr>\n",
       "    <tr>\n",
       "      <th>Vishal Bhardwaj</th>\n",
       "      <td>53.585833</td>\n",
       "    </tr>\n",
       "    <tr>\n",
       "      <th>Sandeep Dhull</th>\n",
       "      <td>52.393749</td>\n",
       "    </tr>\n",
       "    <tr>\n",
       "      <th>Nitesh Kumar</th>\n",
       "      <td>51.528872</td>\n",
       "    </tr>\n",
       "    <tr>\n",
       "      <th>Baldev Singh</th>\n",
       "      <td>50.638052</td>\n",
       "    </tr>\n",
       "  </tbody>\n",
       "</table>\n",
       "</div>"
      ],
      "text/plain": [
       "                 Predicted sucessful tackle %\n",
       "Playername                                   \n",
       "Fazel Atrachali                     59.276601\n",
       "Vishal Bhardwaj                     53.585833\n",
       "Sandeep Dhull                       52.393749\n",
       "Nitesh Kumar                        51.528872\n",
       "Baldev Singh                        50.638052"
      ]
     },
     "execution_count": 48,
     "metadata": {},
     "output_type": "execute_result"
    }
   ],
   "source": [
    "defender.head()"
   ]
  }
 ],
 "metadata": {
  "kernelspec": {
   "display_name": "Python 3",
   "language": "python",
   "name": "python3"
  },
  "language_info": {
   "codemirror_mode": {
    "name": "ipython",
    "version": 3
   },
   "file_extension": ".py",
   "mimetype": "text/x-python",
   "name": "python",
   "nbconvert_exporter": "python",
   "pygments_lexer": "ipython3",
   "version": "3.7.4"
  },
  "varInspector": {
   "cols": {
    "lenName": 16,
    "lenType": 16,
    "lenVar": 40
   },
   "kernels_config": {
    "python": {
     "delete_cmd_postfix": "",
     "delete_cmd_prefix": "del ",
     "library": "var_list.py",
     "varRefreshCmd": "print(var_dic_list())"
    },
    "r": {
     "delete_cmd_postfix": ") ",
     "delete_cmd_prefix": "rm(",
     "library": "var_list.r",
     "varRefreshCmd": "cat(var_dic_list()) "
    }
   },
   "types_to_exclude": [
    "module",
    "function",
    "builtin_function_or_method",
    "instance",
    "_Feature"
   ],
   "window_display": false
  }
 },
 "nbformat": 4,
 "nbformat_minor": 2
}
