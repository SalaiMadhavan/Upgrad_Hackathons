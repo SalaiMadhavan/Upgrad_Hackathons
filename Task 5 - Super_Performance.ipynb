{
 "cells": [
  {
   "cell_type": "code",
   "execution_count": 1,
   "metadata": {},
   "outputs": [],
   "source": [
    "# Importing Libraries\n",
    "\n",
    "import pandas as pd\n",
    "import numpy as np\n",
    "\n",
    "import matplotlib.pyplot as plt\n",
    "import seaborn as sns\n",
    "\n",
    "import warnings\n",
    "warnings.filterwarnings('ignore')\n",
    "\n",
    "from sklearn.linear_model import Lasso\n",
    "from sklearn.linear_model import LinearRegression\n",
    "from sklearn.model_selection import GridSearchCV\n",
    "\n",
    "from sklearn.metrics import r2_score\n",
    "from sklearn.metrics import mean_squared_error\n",
    "\n",
    "from sklearn.preprocessing import StandardScaler"
   ]
  },
  {
   "cell_type": "code",
   "execution_count": 2,
   "metadata": {},
   "outputs": [],
   "source": [
    "team = pd.read_excel('final_team_master_data.xlsx')\n",
    "stats = pd.read_excel('team_stats.xlsx')"
   ]
  },
  {
   "cell_type": "code",
   "execution_count": 3,
   "metadata": {},
   "outputs": [
    {
     "data": {
      "text/plain": [
       "(1120, 6)"
      ]
     },
     "execution_count": 3,
     "metadata": {},
     "output_type": "execute_result"
    }
   ],
   "source": [
    "stats.shape"
   ]
  },
  {
   "cell_type": "code",
   "execution_count": 4,
   "metadata": {},
   "outputs": [
    {
     "data": {
      "text/plain": [
       "(80, 31)"
      ]
     },
     "execution_count": 4,
     "metadata": {},
     "output_type": "execute_result"
    }
   ],
   "source": [
    "team.shape"
   ]
  },
  {
   "cell_type": "code",
   "execution_count": 5,
   "metadata": {},
   "outputs": [],
   "source": [
    "all_out_inflict = stats[stats['Points'] == 'all-outs-inflicted']"
   ]
  },
  {
   "cell_type": "code",
   "execution_count": 6,
   "metadata": {},
   "outputs": [
    {
     "data": {
      "text/plain": [
       "(80, 6)"
      ]
     },
     "execution_count": 6,
     "metadata": {},
     "output_type": "execute_result"
    }
   ],
   "source": [
    "all_out_inflict.shape"
   ]
  },
  {
   "cell_type": "code",
   "execution_count": 7,
   "metadata": {},
   "outputs": [],
   "source": [
    "all_out_conceded = stats[stats['Points'] == 'all-outs-conceded']"
   ]
  },
  {
   "cell_type": "code",
   "execution_count": 8,
   "metadata": {},
   "outputs": [
    {
     "data": {
      "text/plain": [
       "(80, 6)"
      ]
     },
     "execution_count": 8,
     "metadata": {},
     "output_type": "execute_result"
    }
   ],
   "source": [
    "all_out_conceded.shape"
   ]
  },
  {
   "cell_type": "code",
   "execution_count": 9,
   "metadata": {},
   "outputs": [],
   "source": [
    "all_out_inflict.sort_values(by=['Name','Season'],inplace=True)"
   ]
  },
  {
   "cell_type": "code",
   "execution_count": 10,
   "metadata": {},
   "outputs": [],
   "source": [
    "all_out_conceded.sort_values(by=['Name','Season'],inplace=True)"
   ]
  },
  {
   "cell_type": "code",
   "execution_count": 11,
   "metadata": {},
   "outputs": [],
   "source": [
    "team.sort_values(by=['Team','Season'],inplace=True)"
   ]
  },
  {
   "cell_type": "code",
   "execution_count": 12,
   "metadata": {},
   "outputs": [],
   "source": [
    "all_out_inflict.index = range(0,len(all_out_inflict))\n",
    "all_out_conceded.index = range(0,len(all_out_conceded))\n",
    "team.index = range(0,len(team))"
   ]
  },
  {
   "cell_type": "code",
   "execution_count": 13,
   "metadata": {},
   "outputs": [],
   "source": [
    "team['Season'] = team['Season'].replace('Overall','All Season')"
   ]
  },
  {
   "cell_type": "code",
   "execution_count": 14,
   "metadata": {},
   "outputs": [],
   "source": [
    "inflict = []\n",
    "for each in all_out_inflict.columns:\n",
    "    inflict.append('inflict-'+each)\n",
    "    \n",
    "all_out_inflict.columns = inflict"
   ]
  },
  {
   "cell_type": "code",
   "execution_count": 15,
   "metadata": {},
   "outputs": [],
   "source": [
    "conceded = []\n",
    "for each in all_out_conceded.columns:\n",
    "    conceded.append('conceded-'+each)\n",
    "    \n",
    "all_out_conceded.columns = conceded"
   ]
  },
  {
   "cell_type": "code",
   "execution_count": 16,
   "metadata": {},
   "outputs": [],
   "source": [
    "df = pd.concat([all_out_inflict,all_out_conceded,team],sort=False,axis=1)"
   ]
  },
  {
   "cell_type": "code",
   "execution_count": 17,
   "metadata": {},
   "outputs": [
    {
     "data": {
      "text/plain": [
       "(80, 43)"
      ]
     },
     "execution_count": 17,
     "metadata": {},
     "output_type": "execute_result"
    }
   ],
   "source": [
    "df.shape"
   ]
  },
  {
   "cell_type": "code",
   "execution_count": 18,
   "metadata": {},
   "outputs": [],
   "source": [
    "df['super-performance'] = df['no. of super raids'] + df['no. of super tackles'] + df['inflict-Total Points'] - df['conceded-Total Points']"
   ]
  },
  {
   "cell_type": "code",
   "execution_count": 19,
   "metadata": {},
   "outputs": [],
   "source": [
    "team_name = df['Team']"
   ]
  },
  {
   "cell_type": "code",
   "execution_count": 20,
   "metadata": {},
   "outputs": [],
   "source": [
    "df.drop(['Team','inflict-Name','conceded-Name','conceded-Season','inflict-Season','inflict-Points',\n",
    "'conceded-Points','no. of super raids','no. of super tackles','inflict-Total Points',\n",
    "         'conceded-Total Points','conceded-Matches Played','Highest Score_Team opposition',\n",
    "        'Biggest Winning Margin_Team1','Biggest Winning Margin_Team2','all outs inflicted',\n",
    "        'unsuccesful tackles','successful tackles'],axis=1,inplace=True)"
   ]
  },
  {
   "cell_type": "code",
   "execution_count": 21,
   "metadata": {},
   "outputs": [],
   "source": [
    "df['success raid %'] = df['success raid %'].apply(lambda x : int(x[:-1]))"
   ]
  },
  {
   "cell_type": "code",
   "execution_count": 22,
   "metadata": {},
   "outputs": [],
   "source": [
    "df['successful tackle %'] = df['successful tackle %'].apply(lambda x : int(x[:-1]))"
   ]
  },
  {
   "cell_type": "code",
   "execution_count": 23,
   "metadata": {},
   "outputs": [],
   "source": [
    "df['Finishing Position'] = df['Finishing Position'].str.replace('-','0')\n",
    "df['Finishing Position'] = df['Finishing Position'].astype('int')"
   ]
  },
  {
   "cell_type": "code",
   "execution_count": 24,
   "metadata": {},
   "outputs": [
    {
     "data": {
      "text/plain": [
       "(80, 26)"
      ]
     },
     "execution_count": 24,
     "metadata": {},
     "output_type": "execute_result"
    }
   ],
   "source": [
    "df.shape"
   ]
  },
  {
   "cell_type": "code",
   "execution_count": 25,
   "metadata": {},
   "outputs": [
    {
     "name": "stdout",
     "output_type": "stream",
     "text": [
      "Train Data Shape is:  (68, 24)\n",
      "Test Data Shape is:  (12, 24)\n"
     ]
    }
   ],
   "source": [
    "# Creating train and test. We will test the model on Season 7 data\n",
    "\n",
    "train=df[df['Season']!='Season 7']\n",
    "\n",
    "test=df[df['Season']=='Season 7']\n",
    "\n",
    "# Dropping Season column as it is no more required. The test and train data has been split basis the season\n",
    "y_train=train['super-performance']\n",
    "train=train.drop(['Season','super-performance'], axis=1)\n",
    "\n",
    "\n",
    "y_test=test['super-performance']\n",
    "test=test.drop(['Season','super-performance'], axis=1)\n",
    "\n",
    "print(\"Train Data Shape is: \", train.shape)\n",
    "print(\"Test Data Shape is: \", test.shape)"
   ]
  },
  {
   "cell_type": "code",
   "execution_count": 26,
   "metadata": {},
   "outputs": [
    {
     "name": "stdout",
     "output_type": "stream",
     "text": [
      "Train Shape is (68, 24)\n",
      "y_train Shape is (68,)\n"
     ]
    }
   ],
   "source": [
    "print('Train Shape is', train.shape)\n",
    "print('y_train Shape is', y_train.shape)"
   ]
  },
  {
   "cell_type": "code",
   "execution_count": 27,
   "metadata": {},
   "outputs": [
    {
     "name": "stdout",
     "output_type": "stream",
     "text": [
      "Test Shape is (12, 24)\n",
      "y_test Shape is (12,)\n"
     ]
    }
   ],
   "source": [
    "print('Test Shape is', test.shape)\n",
    "print('y_test Shape is', y_test.shape)"
   ]
  },
  {
   "cell_type": "code",
   "execution_count": 28,
   "metadata": {},
   "outputs": [
    {
     "data": {
      "text/html": [
       "<div>\n",
       "<style scoped>\n",
       "    .dataframe tbody tr th:only-of-type {\n",
       "        vertical-align: middle;\n",
       "    }\n",
       "\n",
       "    .dataframe tbody tr th {\n",
       "        vertical-align: top;\n",
       "    }\n",
       "\n",
       "    .dataframe thead th {\n",
       "        text-align: right;\n",
       "    }\n",
       "</style>\n",
       "<table border=\"1\" class=\"dataframe\">\n",
       "  <thead>\n",
       "    <tr style=\"text-align: right;\">\n",
       "      <th></th>\n",
       "      <th>inflict-Rank</th>\n",
       "      <th>inflict-Matches Played</th>\n",
       "      <th>conceded-Rank</th>\n",
       "      <th>Matches Played</th>\n",
       "      <th>Wins</th>\n",
       "      <th>Draws</th>\n",
       "      <th>Losses</th>\n",
       "      <th>Finishing Position</th>\n",
       "      <th>Highest Score</th>\n",
       "      <th>Biggest Winning Margin</th>\n",
       "      <th>...</th>\n",
       "      <th>unsuccessful raid</th>\n",
       "      <th>empty raids</th>\n",
       "      <th>success raid %</th>\n",
       "      <th>raid touch points</th>\n",
       "      <th>raid bonus points</th>\n",
       "      <th>total raid points</th>\n",
       "      <th>total tackles</th>\n",
       "      <th>successful tackle %</th>\n",
       "      <th>total all out points</th>\n",
       "      <th>total defence points</th>\n",
       "    </tr>\n",
       "  </thead>\n",
       "  <tbody>\n",
       "    <tr>\n",
       "      <th>0</th>\n",
       "      <td>0.810263</td>\n",
       "      <td>2.562144</td>\n",
       "      <td>0.177663</td>\n",
       "      <td>2.580274</td>\n",
       "      <td>2.341810</td>\n",
       "      <td>3.240593</td>\n",
       "      <td>2.401163</td>\n",
       "      <td>-1.358687</td>\n",
       "      <td>0.128452</td>\n",
       "      <td>1.202559</td>\n",
       "      <td>...</td>\n",
       "      <td>2.449546</td>\n",
       "      <td>2.661770</td>\n",
       "      <td>-0.016508</td>\n",
       "      <td>2.476751</td>\n",
       "      <td>2.539493</td>\n",
       "      <td>2.498002</td>\n",
       "      <td>2.520829</td>\n",
       "      <td>-0.310699</td>\n",
       "      <td>2.086597</td>\n",
       "      <td>2.313941</td>\n",
       "    </tr>\n",
       "    <tr>\n",
       "      <th>1</th>\n",
       "      <td>0.810263</td>\n",
       "      <td>-0.559165</td>\n",
       "      <td>-1.094031</td>\n",
       "      <td>-0.560119</td>\n",
       "      <td>-0.668456</td>\n",
       "      <td>-0.615713</td>\n",
       "      <td>-0.376742</td>\n",
       "      <td>1.502973</td>\n",
       "      <td>-0.609696</td>\n",
       "      <td>-1.698020</td>\n",
       "      <td>...</td>\n",
       "      <td>-0.523829</td>\n",
       "      <td>-0.681408</td>\n",
       "      <td>1.587110</td>\n",
       "      <td>-0.513317</td>\n",
       "      <td>-0.490463</td>\n",
       "      <td>-0.509969</td>\n",
       "      <td>-0.485664</td>\n",
       "      <td>-1.806452</td>\n",
       "      <td>-0.664640</td>\n",
       "      <td>-0.590416</td>\n",
       "    </tr>\n",
       "    <tr>\n",
       "      <th>2</th>\n",
       "      <td>0.810263</td>\n",
       "      <td>-0.559165</td>\n",
       "      <td>-0.458184</td>\n",
       "      <td>-0.560119</td>\n",
       "      <td>-0.668456</td>\n",
       "      <td>-0.615713</td>\n",
       "      <td>-0.376742</td>\n",
       "      <td>1.094164</td>\n",
       "      <td>-0.978771</td>\n",
       "      <td>-1.921142</td>\n",
       "      <td>...</td>\n",
       "      <td>-0.508797</td>\n",
       "      <td>-0.491121</td>\n",
       "      <td>-1.780487</td>\n",
       "      <td>-0.652063</td>\n",
       "      <td>-0.710025</td>\n",
       "      <td>-0.666618</td>\n",
       "      <td>-0.579499</td>\n",
       "      <td>0.437178</td>\n",
       "      <td>-0.688155</td>\n",
       "      <td>-0.548925</td>\n",
       "    </tr>\n",
       "    <tr>\n",
       "      <th>3</th>\n",
       "      <td>-0.478576</td>\n",
       "      <td>-0.502414</td>\n",
       "      <td>-0.458184</td>\n",
       "      <td>-0.502497</td>\n",
       "      <td>-0.367429</td>\n",
       "      <td>-0.891163</td>\n",
       "      <td>-0.500205</td>\n",
       "      <td>0.276547</td>\n",
       "      <td>-1.224820</td>\n",
       "      <td>-0.359291</td>\n",
       "      <td>...</td>\n",
       "      <td>-0.529842</td>\n",
       "      <td>-0.436974</td>\n",
       "      <td>-0.978678</td>\n",
       "      <td>-0.545490</td>\n",
       "      <td>-0.614881</td>\n",
       "      <td>-0.562185</td>\n",
       "      <td>-0.550723</td>\n",
       "      <td>0.811116</td>\n",
       "      <td>-0.523551</td>\n",
       "      <td>-0.507434</td>\n",
       "    </tr>\n",
       "    <tr>\n",
       "      <th>4</th>\n",
       "      <td>0.488053</td>\n",
       "      <td>-0.559165</td>\n",
       "      <td>-0.140260</td>\n",
       "      <td>-0.560119</td>\n",
       "      <td>-0.728661</td>\n",
       "      <td>-0.340262</td>\n",
       "      <td>-0.376742</td>\n",
       "      <td>1.911781</td>\n",
       "      <td>-1.593895</td>\n",
       "      <td>-1.363338</td>\n",
       "      <td>...</td>\n",
       "      <td>-0.586964</td>\n",
       "      <td>-0.491121</td>\n",
       "      <td>-1.299402</td>\n",
       "      <td>-0.646031</td>\n",
       "      <td>-0.600244</td>\n",
       "      <td>-0.638136</td>\n",
       "      <td>-0.564486</td>\n",
       "      <td>-0.497668</td>\n",
       "      <td>-0.664640</td>\n",
       "      <td>-0.581525</td>\n",
       "    </tr>\n",
       "  </tbody>\n",
       "</table>\n",
       "<p>5 rows × 24 columns</p>\n",
       "</div>"
      ],
      "text/plain": [
       "   inflict-Rank  inflict-Matches Played  conceded-Rank  Matches Played  \\\n",
       "0      0.810263                2.562144       0.177663        2.580274   \n",
       "1      0.810263               -0.559165      -1.094031       -0.560119   \n",
       "2      0.810263               -0.559165      -0.458184       -0.560119   \n",
       "3     -0.478576               -0.502414      -0.458184       -0.502497   \n",
       "4      0.488053               -0.559165      -0.140260       -0.560119   \n",
       "\n",
       "       Wins     Draws    Losses  Finishing Position  Highest Score  \\\n",
       "0  2.341810  3.240593  2.401163           -1.358687       0.128452   \n",
       "1 -0.668456 -0.615713 -0.376742            1.502973      -0.609696   \n",
       "2 -0.668456 -0.615713 -0.376742            1.094164      -0.978771   \n",
       "3 -0.367429 -0.891163 -0.500205            0.276547      -1.224820   \n",
       "4 -0.728661 -0.340262 -0.376742            1.911781      -1.593895   \n",
       "\n",
       "   Biggest Winning Margin  ...  unsuccessful raid  empty raids  \\\n",
       "0                1.202559  ...           2.449546     2.661770   \n",
       "1               -1.698020  ...          -0.523829    -0.681408   \n",
       "2               -1.921142  ...          -0.508797    -0.491121   \n",
       "3               -0.359291  ...          -0.529842    -0.436974   \n",
       "4               -1.363338  ...          -0.586964    -0.491121   \n",
       "\n",
       "   success raid %  raid touch points  raid bonus points  total raid points  \\\n",
       "0       -0.016508           2.476751           2.539493           2.498002   \n",
       "1        1.587110          -0.513317          -0.490463          -0.509969   \n",
       "2       -1.780487          -0.652063          -0.710025          -0.666618   \n",
       "3       -0.978678          -0.545490          -0.614881          -0.562185   \n",
       "4       -1.299402          -0.646031          -0.600244          -0.638136   \n",
       "\n",
       "   total tackles  successful tackle %  total all out points  \\\n",
       "0       2.520829            -0.310699              2.086597   \n",
       "1      -0.485664            -1.806452             -0.664640   \n",
       "2      -0.579499             0.437178             -0.688155   \n",
       "3      -0.550723             0.811116             -0.523551   \n",
       "4      -0.564486            -0.497668             -0.664640   \n",
       "\n",
       "   total defence points  \n",
       "0              2.313941  \n",
       "1             -0.590416  \n",
       "2             -0.548925  \n",
       "3             -0.507434  \n",
       "4             -0.581525  \n",
       "\n",
       "[5 rows x 24 columns]"
      ]
     },
     "execution_count": 28,
     "metadata": {},
     "output_type": "execute_result"
    }
   ],
   "source": [
    "# Scaling the features\n",
    "# storing the columns in a variable for avoiding them from lossing after scaling\n",
    "X_train_cols=train.columns\n",
    "\n",
    "scaler=StandardScaler()\n",
    "train[X_train_cols]=scaler.fit_transform(train[X_train_cols])\n",
    "\n",
    "train.head()"
   ]
  },
  {
   "cell_type": "code",
   "execution_count": 29,
   "metadata": {},
   "outputs": [
    {
     "data": {
      "text/html": [
       "<div>\n",
       "<style scoped>\n",
       "    .dataframe tbody tr th:only-of-type {\n",
       "        vertical-align: middle;\n",
       "    }\n",
       "\n",
       "    .dataframe tbody tr th {\n",
       "        vertical-align: top;\n",
       "    }\n",
       "\n",
       "    .dataframe thead th {\n",
       "        text-align: right;\n",
       "    }\n",
       "</style>\n",
       "<table border=\"1\" class=\"dataframe\">\n",
       "  <thead>\n",
       "    <tr style=\"text-align: right;\">\n",
       "      <th></th>\n",
       "      <th>inflict-Rank</th>\n",
       "      <th>inflict-Matches Played</th>\n",
       "      <th>conceded-Rank</th>\n",
       "      <th>Matches Played</th>\n",
       "      <th>Wins</th>\n",
       "      <th>Draws</th>\n",
       "      <th>Losses</th>\n",
       "      <th>Finishing Position</th>\n",
       "      <th>Highest Score</th>\n",
       "      <th>Biggest Winning Margin</th>\n",
       "      <th>...</th>\n",
       "      <th>unsuccessful raid</th>\n",
       "      <th>empty raids</th>\n",
       "      <th>success raid %</th>\n",
       "      <th>raid touch points</th>\n",
       "      <th>raid bonus points</th>\n",
       "      <th>total raid points</th>\n",
       "      <th>total tackles</th>\n",
       "      <th>successful tackle %</th>\n",
       "      <th>total all out points</th>\n",
       "      <th>total defence points</th>\n",
       "    </tr>\n",
       "  </thead>\n",
       "  <tbody>\n",
       "    <tr>\n",
       "      <th>7</th>\n",
       "      <td>-1.122996</td>\n",
       "      <td>-0.417287</td>\n",
       "      <td>1.767282</td>\n",
       "      <td>-0.444875</td>\n",
       "      <td>-0.247019</td>\n",
       "      <td>-0.064812</td>\n",
       "      <td>-0.685398</td>\n",
       "      <td>-0.541070</td>\n",
       "      <td>0.128452</td>\n",
       "      <td>1.202559</td>\n",
       "      <td>...</td>\n",
       "      <td>-0.526835</td>\n",
       "      <td>-0.511232</td>\n",
       "      <td>1.266386</td>\n",
       "      <td>-0.344410</td>\n",
       "      <td>-0.439232</td>\n",
       "      <td>-0.365979</td>\n",
       "      <td>-0.435618</td>\n",
       "      <td>0.063240</td>\n",
       "      <td>-0.241373</td>\n",
       "      <td>-0.430380</td>\n",
       "    </tr>\n",
       "    <tr>\n",
       "      <th>15</th>\n",
       "      <td>0.165843</td>\n",
       "      <td>-0.417287</td>\n",
       "      <td>-0.776108</td>\n",
       "      <td>-0.444875</td>\n",
       "      <td>-0.367429</td>\n",
       "      <td>-0.615713</td>\n",
       "      <td>-0.438473</td>\n",
       "      <td>0.276547</td>\n",
       "      <td>0.005428</td>\n",
       "      <td>0.086952</td>\n",
       "      <td>...</td>\n",
       "      <td>-0.346449</td>\n",
       "      <td>-0.580850</td>\n",
       "      <td>1.266386</td>\n",
       "      <td>-0.394680</td>\n",
       "      <td>-0.256263</td>\n",
       "      <td>-0.365979</td>\n",
       "      <td>-0.445627</td>\n",
       "      <td>0.437178</td>\n",
       "      <td>-0.476521</td>\n",
       "      <td>-0.415562</td>\n",
       "    </tr>\n",
       "    <tr>\n",
       "      <th>23</th>\n",
       "      <td>-1.445206</td>\n",
       "      <td>-0.417287</td>\n",
       "      <td>2.085205</td>\n",
       "      <td>-0.473686</td>\n",
       "      <td>-0.126608</td>\n",
       "      <td>-0.340262</td>\n",
       "      <td>-0.808861</td>\n",
       "      <td>-0.949879</td>\n",
       "      <td>0.374502</td>\n",
       "      <td>-0.024609</td>\n",
       "      <td>...</td>\n",
       "      <td>-0.553893</td>\n",
       "      <td>-0.570020</td>\n",
       "      <td>1.426748</td>\n",
       "      <td>-0.426853</td>\n",
       "      <td>-0.322132</td>\n",
       "      <td>-0.405537</td>\n",
       "      <td>-0.473152</td>\n",
       "      <td>-0.123730</td>\n",
       "      <td>-0.264888</td>\n",
       "      <td>-0.477798</td>\n",
       "    </tr>\n",
       "    <tr>\n",
       "      <th>27</th>\n",
       "      <td>0.165843</td>\n",
       "      <td>-0.388912</td>\n",
       "      <td>0.177663</td>\n",
       "      <td>-0.444875</td>\n",
       "      <td>-0.608251</td>\n",
       "      <td>-0.340262</td>\n",
       "      <td>-0.253280</td>\n",
       "      <td>2.320590</td>\n",
       "      <td>-0.363647</td>\n",
       "      <td>0.533195</td>\n",
       "      <td>...</td>\n",
       "      <td>-0.361481</td>\n",
       "      <td>-0.498856</td>\n",
       "      <td>-0.657955</td>\n",
       "      <td>-0.523371</td>\n",
       "      <td>-0.512419</td>\n",
       "      <td>-0.522628</td>\n",
       "      <td>-0.509435</td>\n",
       "      <td>1.185055</td>\n",
       "      <td>-0.523551</td>\n",
       "      <td>-0.436307</td>\n",
       "    </tr>\n",
       "    <tr>\n",
       "      <th>31</th>\n",
       "      <td>-0.478576</td>\n",
       "      <td>-0.417287</td>\n",
       "      <td>1.131434</td>\n",
       "      <td>-0.473686</td>\n",
       "      <td>-0.247019</td>\n",
       "      <td>-0.615713</td>\n",
       "      <td>-0.623667</td>\n",
       "      <td>-0.132262</td>\n",
       "      <td>0.005428</td>\n",
       "      <td>0.198512</td>\n",
       "      <td>...</td>\n",
       "      <td>-0.508797</td>\n",
       "      <td>-0.514326</td>\n",
       "      <td>0.945663</td>\n",
       "      <td>-0.408756</td>\n",
       "      <td>-0.483144</td>\n",
       "      <td>-0.426107</td>\n",
       "      <td>-0.424358</td>\n",
       "      <td>-0.123730</td>\n",
       "      <td>-0.335432</td>\n",
       "      <td>-0.430380</td>\n",
       "    </tr>\n",
       "  </tbody>\n",
       "</table>\n",
       "<p>5 rows × 24 columns</p>\n",
       "</div>"
      ],
      "text/plain": [
       "    inflict-Rank  inflict-Matches Played  conceded-Rank  Matches Played  \\\n",
       "7      -1.122996               -0.417287       1.767282       -0.444875   \n",
       "15      0.165843               -0.417287      -0.776108       -0.444875   \n",
       "23     -1.445206               -0.417287       2.085205       -0.473686   \n",
       "27      0.165843               -0.388912       0.177663       -0.444875   \n",
       "31     -0.478576               -0.417287       1.131434       -0.473686   \n",
       "\n",
       "        Wins     Draws    Losses  Finishing Position  Highest Score  \\\n",
       "7  -0.247019 -0.064812 -0.685398           -0.541070       0.128452   \n",
       "15 -0.367429 -0.615713 -0.438473            0.276547       0.005428   \n",
       "23 -0.126608 -0.340262 -0.808861           -0.949879       0.374502   \n",
       "27 -0.608251 -0.340262 -0.253280            2.320590      -0.363647   \n",
       "31 -0.247019 -0.615713 -0.623667           -0.132262       0.005428   \n",
       "\n",
       "    Biggest Winning Margin  ...  unsuccessful raid  empty raids  \\\n",
       "7                 1.202559  ...          -0.526835    -0.511232   \n",
       "15                0.086952  ...          -0.346449    -0.580850   \n",
       "23               -0.024609  ...          -0.553893    -0.570020   \n",
       "27                0.533195  ...          -0.361481    -0.498856   \n",
       "31                0.198512  ...          -0.508797    -0.514326   \n",
       "\n",
       "    success raid %  raid touch points  raid bonus points  total raid points  \\\n",
       "7         1.266386          -0.344410          -0.439232          -0.365979   \n",
       "15        1.266386          -0.394680          -0.256263          -0.365979   \n",
       "23        1.426748          -0.426853          -0.322132          -0.405537   \n",
       "27       -0.657955          -0.523371          -0.512419          -0.522628   \n",
       "31        0.945663          -0.408756          -0.483144          -0.426107   \n",
       "\n",
       "    total tackles  successful tackle %  total all out points  \\\n",
       "7       -0.435618             0.063240             -0.241373   \n",
       "15      -0.445627             0.437178             -0.476521   \n",
       "23      -0.473152            -0.123730             -0.264888   \n",
       "27      -0.509435             1.185055             -0.523551   \n",
       "31      -0.424358            -0.123730             -0.335432   \n",
       "\n",
       "    total defence points  \n",
       "7              -0.430380  \n",
       "15             -0.415562  \n",
       "23             -0.477798  \n",
       "27             -0.436307  \n",
       "31             -0.430380  \n",
       "\n",
       "[5 rows x 24 columns]"
      ]
     },
     "execution_count": 29,
     "metadata": {},
     "output_type": "execute_result"
    }
   ],
   "source": [
    "# Scaling the test data\n",
    "test[X_train_cols]=scaler.transform(test[X_train_cols])\n",
    "test.head()"
   ]
  },
  {
   "cell_type": "code",
   "execution_count": 30,
   "metadata": {},
   "outputs": [
    {
     "name": "stdout",
     "output_type": "stream",
     "text": [
      "Fitting 5 folds for each of 25 candidates, totalling 125 fits\n"
     ]
    },
    {
     "name": "stderr",
     "output_type": "stream",
     "text": [
      "[Parallel(n_jobs=1)]: Using backend SequentialBackend with 1 concurrent workers.\n",
      "[Parallel(n_jobs=1)]: Done 125 out of 125 | elapsed:    0.4s finished\n",
      "C:\\ProgramData\\Anaconda3\\lib\\site-packages\\sklearn\\model_selection\\_search.py:813: DeprecationWarning: The default of the `iid` parameter will change from True to False in version 0.22 and will be removed in 0.24. This will change numeric results when test-set sizes are unequal.\n",
      "  DeprecationWarning)\n"
     ]
    },
    {
     "data": {
      "text/plain": [
       "GridSearchCV(cv=5, error_score='raise-deprecating',\n",
       "             estimator=Lasso(alpha=1.0, copy_X=True, fit_intercept=True,\n",
       "                             max_iter=1000, normalize=False, positive=False,\n",
       "                             precompute=False, random_state=None,\n",
       "                             selection='cyclic', tol=0.0001, warm_start=False),\n",
       "             iid='warn', n_jobs=None,\n",
       "             param_grid={'alpha': [1e-11, 1e-08, 1e-07, 1e-06, 1e-05, 0.0001,\n",
       "                                   0.001, 0.01, 0.02, 0.05, 0.1, 0.2, 0.3, 0.4,\n",
       "                                   0.5, 0.6, 0.7, 0.8, 0.9, 1, 10, 100, 500,\n",
       "                                   1000, 200]},\n",
       "             pre_dispatch='2*n_jobs', refit=True, return_train_score=True,\n",
       "             scoring='neg_mean_absolute_error', verbose=1)"
      ]
     },
     "execution_count": 30,
     "metadata": {},
     "output_type": "execute_result"
    }
   ],
   "source": [
    "# Defining alphas for identiying the optimum alphas for Lasso regression\n",
    "params = {'alpha': [0.00000000001, 0.00000001, 0.0000001, 0.000001, 0.00001, 0.0001, 0.001,0.01,0.02,0.05,0.1,0.2,0.3,0.4,0.5,\n",
    "                    0.6,0.7,0.8,0.9,1,10,100,500,1000,200]}\n",
    "\n",
    "# Lasso Modelling\n",
    "lasso = Lasso()\n",
    "\n",
    "# cross validation\n",
    "folds=5\n",
    "lasso_cv = GridSearchCV(estimator = lasso, \n",
    "                        param_grid = params, \n",
    "                        scoring= 'neg_mean_absolute_error', \n",
    "                        cv = folds, \n",
    "                        return_train_score=True,\n",
    "                        verbose = 1)            \n",
    "\n",
    "lasso_cv.fit(train, y_train) "
   ]
  },
  {
   "cell_type": "code",
   "execution_count": 31,
   "metadata": {},
   "outputs": [
    {
     "data": {
      "text/html": [
       "<div>\n",
       "<style scoped>\n",
       "    .dataframe tbody tr th:only-of-type {\n",
       "        vertical-align: middle;\n",
       "    }\n",
       "\n",
       "    .dataframe tbody tr th {\n",
       "        vertical-align: top;\n",
       "    }\n",
       "\n",
       "    .dataframe thead th {\n",
       "        text-align: right;\n",
       "    }\n",
       "</style>\n",
       "<table border=\"1\" class=\"dataframe\">\n",
       "  <thead>\n",
       "    <tr style=\"text-align: right;\">\n",
       "      <th></th>\n",
       "      <th>mean_fit_time</th>\n",
       "      <th>std_fit_time</th>\n",
       "      <th>mean_score_time</th>\n",
       "      <th>std_score_time</th>\n",
       "      <th>param_alpha</th>\n",
       "      <th>params</th>\n",
       "      <th>split0_test_score</th>\n",
       "      <th>split1_test_score</th>\n",
       "      <th>split2_test_score</th>\n",
       "      <th>split3_test_score</th>\n",
       "      <th>...</th>\n",
       "      <th>mean_test_score</th>\n",
       "      <th>std_test_score</th>\n",
       "      <th>rank_test_score</th>\n",
       "      <th>split0_train_score</th>\n",
       "      <th>split1_train_score</th>\n",
       "      <th>split2_train_score</th>\n",
       "      <th>split3_train_score</th>\n",
       "      <th>split4_train_score</th>\n",
       "      <th>mean_train_score</th>\n",
       "      <th>std_train_score</th>\n",
       "    </tr>\n",
       "  </thead>\n",
       "  <tbody>\n",
       "    <tr>\n",
       "      <th>0</th>\n",
       "      <td>0.009754</td>\n",
       "      <td>0.009750</td>\n",
       "      <td>0.000796</td>\n",
       "      <td>0.001159</td>\n",
       "      <td>1e-11</td>\n",
       "      <td>{'alpha': 1e-11}</td>\n",
       "      <td>-11.525575</td>\n",
       "      <td>-10.823069</td>\n",
       "      <td>-12.994733</td>\n",
       "      <td>-8.238150</td>\n",
       "      <td>...</td>\n",
       "      <td>-10.256781</td>\n",
       "      <td>2.081946</td>\n",
       "      <td>20</td>\n",
       "      <td>-5.468443</td>\n",
       "      <td>-5.301675</td>\n",
       "      <td>-4.672072</td>\n",
       "      <td>-5.126681</td>\n",
       "      <td>-5.503098</td>\n",
       "      <td>-5.214394</td>\n",
       "      <td>0.302429</td>\n",
       "    </tr>\n",
       "    <tr>\n",
       "      <th>1</th>\n",
       "      <td>0.003124</td>\n",
       "      <td>0.006249</td>\n",
       "      <td>0.000000</td>\n",
       "      <td>0.000000</td>\n",
       "      <td>1e-08</td>\n",
       "      <td>{'alpha': 1e-08}</td>\n",
       "      <td>-11.525575</td>\n",
       "      <td>-10.823068</td>\n",
       "      <td>-12.994733</td>\n",
       "      <td>-8.238150</td>\n",
       "      <td>...</td>\n",
       "      <td>-10.256781</td>\n",
       "      <td>2.081946</td>\n",
       "      <td>19</td>\n",
       "      <td>-5.468443</td>\n",
       "      <td>-5.301675</td>\n",
       "      <td>-4.672072</td>\n",
       "      <td>-5.126681</td>\n",
       "      <td>-5.503098</td>\n",
       "      <td>-5.214394</td>\n",
       "      <td>0.302429</td>\n",
       "    </tr>\n",
       "    <tr>\n",
       "      <th>2</th>\n",
       "      <td>0.003797</td>\n",
       "      <td>0.006193</td>\n",
       "      <td>0.000200</td>\n",
       "      <td>0.000400</td>\n",
       "      <td>1e-07</td>\n",
       "      <td>{'alpha': 1e-07}</td>\n",
       "      <td>-11.525572</td>\n",
       "      <td>-10.823065</td>\n",
       "      <td>-12.994727</td>\n",
       "      <td>-8.238149</td>\n",
       "      <td>...</td>\n",
       "      <td>-10.256779</td>\n",
       "      <td>2.081943</td>\n",
       "      <td>18</td>\n",
       "      <td>-5.468442</td>\n",
       "      <td>-5.301675</td>\n",
       "      <td>-4.672072</td>\n",
       "      <td>-5.126681</td>\n",
       "      <td>-5.503098</td>\n",
       "      <td>-5.214394</td>\n",
       "      <td>0.302428</td>\n",
       "    </tr>\n",
       "    <tr>\n",
       "      <th>3</th>\n",
       "      <td>0.002791</td>\n",
       "      <td>0.000399</td>\n",
       "      <td>0.000599</td>\n",
       "      <td>0.000489</td>\n",
       "      <td>1e-06</td>\n",
       "      <td>{'alpha': 1e-06}</td>\n",
       "      <td>-11.525544</td>\n",
       "      <td>-10.823034</td>\n",
       "      <td>-12.994666</td>\n",
       "      <td>-8.238146</td>\n",
       "      <td>...</td>\n",
       "      <td>-10.256757</td>\n",
       "      <td>2.081917</td>\n",
       "      <td>17</td>\n",
       "      <td>-5.468434</td>\n",
       "      <td>-5.301677</td>\n",
       "      <td>-4.672071</td>\n",
       "      <td>-5.126684</td>\n",
       "      <td>-5.503093</td>\n",
       "      <td>-5.214392</td>\n",
       "      <td>0.302426</td>\n",
       "    </tr>\n",
       "    <tr>\n",
       "      <th>4</th>\n",
       "      <td>0.003568</td>\n",
       "      <td>0.006102</td>\n",
       "      <td>0.000000</td>\n",
       "      <td>0.000000</td>\n",
       "      <td>1e-05</td>\n",
       "      <td>{'alpha': 1e-05}</td>\n",
       "      <td>-11.525262</td>\n",
       "      <td>-10.822720</td>\n",
       "      <td>-12.994062</td>\n",
       "      <td>-8.238110</td>\n",
       "      <td>...</td>\n",
       "      <td>-10.256538</td>\n",
       "      <td>2.081658</td>\n",
       "      <td>16</td>\n",
       "      <td>-5.468355</td>\n",
       "      <td>-5.301699</td>\n",
       "      <td>-4.672065</td>\n",
       "      <td>-5.126705</td>\n",
       "      <td>-5.503051</td>\n",
       "      <td>-5.214375</td>\n",
       "      <td>0.302408</td>\n",
       "    </tr>\n",
       "  </tbody>\n",
       "</table>\n",
       "<p>5 rows × 21 columns</p>\n",
       "</div>"
      ],
      "text/plain": [
       "   mean_fit_time  std_fit_time  mean_score_time  std_score_time param_alpha  \\\n",
       "0       0.009754      0.009750         0.000796        0.001159       1e-11   \n",
       "1       0.003124      0.006249         0.000000        0.000000       1e-08   \n",
       "2       0.003797      0.006193         0.000200        0.000400       1e-07   \n",
       "3       0.002791      0.000399         0.000599        0.000489       1e-06   \n",
       "4       0.003568      0.006102         0.000000        0.000000       1e-05   \n",
       "\n",
       "             params  split0_test_score  split1_test_score  split2_test_score  \\\n",
       "0  {'alpha': 1e-11}         -11.525575         -10.823069         -12.994733   \n",
       "1  {'alpha': 1e-08}         -11.525575         -10.823068         -12.994733   \n",
       "2  {'alpha': 1e-07}         -11.525572         -10.823065         -12.994727   \n",
       "3  {'alpha': 1e-06}         -11.525544         -10.823034         -12.994666   \n",
       "4  {'alpha': 1e-05}         -11.525262         -10.822720         -12.994062   \n",
       "\n",
       "   split3_test_score  ...  mean_test_score  std_test_score  rank_test_score  \\\n",
       "0          -8.238150  ...       -10.256781        2.081946               20   \n",
       "1          -8.238150  ...       -10.256781        2.081946               19   \n",
       "2          -8.238149  ...       -10.256779        2.081943               18   \n",
       "3          -8.238146  ...       -10.256757        2.081917               17   \n",
       "4          -8.238110  ...       -10.256538        2.081658               16   \n",
       "\n",
       "   split0_train_score  split1_train_score  split2_train_score  \\\n",
       "0           -5.468443           -5.301675           -4.672072   \n",
       "1           -5.468443           -5.301675           -4.672072   \n",
       "2           -5.468442           -5.301675           -4.672072   \n",
       "3           -5.468434           -5.301677           -4.672071   \n",
       "4           -5.468355           -5.301699           -4.672065   \n",
       "\n",
       "   split3_train_score  split4_train_score  mean_train_score  std_train_score  \n",
       "0           -5.126681           -5.503098         -5.214394         0.302429  \n",
       "1           -5.126681           -5.503098         -5.214394         0.302429  \n",
       "2           -5.126681           -5.503098         -5.214394         0.302428  \n",
       "3           -5.126684           -5.503093         -5.214392         0.302426  \n",
       "4           -5.126705           -5.503051         -5.214375         0.302408  \n",
       "\n",
       "[5 rows x 21 columns]"
      ]
     },
     "execution_count": 31,
     "metadata": {},
     "output_type": "execute_result"
    }
   ],
   "source": [
    "# Printing the model output\n",
    "\n",
    "lasso_cv_results = pd.DataFrame(lasso_cv.cv_results_)\n",
    "lasso_cv_results.head()"
   ]
  },
  {
   "cell_type": "code",
   "execution_count": 32,
   "metadata": {},
   "outputs": [
    {
     "data": {
      "image/png": "[encoded data removed]",
      "text/plain": [
       "<Figure size 2400x960 with 1 Axes>"
      ]
     },
     "metadata": {},
     "output_type": "display_data"
    }
   ],
   "source": [
    "# plotting mean test and train scoes with alpha \n",
    "lasso_cv_results['param_alpha'] = lasso_cv_results['param_alpha'].astype('float32')\n",
    "\n",
    "# plotting\n",
    "plt.figure(num=None, figsize=(20, 8), dpi=120, facecolor='w', edgecolor='k')\n",
    "plt.plot(lasso_cv_results['param_alpha'], lasso_cv_results['mean_train_score'])\n",
    "plt.plot(lasso_cv_results['param_alpha'], lasso_cv_results['mean_test_score'])\n",
    "plt.xlabel('alpha')\n",
    "plt.ylabel('Negative Mean Absolute Error')\n",
    "\n",
    "plt.title(\"Lasso - Negative Mean Absolute Error and alpha\")\n",
    "plt.legend(['train score', 'test score'], loc='upper left')\n",
    "plt.grid()\n",
    "plt.show()"
   ]
  },
  {
   "cell_type": "code",
   "execution_count": 33,
   "metadata": {},
   "outputs": [
    {
     "name": "stdout",
     "output_type": "stream",
     "text": [
      "1\n"
     ]
    }
   ],
   "source": [
    "print(lasso_cv.best_params_['alpha'])"
   ]
  },
  {
   "cell_type": "code",
   "execution_count": 34,
   "metadata": {},
   "outputs": [
    {
     "data": {
      "text/plain": [
       "Lasso(alpha=1, copy_X=True, fit_intercept=True, max_iter=1000, normalize=False,\n",
       "      positive=False, precompute=False, random_state=None, selection='cyclic',\n",
       "      tol=0.0001, warm_start=False)"
      ]
     },
     "execution_count": 34,
     "metadata": {},
     "output_type": "execute_result"
    }
   ],
   "source": [
    "alpha = lasso_cv.best_params_['alpha']\n",
    "lasso = Lasso(alpha=alpha)\n",
    "lasso.fit(train, y_train) "
   ]
  },
  {
   "cell_type": "code",
   "execution_count": 35,
   "metadata": {},
   "outputs": [
    {
     "data": {
      "text/plain": [
       "0.9665842111657369"
      ]
     },
     "execution_count": 35,
     "metadata": {},
     "output_type": "execute_result"
    }
   ],
   "source": [
    "lasso.score(train, y_train)"
   ]
  },
  {
   "cell_type": "code",
   "execution_count": 36,
   "metadata": {},
   "outputs": [
    {
     "data": {
      "text/plain": [
       "0.6547501173356074"
      ]
     },
     "execution_count": 36,
     "metadata": {},
     "output_type": "execute_result"
    }
   ],
   "source": [
    "lasso.score(test, y_test)"
   ]
  },
  {
   "cell_type": "code",
   "execution_count": 37,
   "metadata": {},
   "outputs": [
    {
     "name": "stdout",
     "output_type": "stream",
     "text": [
      "0.6547501173356074\n",
      "6.746513385785956\n"
     ]
    }
   ],
   "source": [
    "y_test_pred=lasso.predict(test)\n",
    "print(r2_score(y_test,y_test_pred))\n",
    "print(np.sqrt(mean_squared_error(y_test,y_test_pred)))"
   ]
  },
  {
   "cell_type": "code",
   "execution_count": 38,
   "metadata": {},
   "outputs": [
    {
     "data": {
      "text/plain": [
       "<matplotlib.collections.PathCollection at 0x29d75a5e608>"
      ]
     },
     "execution_count": 38,
     "metadata": {},
     "output_type": "execute_result"
    },
    {
     "data": {
      "image/png": "[encoded data removed]",
      "text/plain": [
       "<Figure size 432x288 with 1 Axes>"
      ]
     },
     "metadata": {
      "needs_background": "light"
     },
     "output_type": "display_data"
    }
   ],
   "source": [
    "plt.scatter(y_test,y_test_pred)"
   ]
  },
  {
   "cell_type": "code",
   "execution_count": 39,
   "metadata": {},
   "outputs": [
    {
     "name": "stdout",
     "output_type": "stream",
     "text": [
      "total all out points                  39.116912\n",
      "Wins                                   9.043711\n",
      "Highest Score                          2.788087\n",
      "Draws                                  1.836142\n",
      "successful tackle %                    1.767160\n",
      "inflict-Rank                           1.293838\n",
      "Biggest Winning Margin_Team1_Score     0.023063\n",
      "inflict-Matches Played                 0.000000\n",
      "conceded-Rank                          0.000000\n",
      "Matches Played                         0.000000\n",
      "Losses                                 0.000000\n",
      "Finishing Position                     0.000000\n",
      "Biggest Winning Margin                 0.000000\n",
      "total defence points                   0.000000\n",
      "Total Raids                            0.000000\n",
      "Successful Raids                       0.000000\n",
      "unsuccessful raid                      0.000000\n",
      "empty raids                            0.000000\n",
      "success raid %                         0.000000\n",
      "raid touch points                      0.000000\n",
      "raid bonus points                      0.000000\n",
      "total raid points                      0.000000\n",
      "total tackles                          0.000000\n",
      "Biggest Winning Margin_Team2_Score     0.000000\n",
      "dtype: float64\n"
     ]
    }
   ],
   "source": [
    "features = np.abs(pd.Series(dict(zip(train.columns,lasso.coef_)))).sort_values(ascending=False)\n",
    "print(features)"
   ]
  },
  {
   "cell_type": "code",
   "execution_count": 40,
   "metadata": {},
   "outputs": [
    {
     "data": {
      "text/html": [
       "<div>\n",
       "<style scoped>\n",
       "    .dataframe tbody tr th:only-of-type {\n",
       "        vertical-align: middle;\n",
       "    }\n",
       "\n",
       "    .dataframe tbody tr th {\n",
       "        vertical-align: top;\n",
       "    }\n",
       "\n",
       "    .dataframe thead th {\n",
       "        text-align: right;\n",
       "    }\n",
       "</style>\n",
       "<table border=\"1\" class=\"dataframe\">\n",
       "  <thead>\n",
       "    <tr style=\"text-align: right;\">\n",
       "      <th></th>\n",
       "      <th>Team</th>\n",
       "      <th>Super Performance Points</th>\n",
       "    </tr>\n",
       "  </thead>\n",
       "  <tbody>\n",
       "    <tr>\n",
       "      <th>0</th>\n",
       "      <td>bengal-warriors</td>\n",
       "      <td>36</td>\n",
       "    </tr>\n",
       "    <tr>\n",
       "      <th>2</th>\n",
       "      <td>dabang-delhi-kc</td>\n",
       "      <td>36</td>\n",
       "    </tr>\n",
       "    <tr>\n",
       "      <th>6</th>\n",
       "      <td>patna-pirates</td>\n",
       "      <td>32</td>\n",
       "    </tr>\n",
       "    <tr>\n",
       "      <th>4</th>\n",
       "      <td>haryana-steelers</td>\n",
       "      <td>30</td>\n",
       "    </tr>\n",
       "    <tr>\n",
       "      <th>10</th>\n",
       "      <td>u-mumba</td>\n",
       "      <td>30</td>\n",
       "    </tr>\n",
       "  </tbody>\n",
       "</table>\n",
       "</div>"
      ],
      "text/plain": [
       "                Team  Super Performance Points\n",
       "0    bengal-warriors                        36\n",
       "2    dabang-delhi-kc                        36\n",
       "6      patna-pirates                        32\n",
       "4   haryana-steelers                        30\n",
       "10           u-mumba                        30"
      ]
     },
     "execution_count": 40,
     "metadata": {},
     "output_type": "execute_result"
    }
   ],
   "source": [
    "super_performance = pd.DataFrame(np.array([team_name.loc[test.index].values,y_test_pred]).T,columns=['Team','Super Performance Points'])\n",
    "super_performance['Super Performance Points'] = super_performance['Super Performance Points'].astype('int')\n",
    "super_performance.sort_values(by='Super Performance Points',ascending=False).head()"
   ]
  }
 ],
 "metadata": {
  "kernelspec": {
   "display_name": "Python 3",
   "language": "python",
   "name": "python3"
  },
  "language_info": {
   "codemirror_mode": {
    "name": "ipython",
    "version": 3
   },
   "file_extension": ".py",
   "mimetype": "text/x-python",
   "name": "python",
   "nbconvert_exporter": "python",
   "pygments_lexer": "ipython3",
   "version": "3.7.4"
  },
  "varInspector": {
   "cols": {
    "lenName": 16,
    "lenType": 16,
    "lenVar": 40
   },
   "kernels_config": {
    "python": {
     "delete_cmd_postfix": "",
     "delete_cmd_prefix": "del ",
     "library": "var_list.py",
     "varRefreshCmd": "print(var_dic_list())"
    },
    "r": {
     "delete_cmd_postfix": ") ",
     "delete_cmd_prefix": "rm(",
     "library": "var_list.r",
     "varRefreshCmd": "cat(var_dic_list()) "
    }
   },
   "types_to_exclude": [
    "module",
    "function",
    "builtin_function_or_method",
    "instance",
    "_Feature"
   ],
   "window_display": false
  }
 },
 "nbformat": 4,
 "nbformat_minor": 2
}
